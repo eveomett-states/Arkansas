{
 "cells": [
  {
   "cell_type": "code",
   "execution_count": 1,
   "metadata": {},
   "outputs": [],
   "source": [
    "import pandas as pd\n",
    "import geopandas as gpd\n",
    "import maup\n",
    "import time\n",
    "from maup import smart_repair\n",
    "from gerrychain import Graph\n",
    "\n",
    "maup.progress.enabled = True"
   ]
  },
  {
   "cell_type": "code",
   "execution_count": 2,
   "metadata": {},
   "outputs": [],
   "source": [
    "import warnings\n",
    "warnings.filterwarnings(\"ignore\")"
   ]
  },
  {
   "cell_type": "code",
   "execution_count": 3,
   "metadata": {},
   "outputs": [],
   "source": [
    "# Arkansas\n",
    "state_ab = \"ar\""
   ]
  },
  {
   "cell_type": "markdown",
   "metadata": {},
   "source": [
    "## Data\n",
    "1. Download all the data in directory \"tn_data\"\n",
    "2. Extract them all"
   ]
  },
  {
   "cell_type": "code",
   "execution_count": 4,
   "metadata": {},
   "outputs": [],
   "source": [
    "data_folder = state_ab + \"_data/\"\n",
    "population1_data = \"./{}{}_pl2020_b/{}_pl2020_p1_b.shp\".format(data_folder, state_ab, state_ab)\n",
    "population2_data = \"./{}{}_pl2020_b/{}_pl2020_p2_b.shp\".format(data_folder, state_ab, state_ab)\n",
    "vap_data =  \"./{}{}_pl2020_b/{}_pl2020_p4_b.shp\".format(data_folder, state_ab, state_ab)\n",
    "vest20_data = \"./{}{}_vest_20/{}_vest_20.shp\".format(data_folder, state_ab, state_ab)\n",
    "vest18_data = \"./{}{}_vest_18/{}_vest_18.shp\".format(data_folder, state_ab, state_ab)\n",
    "vest16_data = \"./{}{}_vest_16/{}_vest_16.shp\".format(data_folder, state_ab, state_ab)\n",
    "cd_data = \"./{}{}_cong_2021/ak_cong_2021.shp\".format(data_folder, state_ab)\n",
    "send_data = \"./{}{}_sldu_adopted_2021/SENATE_DISTRICTS_ADOPTED_2021.shp\".format(data_folder, state_ab)\n",
    "hdist_data = \"./{}{}_sldl_2021/ar_sldl_2021.shp\".format(data_folder, state_ab)\n",
    "county_data = \"./{}{}_pl2020_cnty/{}_pl2020_cnty.shp\".format(data_folder, state_ab, state_ab)"
   ]
  },
  {
   "cell_type": "code",
   "execution_count": 5,
   "metadata": {},
   "outputs": [],
   "source": [
    "def do_smart_repair(df, min_rook_length = None, snap_precision = 10):\n",
    "    # change it to the UTM it needs for smart_repair\n",
    "    df = df.to_crs(df.estimate_utm_crs())\n",
    "    df = smart_repair(df, min_rook_length = min_rook_length)\n",
    "\n",
    "    if maup.doctor(df) == False:\n",
    "        raise Exception('maup.doctor failed')\n",
    "    \n",
    "    return df"
   ]
  },
  {
   "cell_type": "code",
   "execution_count": 6,
   "metadata": {},
   "outputs": [],
   "source": [
    "def add_district(dist_df, dist_name, election_df, col_name):\n",
    "    election_df = election_df.to_crs(election_df.estimate_utm_crs())\n",
    "    dist_df = dist_df.to_crs(dist_df.estimate_utm_crs())\n",
    "    # check if it needs to be smart_repair\n",
    "    if maup.doctor(dist_df) != True:\n",
    "        dist_df = do_smart_repair(dist_df)\n",
    "\n",
    "    # assign the pricincts\n",
    "    precincts_to_district_assignment = maup.assign(election_df.geometry, dist_df.geometry)\n",
    "    election_df[dist_name] = precincts_to_district_assignment\n",
    "    for precinct_index in range(len(election_df)):\n",
    "        election_df.at[precinct_index, dist_name] = dist_df.at[election_df.at[precinct_index, dist_name], col_name]\n",
    "\n",
    "    return election_df"
   ]
  },
  {
   "cell_type": "code",
   "execution_count": 7,
   "metadata": {},
   "outputs": [],
   "source": [
    "def rename(original, year):\n",
    "    party = original[6]\n",
    "    if party == 'R' or party == 'D':\n",
    "        return original[3:6] + year + original[6]\n",
    "    else:\n",
    "        return original[3:6] + year + 'O'"
   ]
  },
  {
   "cell_type": "code",
   "execution_count": 8,
   "metadata": {},
   "outputs": [],
   "source": [
    "pop_col = ['TOTPOP', 'HISP', 'NH_WHITE', 'NH_BLACK', 'NH_AMIN', 'NH_ASIAN', 'NH_NHPI', 'NH_OTHER', 'NH_2MORE', 'H_WHITE', 'H_BLACK', 'H_AMIN', 'H_ASIAN', 'H_NHPI', 'H_OTHER', 'H_2MORE', 'VAP', 'HVAP', 'WVAP', 'BVAP', 'AMINVAP', 'ASIANVAP', 'NHPIVAP', 'OTHERVAP', '2MOREVAP']"
   ]
  },
  {
   "cell_type": "code",
   "execution_count": 9,
   "metadata": {},
   "outputs": [],
   "source": [
    "def check_population(population, df):\n",
    "    pop_check = pd.DataFrame({\n",
    "        'pop_col': pop_col,\n",
    "        'population_df': population[pop_col].sum(), \n",
    "        'vest_base': df[pop_col].sum(),\n",
    "        'equal': [x == y for x, y in zip(population[pop_col].sum(), df[pop_col].sum())]\n",
    "    })\n",
    "    if pop_check['equal'].mean() < 1:\n",
    "        print(pop_check)\n",
    "        raise Exception(\"population doesn't agree\")\n",
    "\n",
    "    else:\n",
    "        print(\"population agrees\")"
   ]
  },
  {
   "cell_type": "code",
   "execution_count": 10,
   "metadata": {},
   "outputs": [],
   "source": [
    "def add_vest(vest, df, year, population, start_col, snap_precision = 10):\n",
    "    df = df.to_crs(df.estimate_utm_crs())\n",
    "    vest = vest.to_crs(vest.estimate_utm_crs())\n",
    "    population = population.to_crs(population.estimate_utm_crs())\n",
    "    df_crs = df.crs\n",
    "    vest_crs = vest.crs\n",
    "    \n",
    "     # check if it needs to be smart_repair\n",
    "    if maup.doctor(vest) != True:\n",
    "        vest = do_smart_repair(vest, snap_precision = snap_precision)\n",
    "    \n",
    "    # rename the columns\n",
    "    original_col = vest.columns[start_col:-1]\n",
    "    new_col = [rename(i, year) for i in original_col]\n",
    "    rename_dict = dict(zip(original_col, new_col))\n",
    "    vest = vest.rename(columns=rename_dict)\n",
    "    vest = vest.groupby(level=0, axis=1).sum() # combine all the other party's vote into columns with sufix \"O\"\n",
    "    col_name = list(set(new_col))\n",
    "    col_name.sort()\n",
    "    \n",
    "    # make the blocks from precincts by weight\n",
    "    vest = gpd.GeoDataFrame(vest, crs=vest_crs)\n",
    "    election_in_block = population[[\"VAP\", 'geometry']] # population_df is in block scale\n",
    "    blocks_to_precincts_assignment = maup.assign(election_in_block.geometry, vest.geometry)\n",
    "    weights = election_in_block[\"VAP\"] / blocks_to_precincts_assignment.map(election_in_block[\"VAP\"].groupby(blocks_to_precincts_assignment).sum())\n",
    "    weights = weights.fillna(0)\n",
    "    prorated = maup.prorate(blocks_to_precincts_assignment, vest[col_name], weights)\n",
    "    election_in_block[col_name] = prorated\n",
    "    \n",
    "    # assign blocks to precincts\n",
    "    election_in_block = gpd.GeoDataFrame(election_in_block, crs=vest_crs)\n",
    "    df = gpd.GeoDataFrame(df, crs=df_crs)\n",
    "    block_to_pricinct_assginment = maup.assign(election_in_block.geometry, df.geometry)\n",
    "    df[col_name] = election_in_block[col_name].groupby(block_to_pricinct_assginment).sum()\n",
    "    df = df.groupby(level=0, axis=1).sum()\n",
    "    df = gpd.GeoDataFrame(df, crs = df_crs)\n",
    "    # check if population agrees\n",
    "    check_population(population, df)\n",
    "    \n",
    "    return df"
   ]
  },
  {
   "cell_type": "code",
   "execution_count": 11,
   "metadata": {},
   "outputs": [],
   "source": [
    "def add_vest_base(vest, start_col, year, county = None, min_rook_length = None, snap_precision = 10):\n",
    "    vest = vest.to_crs(vest.estimate_utm_crs())\n",
    "    vest_crs = vest.crs\n",
    "    original_col = vest.columns[start_col:-1]\n",
    "    new_col = [rename(i, year) for i in original_col]\n",
    "    rename_dict = dict(zip(original_col, new_col))\n",
    "    vest = vest.rename(columns=rename_dict)\n",
    "    vest = vest.groupby(level=0, axis=1).sum()\n",
    "    vest = gpd.GeoDataFrame(vest, crs=vest_crs)\n",
    "\n",
    "    if county is not None:\n",
    "        county = county.to_crs(county.estimate_utm_crs())\n",
    "        vest = smart_repair(vest, nest_within_regions = county, min_rook_length = min_rook_length, snap_precision = snap_precision) # nest precincts within counties\n",
    "\n",
    "    else:\n",
    "        vest = smart_repair(vest, min_rook_length = min_rook_length, snap_precision = snap_precision) \n",
    "    \n",
    "    return vest"
   ]
  },
  {
   "cell_type": "code",
   "execution_count": 12,
   "metadata": {},
   "outputs": [],
   "source": [
    "def check_small_boundary_lengths(vest_base):\n",
    "    import copy\n",
    "    vest_base = vest_base.to_crs(vest_base.estimate_utm_crs())\n",
    "\n",
    "    boundaries = copy.deepcopy(vest_base)\n",
    "    boundaries[\"geometry\"] = boundaries.geometry.boundary  # get boundaries\n",
    "    neighbors = gpd.sjoin(boundaries, vest_base, predicate=\"intersects\") # find boundaries that intersect\n",
    "    neighbors = neighbors[neighbors.index != neighbors.index_right] # remove boundaries of a region with itself\n",
    "\n",
    "    # compute shared border length using intersection\n",
    "    borders = list(neighbors.apply(\n",
    "        lambda row: row.geometry.intersection(vest_base.loc[row.index_right, \"geometry\"]).length, axis=1\n",
    "    ))\n",
    "\n",
    "    borders.sort()\n",
    "    \n",
    "    return borders"
   ]
  },
  {
   "cell_type": "markdown",
   "metadata": {},
   "source": [
    "### Read the census data"
   ]
  },
  {
   "cell_type": "code",
   "execution_count": 13,
   "metadata": {},
   "outputs": [],
   "source": [
    "population1_df = gpd.read_file(population1_data)\n",
    "population2_df = gpd.read_file(population2_data)\n",
    "vap_df = gpd.read_file(vap_data)\n",
    "county_df = gpd.read_file(county_data)"
   ]
  },
  {
   "cell_type": "code",
   "execution_count": 14,
   "metadata": {},
   "outputs": [],
   "source": [
    "population2_df = population2_df.drop(columns=['SUMLEV', 'LOGRECNO', 'GEOID', 'COUNTY', 'geometry'])\n",
    "vap_df = vap_df.drop(columns=['SUMLEV', 'LOGRECNO', 'GEOID', 'COUNTY', 'geometry'])"
   ]
  },
  {
   "cell_type": "code",
   "execution_count": 15,
   "metadata": {},
   "outputs": [],
   "source": [
    "population_df = pd.merge(population1_df, population2_df, on='GEOID20')\n",
    "population_df = pd.merge(population_df, vap_df, on='GEOID20')\n",
    "population_df = population_df.to_crs(population_df.estimate_utm_crs())"
   ]
  },
  {
   "cell_type": "code",
   "execution_count": 16,
   "metadata": {},
   "outputs": [
    {
     "name": "stderr",
     "output_type": "stream",
     "text": [
      "100%|█████████████████████████████████| 136422/136422 [00:55<00:00, 2444.22it/s]\n"
     ]
    },
    {
     "data": {
      "text/plain": [
       "True"
      ]
     },
     "execution_count": 16,
     "metadata": {},
     "output_type": "execute_result"
    }
   ],
   "source": [
    "maup.doctor(population_df)"
   ]
  },
  {
   "cell_type": "code",
   "execution_count": 17,
   "metadata": {},
   "outputs": [],
   "source": [
    "population_df['H_WHITE'] = population_df.apply(lambda t: t['P0010003'] - t['P0020005'], 1)\n",
    "population_df['H_BLACK'] = population_df.apply(lambda t: t['P0010004'] - t['P0020006'], 1)\n",
    "population_df['H_AMIN'] = population_df.apply(lambda t: t['P0010005'] - t['P0020007'], 1)\n",
    "population_df['H_ASIAN'] = population_df.apply(lambda t: t['P0010006'] - t['P0020008'], 1)\n",
    "population_df['H_NHPI'] = population_df.apply(lambda t: t['P0010007'] - t['P0020009'], 1)\n",
    "population_df['H_OTHER'] = population_df.apply(lambda t: t['P0010008'] - t['P0020010'], 1)\n",
    "population_df['H_2MORE'] = population_df.apply(lambda t: t['P0010009'] - t['P0020011'], 1)"
   ]
  },
  {
   "cell_type": "code",
   "execution_count": 18,
   "metadata": {},
   "outputs": [],
   "source": [
    "rename_dict = {'P0020001': 'TOTPOP', 'P0020002': 'HISP', 'P0020005': 'NH_WHITE', 'P0020006': 'NH_BLACK', 'P0020007': 'NH_AMIN',\n",
    "                    'P0020008': 'NH_ASIAN', 'P0020009': 'NH_NHPI', 'P0020010': 'NH_OTHER', 'P0020011': 'NH_2MORE',\n",
    "                    'P0040001': 'VAP', 'P0040002': 'HVAP', 'P0040005': 'WVAP', 'P0040006': 'BVAP', 'P0040007': 'AMINVAP',\n",
    "                                        'P0040008': 'ASIANVAP', 'P0040009': 'NHPIVAP', 'P0040010': 'OTHERVAP', 'P0040011': '2MOREVAP'}"
   ]
  },
  {
   "cell_type": "code",
   "execution_count": 19,
   "metadata": {},
   "outputs": [],
   "source": [
    "population_df.rename(columns=rename_dict, inplace = True)"
   ]
  },
  {
   "cell_type": "markdown",
   "metadata": {},
   "source": [
    "Make sure that the County shapefile is clean:"
   ]
  },
  {
   "cell_type": "code",
   "execution_count": 20,
   "metadata": {},
   "outputs": [
    {
     "name": "stderr",
     "output_type": "stream",
     "text": [
      "100%|██████████████████████████████████████████| 75/75 [00:00<00:00, 229.39it/s]\n"
     ]
    },
    {
     "data": {
      "text/plain": [
       "True"
      ]
     },
     "execution_count": 20,
     "metadata": {},
     "output_type": "execute_result"
    }
   ],
   "source": [
    "maup.doctor(county_df)"
   ]
  },
  {
   "cell_type": "markdown",
   "metadata": {},
   "source": [
    "## Read the vest 20 data\n",
    "\n",
    "Now using it as a \"base pricinct\""
   ]
  },
  {
   "cell_type": "markdown",
   "metadata": {},
   "source": [
    "## Check if vest20 can be used as base"
   ]
  },
  {
   "cell_type": "code",
   "execution_count": 21,
   "metadata": {},
   "outputs": [],
   "source": [
    "vest20 = gpd.read_file(vest20_data)"
   ]
  },
  {
   "cell_type": "code",
   "execution_count": 22,
   "metadata": {},
   "outputs": [
    {
     "data": {
      "text/plain": [
       "Index(['STATE_FIPS', 'COUNTY_FIP', 'COUNTY_NAM', 'PRECINCT', 'G20PRERTRU',\n",
       "       'G20PREDBID', 'G20PRELJOR', 'G20PREGHAW', 'G20PRECBLA', 'G20PREACAR',\n",
       "       'G20PREOMYE', 'G20PRESLAR', 'G20PREIWES', 'G20PREICOL', 'G20PREIPIE',\n",
       "       'G20PREIGAM', 'G20PREIFUE', 'G20USSRCOT', 'G20USSDHAR', 'geometry'],\n",
       "      dtype='object')"
      ]
     },
     "execution_count": 22,
     "metadata": {},
     "output_type": "execute_result"
    }
   ],
   "source": [
    "vest20.columns"
   ]
  },
  {
   "cell_type": "code",
   "execution_count": 23,
   "metadata": {},
   "outputs": [],
   "source": [
    "start_col = 4\n",
    "vest_base_data = vest20\n",
    "year = '20'"
   ]
  },
  {
   "cell_type": "code",
   "execution_count": 24,
   "metadata": {},
   "outputs": [
    {
     "name": "stderr",
     "output_type": "stream",
     "text": [
      "100%|██████████████████████████████████████████| 75/75 [00:00<00:00, 214.25it/s]\n"
     ]
    },
    {
     "name": "stdout",
     "output_type": "stream",
     "text": [
      "Snapping all geometries to a grid with precision 10^( -5 ) to avoid GEOS errors.\n"
     ]
    },
    {
     "name": "stderr",
     "output_type": "stream",
     "text": [
      "100%|██████████████████████████████████████████| 75/75 [00:00<00:00, 677.28it/s]\n",
      "100%|███████████████████████████████████████████| 75/75 [00:01<00:00, 58.49it/s]\n"
     ]
    },
    {
     "name": "stdout",
     "output_type": "stream",
     "text": [
      "Identifying overlaps...\n"
     ]
    },
    {
     "name": "stderr",
     "output_type": "stream",
     "text": [
      "100%|███████████████████████████████████| 77385/77385 [00:56<00:00, 1359.75it/s]\n"
     ]
    },
    {
     "name": "stdout",
     "output_type": "stream",
     "text": [
      "Resolving overlaps and filling gaps...\n"
     ]
    },
    {
     "name": "stderr",
     "output_type": "stream",
     "text": [
      "100%|██████████████████████████████████████████| 75/75 [00:00<00:00, 757.78it/s]\n",
      "100%|███████████████████████████████████████████| 75/75 [00:01<00:00, 57.86it/s]\n",
      "Gaps to simplify in region 0: 100%|███████████| 428/428 [00:04<00:00, 88.17it/s]\n",
      "Gaps to fill in region 0: 100%|███████████████████| 8/8 [00:00<00:00, 29.01it/s]\n",
      "Gaps to simplify in region 1: 100%|███████████| 360/360 [00:04<00:00, 80.28it/s]\n",
      "Gaps to fill in region 1: 100%|█████████████████| 16/16 [00:00<00:00, 47.34it/s]\n",
      "Gaps to simplify in region 2: 100%|█████████| 1073/1073 [00:13<00:00, 80.72it/s]\n",
      "Gaps to fill in region 2: 100%|█████████████████| 16/16 [00:00<00:00, 35.83it/s]\n",
      "Gaps to simplify in region 3: 100%|█████████| 1144/1144 [00:13<00:00, 84.42it/s]\n",
      "Gaps to fill in region 3: 100%|███████████████████| 5/5 [00:00<00:00, 29.55it/s]\n",
      "Gaps to simplify in region 4: 100%|███████████| 864/864 [00:13<00:00, 66.04it/s]\n",
      "Gaps to fill in region 4: 100%|███████████████████| 7/7 [00:00<00:00, 29.14it/s]\n",
      "Gaps to simplify in region 5: 100%|███████████| 553/553 [00:06<00:00, 80.76it/s]\n",
      "Gaps to fill in region 5: 100%|█████████████████| 14/14 [00:00<00:00, 38.86it/s]\n",
      "Gaps to simplify in region 6: 100%|█████████| 1633/1633 [00:21<00:00, 76.14it/s]\n",
      "Gaps to fill in region 6: 100%|███████████████████| 6/6 [00:00<00:00, 17.33it/s]\n",
      "Gaps to simplify in region 7: 100%|███████████| 182/182 [00:02<00:00, 68.03it/s]\n",
      "Gaps to fill in region 7: 100%|███████████████████| 5/5 [00:00<00:00, 19.40it/s]\n",
      "Gaps to simplify in region 8: 100%|█████████| 1210/1210 [00:20<00:00, 58.36it/s]\n",
      "Gaps to fill in region 8: 100%|█████████████████| 10/10 [00:00<00:00, 28.69it/s]\n",
      "Gaps to simplify in region 9: 100%|███████████| 965/965 [00:19<00:00, 50.01it/s]\n",
      "Gaps to fill in region 9: 100%|███████████████████| 9/9 [00:00<00:00, 27.07it/s]\n",
      "Gaps to simplify in region 10: 100%|█████████| 298/298 [00:02<00:00, 100.53it/s]\n",
      "Gaps to fill in region 10: 100%|██████████████████| 6/6 [00:00<00:00, 41.36it/s]\n",
      "Gaps to simplify in region 11: 100%|██████████| 127/127 [00:01<00:00, 73.07it/s]\n",
      "Gaps to fill in region 11: 100%|██████████████████| 9/9 [00:00<00:00, 26.43it/s]\n",
      "Gaps to simplify in region 12: 100%|█████████| 206/206 [00:01<00:00, 134.94it/s]\n",
      "Gaps to fill in region 12: 100%|████████████████| 11/11 [00:00<00:00, 36.76it/s]\n",
      "Gaps to simplify in region 13: 100%|██████████| 965/965 [00:10<00:00, 93.39it/s]\n",
      "Gaps to fill in region 13: 100%|████████████████| 38/38 [00:00<00:00, 73.02it/s]\n",
      "Gaps to simplify in region 14: 100%|██████████| 978/978 [00:22<00:00, 44.32it/s]\n",
      "Gaps to fill in region 14: 100%|██████████████████| 6/6 [00:00<00:00, 21.34it/s]\n",
      "Gaps to simplify in region 15: 100%|████████| 2630/2630 [01:03<00:00, 41.34it/s]\n",
      "Gaps to fill in region 15: 100%|████████████████| 11/11 [00:00<00:00, 30.67it/s]\n",
      "Gaps to simplify in region 16: 100%|██████████| 578/578 [00:17<00:00, 33.60it/s]\n",
      "Gaps to fill in region 16: 100%|██████████████████| 2/2 [00:00<00:00, 12.23it/s]\n",
      "Gaps to simplify in region 17: 100%|██████████| 860/860 [00:12<00:00, 70.34it/s]\n",
      "Gaps to fill in region 17: 100%|████████████████| 14/14 [00:00<00:00, 23.79it/s]\n",
      "Gaps to simplify in region 18: 100%|████████| 2013/2013 [00:38<00:00, 51.70it/s]\n",
      "Gaps to fill in region 18: 100%|████████████████| 14/14 [00:00<00:00, 27.42it/s]\n",
      "Gaps to simplify in region 19: 100%|██████████| 858/858 [00:11<00:00, 76.02it/s]\n",
      "Gaps to fill in region 19: 100%|██████████████████| 8/8 [00:00<00:00, 28.15it/s]\n",
      "Gaps to simplify in region 20: 100%|██████████| 518/518 [00:08<00:00, 61.93it/s]\n",
      "Gaps to fill in region 20: 100%|████████████████| 18/18 [00:00<00:00, 30.16it/s]\n",
      "Gaps to simplify in region 21: 100%|██████████| 903/903 [00:29<00:00, 30.85it/s]\n",
      "Gaps to fill in region 21: 100%|██████████████████| 8/8 [00:00<00:00, 17.61it/s]\n",
      "Gaps to simplify in region 22: 100%|██████████| 762/762 [00:16<00:00, 46.62it/s]\n",
      "Gaps to fill in region 22: 100%|██████████████████| 9/9 [00:00<00:00, 24.76it/s]\n",
      "Gaps to simplify in region 23: 100%|██████████| 335/335 [00:03<00:00, 91.77it/s]\n",
      "Gaps to fill in region 23: 100%|██████████████████| 2/2 [00:00<00:00, 28.95it/s]\n",
      "Gaps to simplify in region 24: 100%|████████| 1977/1977 [01:29<00:00, 22.03it/s]\n",
      "Gaps to fill in region 24: 100%|██████████████████| 2/2 [00:00<00:00,  5.98it/s]\n",
      "Gaps to simplify in region 25: 100%|████████| 1276/1276 [00:46<00:00, 27.67it/s]\n",
      "Gaps to fill in region 25: 100%|██████████████████| 4/4 [00:00<00:00, 23.45it/s]\n",
      "Gaps to simplify in region 26: 100%|██████████| 463/463 [00:06<00:00, 69.29it/s]\n",
      "Gaps to fill in region 26: 100%|████████████████| 14/14 [00:00<00:00, 42.68it/s]\n",
      "Gaps to simplify in region 27: 100%|████████| 1293/1293 [00:16<00:00, 76.48it/s]\n",
      "Gaps to fill in region 27: 100%|██████████████████| 6/6 [00:00<00:00, 29.82it/s]\n",
      "Gaps to simplify in region 28: 100%|██████████| 469/469 [00:05<00:00, 88.47it/s]\n",
      "Gaps to fill in region 28: 100%|████████████████| 18/18 [00:00<00:00, 36.15it/s]\n",
      "Gaps to simplify in region 29: 100%|████████| 2552/2552 [02:13<00:00, 19.16it/s]\n",
      "Gaps to fill: 0it [00:00, ?it/s]\n",
      "Gaps to simplify in region 30: 100%|██████████| 308/308 [00:03<00:00, 82.65it/s]\n",
      "Gaps to fill in region 30: 100%|████████████████| 13/13 [00:00<00:00, 34.82it/s]\n",
      "Gaps to simplify in region 31: 100%|██████████| 578/578 [00:09<00:00, 61.05it/s]\n",
      "Gaps to fill in region 31: 100%|██████████████████| 6/6 [00:00<00:00, 25.60it/s]\n",
      "Gaps to simplify in region 32: 100%|████████| 1634/1634 [00:35<00:00, 45.96it/s]\n",
      "Gaps to fill in region 32: 100%|████████████████| 14/14 [00:00<00:00, 16.35it/s]\n",
      "Gaps to simplify in region 33: 100%|████████| 2382/2382 [00:56<00:00, 42.50it/s]\n",
      "Gaps to fill in region 33: 100%|██████████████████| 6/6 [00:00<00:00, 20.33it/s]\n",
      "Gaps to simplify in region 34: 100%|█████████| 421/421 [00:03<00:00, 114.67it/s]\n",
      "Gaps to fill in region 34: 100%|██████████████████| 5/5 [00:00<00:00, 21.27it/s]\n",
      "Gaps to simplify in region 35: 100%|████████| 1298/1298 [00:23<00:00, 55.41it/s]\n",
      "Gaps to fill in region 35: 100%|████████████████| 24/24 [00:00<00:00, 34.89it/s]\n",
      "Gaps to simplify in region 36: 100%|████████| 1869/1869 [00:26<00:00, 71.72it/s]\n",
      "Gaps to fill in region 36: 100%|██████████████████| 9/9 [00:00<00:00, 32.67it/s]\n",
      "Gaps to simplify in region 37: 100%|██████████| 306/306 [00:05<00:00, 60.63it/s]\n",
      "Gaps to fill in region 37: 100%|████████████████| 21/21 [00:01<00:00, 17.40it/s]\n",
      "Gaps to simplify in region 38: 100%|██████████| 806/806 [00:08<00:00, 93.46it/s]\n",
      "Gaps to fill in region 38: 100%|██████████████████| 9/9 [00:00<00:00, 41.45it/s]\n",
      "Gaps to simplify in region 39: 100%|█████████| 273/273 [00:02<00:00, 103.74it/s]\n",
      "Gaps to fill in region 39: 100%|██████████████████| 7/7 [00:00<00:00, 34.35it/s]\n",
      "Gaps to simplify in region 40: 100%|████████| 1146/1146 [00:22<00:00, 50.84it/s]\n",
      "Gaps to fill in region 40: 100%|██████████████████| 6/6 [00:00<00:00, 24.49it/s]\n",
      "Gaps to simplify in region 41: 100%|█████████| 393/393 [00:03<00:00, 103.00it/s]\n",
      "Gaps to fill in region 41: 100%|██████████████████| 4/4 [00:00<00:00, 38.78it/s]\n",
      "Gaps to simplify in region 42: 100%|█████████| 167/167 [00:01<00:00, 110.37it/s]\n",
      "Gaps to fill in region 42: 100%|██████████████████| 7/7 [00:00<00:00, 20.66it/s]\n",
      "Gaps to simplify in region 43: 100%|██████████| 912/912 [00:15<00:00, 59.22it/s]\n",
      "Gaps to fill in region 43: 100%|██████████████████| 9/9 [00:00<00:00, 25.63it/s]\n",
      "Gaps to simplify in region 44: 1726it [00:29, 58.22it/s]                        \n",
      "Gaps to fill in region 44: 100%|██████████████████| 6/6 [00:00<00:00, 11.73it/s]\n",
      "Gaps to simplify in region 45: 100%|████████| 1973/1973 [00:57<00:00, 34.47it/s]\n",
      "Gaps to fill in region 45: 100%|██████████████████| 7/7 [00:00<00:00, 14.91it/s]\n",
      "Gaps to simplify in region 46: 100%|█████████| 186/186 [00:01<00:00, 134.29it/s]\n",
      "Gaps to fill in region 46: 100%|██████████████████| 4/4 [00:00<00:00, 20.34it/s]\n",
      "Gaps to simplify in region 47: 100%|██████████| 289/289 [00:03<00:00, 93.07it/s]\n",
      "Gaps to fill in region 47: 100%|████████████████| 17/17 [00:00<00:00, 52.76it/s]\n",
      "Gaps to simplify in region 48: 100%|██████████| 830/830 [00:14<00:00, 58.08it/s]\n",
      "Gaps to fill in region 48: 100%|████████████████| 17/17 [00:00<00:00, 29.01it/s]\n",
      "Gaps to simplify in region 49: 100%|████████| 1504/1504 [00:25<00:00, 58.41it/s]\n",
      "Gaps to fill in region 49: 100%|██████████████████| 9/9 [00:00<00:00, 29.11it/s]\n",
      "Gaps to simplify in region 50: 100%|██████████| 827/827 [00:16<00:00, 49.86it/s]\n",
      "Gaps to fill in region 50: 100%|██████████████████| 5/5 [00:00<00:00, 24.59it/s]\n",
      "Gaps to simplify in region 51: 100%|█████████| 221/221 [00:01<00:00, 130.03it/s]\n",
      "Gaps to fill in region 51: 100%|██████████████████| 7/7 [00:00<00:00, 52.61it/s]\n",
      "Gaps to simplify in region 52: 100%|██████████| 271/271 [00:05<00:00, 50.75it/s]\n",
      "Gaps to fill in region 52: 100%|████████████████| 14/14 [00:00<00:00, 25.47it/s]\n",
      "Gaps to simplify in region 53: 100%|██████████| 189/189 [00:01<00:00, 96.17it/s]\n",
      "Gaps to fill in region 53: 100%|██████████████████| 5/5 [00:00<00:00, 35.53it/s]\n",
      "Gaps to simplify in region 54: 100%|██████████| 151/151 [00:05<00:00, 29.99it/s]\n",
      "Gaps to fill in region 54: 100%|████████████████| 10/10 [00:01<00:00,  7.85it/s]\n",
      "Gaps to simplify in region 55: 100%|████████| 2471/2471 [01:00<00:00, 40.71it/s]\n",
      "Gaps to fill in region 55: 100%|██████████████████| 6/6 [00:00<00:00, 30.60it/s]\n",
      "Gaps to simplify in region 56: 100%|██████████| 879/879 [00:15<00:00, 56.50it/s]\n",
      "Gaps to fill in region 56: 100%|████████████████| 13/13 [00:00<00:00, 44.89it/s]\n",
      "Gaps to simplify in region 57: 100%|██████████| 353/353 [00:03<00:00, 90.84it/s]\n",
      "Gaps to fill in region 57: 100%|██████████████████| 7/7 [00:00<00:00, 37.00it/s]\n",
      "Gaps to simplify in region 58: 100%|██████████| 757/757 [00:08<00:00, 91.01it/s]\n",
      "Gaps to fill in region 58: 100%|██████████████████| 6/6 [00:00<00:00, 38.10it/s]\n",
      "Gaps to simplify in region 59: 100%|█████████| 375/375 [00:03<00:00, 111.52it/s]\n",
      "Gaps to fill in region 59: 100%|████████████████| 15/15 [00:00<00:00, 27.24it/s]\n",
      "Gaps to simplify in region 60: 100%|█████████| 255/255 [00:01<00:00, 144.02it/s]\n",
      "Gaps to fill in region 60: 100%|██████████████████| 8/8 [00:00<00:00, 48.05it/s]\n",
      "Gaps to simplify in region 61: 100%|██████████| 319/319 [00:04<00:00, 70.25it/s]\n",
      "Gaps to fill in region 61: 100%|██████████████████| 6/6 [00:00<00:00, 51.64it/s]\n",
      "Gaps to simplify in region 62: 100%|██████████| 292/292 [00:03<00:00, 92.93it/s]\n",
      "Gaps to fill in region 62: 100%|██████████████████| 9/9 [00:00<00:00, 33.19it/s]\n",
      "Gaps to simplify in region 63: 100%|█████████| 211/211 [00:01<00:00, 109.48it/s]\n",
      "Gaps to fill in region 63: 100%|██████████████████| 8/8 [00:00<00:00, 42.63it/s]\n",
      "Gaps to simplify in region 64: 100%|██████████| 439/439 [00:04<00:00, 99.11it/s]\n",
      "Gaps to fill in region 64: 100%|██████████████████| 2/2 [00:00<00:00, 35.09it/s]\n",
      "Gaps to simplify in region 65: 100%|████████| 1451/1451 [00:34<00:00, 42.27it/s]\n",
      "Gaps to fill in region 65: 100%|██████████████████| 2/2 [00:00<00:00, 20.29it/s]\n",
      "Gaps to simplify in region 66: 100%|████████| 3112/3112 [02:38<00:00, 19.60it/s]\n",
      "Gaps to fill in region 66: 100%|██████████████████| 1/1 [00:00<00:00, 17.78it/s]\n",
      "Gaps to simplify in region 67: 100%|██████████| 476/476 [00:06<00:00, 75.56it/s]\n",
      "Gaps to fill in region 67: 100%|████████████████| 13/13 [00:00<00:00, 59.14it/s]\n",
      "Gaps to simplify in region 68: 100%|██████████| 633/633 [00:10<00:00, 61.34it/s]\n",
      "Gaps to fill in region 68: 100%|██████████████████| 2/2 [00:00<00:00, 20.76it/s]\n",
      "Gaps to simplify in region 69: 100%|██████████| 649/649 [00:13<00:00, 48.89it/s]\n",
      "Gaps to fill in region 69: 100%|████████████████| 13/13 [00:00<00:00, 17.82it/s]\n",
      "Gaps to simplify in region 70: 100%|█████████| 273/273 [00:02<00:00, 104.24it/s]\n",
      "Gaps to fill in region 70: 100%|████████████████| 15/15 [00:00<00:00, 29.99it/s]\n",
      "Gaps to simplify in region 71: 100%|█████████| 174/174 [00:01<00:00, 148.08it/s]\n",
      "Gaps to fill in region 71: 100%|██████████████████| 6/6 [00:00<00:00, 31.70it/s]\n",
      "Gaps to simplify in region 72: 100%|████████| 3423/3423 [01:31<00:00, 37.23it/s]\n",
      "Gaps to fill in region 72: 100%|██████████████████| 3/3 [00:00<00:00,  6.32it/s]\n",
      "Gaps to simplify in region 73: 100%|█████████| 224/224 [00:01<00:00, 143.10it/s]\n",
      "Gaps to fill in region 73: 100%|██████████████████| 7/7 [00:00<00:00, 67.47it/s]\n",
      "Gaps to simplify in region 74: 100%|██████████| 766/766 [00:10<00:00, 75.41it/s]\n",
      "Gaps to fill in region 74: 100%|██████████████████| 7/7 [00:00<00:00, 31.00it/s]\n"
     ]
    }
   ],
   "source": [
    "vest_base = add_vest_base(vest_base_data, start_col, year, county = county_df)"
   ]
  },
  {
   "cell_type": "code",
   "execution_count": 25,
   "metadata": {
    "collapsed": true,
    "jupyter": {
     "outputs_hidden": true
    },
    "scrolled": true
   },
   "outputs": [
    {
     "name": "stdout",
     "output_type": "stream",
     "text": [
      "[0.0, 0.0, 0.0, 0.0, 0.0, 0.0, 0.0, 0.0, 0.0, 0.0, 0.0, 0.0, 0.0, 0.0, 0.0, 0.0, 0.0, 0.0, 0.0, 0.0, 0.0, 0.0, 0.0, 0.0, 0.0, 0.0, 0.0, 0.0, 0.0, 0.0, 0.0, 0.0, 0.0, 0.0, 0.0, 0.0, 0.0, 0.0, 0.0, 0.0, 0.0, 0.0, 0.0, 0.0, 0.0, 0.0, 0.0, 0.0, 0.0, 0.0, 0.0, 0.0, 0.0, 0.0, 0.0, 0.0, 0.0, 0.0, 0.0, 0.0, 0.0, 0.0, 0.0, 0.0, 0.0, 0.0, 0.0, 0.0, 0.0, 0.0, 0.0, 0.0, 0.0, 0.0, 0.0, 0.0, 0.0, 0.0, 0.0, 0.0, 0.0, 0.0, 0.0, 0.0, 0.0, 0.0, 0.0, 0.0, 0.0, 0.0, 0.0, 0.0, 0.0, 0.0, 0.0, 0.0, 0.0, 0.0, 0.0, 0.0, 0.0, 0.0, 0.0, 0.0, 0.0, 0.0, 0.0, 0.0, 0.0, 0.0, 0.0, 0.0, 0.0, 0.0, 0.0, 0.0, 0.0, 0.0, 0.0, 0.0, 0.0, 0.0, 0.0, 0.0, 0.0, 0.0, 0.0, 0.0, 0.0, 0.0, 0.0, 0.0, 0.0, 0.0, 0.0, 0.0, 0.0, 0.0, 0.0, 0.0, 0.0, 0.0, 0.0, 0.0, 0.0, 0.0, 0.0, 0.0, 0.0, 0.0, 0.0, 0.0, 0.0, 0.0, 0.0, 0.0, 0.0, 0.0, 0.0, 0.0, 0.0, 0.0, 0.0, 0.0, 0.0, 0.0, 0.0, 0.0, 0.0, 0.0, 0.0, 0.0, 0.0, 0.0, 0.0, 0.0, 0.0, 0.0, 0.0, 0.0, 0.0, 0.0, 0.0, 0.0, 0.0, 0.0, 0.0, 0.0, 0.0, 0.0, 0.0, 0.0, 0.0, 0.0, 0.0, 0.0, 0.0, 0.0, 0.0, 0.0, 0.0, 0.0, 0.0, 0.0, 0.0, 0.0, 0.0, 0.0, 0.0, 0.0, 0.0, 0.0, 0.0, 0.0, 0.0, 0.0, 0.0, 0.0, 0.0, 0.0, 0.0, 0.0, 0.0, 0.0, 0.0, 0.0, 0.0, 0.0, 0.0, 0.0, 0.0, 0.0, 0.0, 0.0, 0.0, 0.0, 0.0, 0.0, 0.0, 0.0, 0.0, 0.0, 0.0, 0.0, 0.0, 0.0, 0.0, 0.0, 0.0, 0.0, 0.0, 0.0, 0.0, 0.0, 0.0, 0.0, 0.0, 0.0, 0.0, 0.0, 0.0, 0.0, 0.0, 0.0, 0.0, 0.0, 0.0, 0.0, 0.0, 0.0, 0.0, 0.0, 0.0, 0.0, 0.0, 0.0, 0.0, 0.0, 0.0, 0.0, 0.0, 0.0, 0.0, 0.0, 0.0, 0.0, 0.0, 0.0, 0.0, 0.0, 0.0, 0.0, 0.0, 0.0, 0.0, 0.0, 0.0, 0.0, 0.0, 0.0, 0.0, 0.0, 0.0, 0.0, 0.0, 0.0, 0.0, 0.0, 0.0, 0.0, 0.0, 0.0, 0.0, 0.0, 0.0, 0.0, 0.0, 0.0, 0.0, 0.0, 0.0, 0.0, 0.0, 0.0, 0.0, 0.0, 0.0, 0.0, 0.0, 0.0, 0.0, 0.0, 0.0, 0.0, 0.0, 0.0, 0.0, 0.0, 0.0, 0.0, 0.0, 0.0, 0.0, 0.0, 0.0, 0.0, 0.0, 0.0, 0.0, 0.0, 0.0, 0.0, 0.0, 0.0, 0.0, 0.0, 0.0, 0.0, 0.0, 0.0, 0.0, 0.0, 0.0, 0.0, 0.0, 0.0, 0.0, 0.0, 0.0, 0.0, 0.0, 0.0, 0.0, 0.0, 0.0, 0.0, 0.0, 0.0, 0.0, 0.0, 0.0, 0.0, 0.0, 0.0, 0.0, 0.0, 0.0, 0.0, 0.0, 0.0, 0.0, 0.0, 0.0, 0.0, 0.0, 0.0, 0.0, 0.0, 0.0, 0.0, 0.0, 0.0, 0.0, 0.0, 0.0, 0.0, 0.0, 0.0, 0.0, 0.0, 0.0, 0.0, 0.0, 0.0, 0.0, 0.0, 0.0, 0.0, 0.0, 0.0, 0.0, 0.0, 0.0, 0.0, 0.0, 0.0, 0.0, 0.0, 0.0, 0.0, 0.0, 0.0, 0.0, 0.0, 0.0, 0.0, 0.0, 0.0, 0.0, 0.0, 0.0, 0.0, 0.0, 0.0, 0.0, 0.0, 0.0, 0.0, 0.0, 0.0, 0.0, 0.0, 0.0, 0.0, 0.0, 0.0, 0.0, 0.0, 0.0, 0.0, 0.0, 0.0, 0.0, 0.0, 0.0, 0.0, 0.0, 0.0, 0.0, 0.0, 0.0, 0.0, 0.0, 0.0, 0.0, 0.0, 0.0, 0.0, 0.0, 0.0, 0.0, 0.0, 0.0, 0.0, 0.0, 0.0, 0.0, 0.0, 0.0, 0.0, 0.0, 0.0, 0.0, 0.0, 0.0, 0.0, 0.0, 0.0, 0.0, 0.0, 0.0, 0.0, 0.0, 0.0, 0.0, 0.0, 0.0, 0.0, 0.0, 0.0, 0.0, 0.0, 0.0, 0.0, 0.0, 0.0, 0.0, 0.0, 0.0, 0.0, 0.0, 0.0, 0.0, 0.0, 0.0, 0.0, 0.0, 0.0, 0.0, 0.0, 0.0, 0.0, 0.0, 0.0, 0.0, 0.0, 0.0, 0.0, 0.0, 0.0, 0.0, 0.0, 0.0, 0.0, 0.0, 0.0, 0.0, 0.0, 0.0, 0.0, 0.0, 0.0, 0.0, 0.0, 0.0, 0.0, 0.0, 0.0, 0.0, 0.0, 0.0, 0.0, 0.0, 0.0, 0.0, 0.0, 0.0, 0.0, 0.0, 0.0, 0.0, 0.0, 0.0, 0.0, 0.0, 0.0, 0.0, 0.0, 0.0, 0.0, 0.0, 0.0, 0.0, 0.0, 0.0, 0.0, 0.0, 0.0, 0.0, 0.0, 0.0, 0.0, 0.0, 0.0, 0.0, 0.0, 0.0, 0.0, 0.0, 0.0, 0.0, 0.0, 0.0, 0.0, 0.0, 0.0, 0.0, 0.0, 0.0, 0.0, 0.0, 0.0, 0.0, 0.0, 0.0, 0.0, 0.0, 0.0, 0.0, 0.0, 0.0, 0.0, 0.0, 0.0, 0.0, 0.0, 0.0, 0.0, 0.0, 0.0, 0.0, 0.0, 0.0, 0.0, 0.0, 0.0, 0.0, 0.0, 0.0, 0.0, 0.0, 0.0, 0.0, 0.0, 0.0, 0.0, 0.0, 0.0, 0.0, 0.0, 0.0, 0.0, 0.0, 0.0, 0.0, 0.0, 0.0, 0.0, 0.0, 0.0, 0.0, 0.0, 0.0, 0.0, 0.0, 0.0, 0.0, 0.0, 0.0, 0.0, 0.0, 0.0, 0.0, 0.0, 0.0, 0.0, 0.0, 0.0, 0.0, 0.0, 0.0, 0.0, 0.0, 0.0, 0.0, 0.0, 0.0, 0.0, 0.0, 0.0, 0.0, 0.0, 0.0, 0.0, 0.0, 0.0, 0.0, 0.0, 0.0, 0.0, 0.0, 0.0, 0.0, 0.0, 0.0, 0.0, 0.0, 0.0, 0.0, 0.0, 0.0, 0.0, 0.0, 0.0, 0.0, 0.0, 0.0, 0.0, 0.0, 0.0, 0.0, 0.0, 7.319117478604088e-08, 7.319117478604088e-08, 1.0000095498454011e-05, 1.0000095498454011e-05, 2.0013424036425645e-05, 2.0013424036425645e-05, 2.067345730393932e-05, 2.067345730393932e-05, 0.005484486239560334, 0.005484486239560334, 0.007561297525095476, 0.007561297525095476, 0.007784211326012565, 0.007784211326012565, 0.02871663769829631, 0.02871663769829631, 0.11875765236960387, 0.11875765236960387, 0.20832131430845333, 0.20832131430845333, 0.26189766684473714, 0.26189766684473714, 0.30245558349143165, 0.30245558349143165, 0.30527555586174754, 0.30527555586174754, 0.47764549618357377, 0.47764549618357377, 0.6309322705785713, 0.6309322705785713, 0.6496473408908855, 0.6496473408908855, 0.7655958157979602, 0.7655958157979602, 0.8372061154700363, 0.8372061154700363, 1.0511662332678344, 1.0511662332678344, 1.2515970519222328, 1.2515970519222328, 1.2735991640531485, 1.2735991640531485, 1.356137179674048, 1.356137179674048, 1.5117766535046255, 1.5117766535046255, 1.6287813358123846, 1.6287813358123846, 1.6960337556117764, 1.6960337556117764, 1.78663304087607, 1.78663304087607, 1.9801398031974107, 1.9801398031974107, 2.338412324709196, 2.338412324709196, 2.394759383065102, 2.394759383065102, 2.5093452326691414, 2.5093452326691414, 2.7642111424424516, 2.7642111424424516, 2.9315957476594936, 2.9315957476594936, 3.126037646589226, 3.126037646589226, 3.145314160118597, 3.145314160118597, 3.2110410304641976, 3.2110410304641976, 3.3611669464636833, 3.3611669464636833, 4.240140085053807, 4.240140085053807, 4.394255642299434, 4.394255642299434, 4.661890583139096, 4.661890583139096, 4.673033862551178, 4.673033862551178, 4.803862775973787, 4.803862775973787, 4.993586576791516, 4.993586576791516, 5.06461599868772, 5.06461599868772, 5.133867552893203, 5.133867552893203, 5.48926788658958, 5.48926788658958, 5.629897303677325, 5.629897303677325, 5.639332054416206, 5.639332054416206, 5.985985827606359, 5.985985827606359, 6.0864612806894725, 6.0864612806894725, 6.087787330392002, 6.087787330392002, 6.088511247413165, 6.088511247413165, 6.575747209351413, 6.575747209351413, 6.598798331940285, 6.598798331940285, 6.79943864506045, 6.79943864506045, 6.962109502845734, 6.962109502845734, 7.001467404040437, 7.001467404040437, 7.061158732398467, 7.061158732398467, 7.066130386550867, 7.066130386550867, 7.309137387298476, 7.309137387298476, 7.7668931127178436, 7.7668931127178436, 7.778639110987594, 7.778639110987594, 7.792043024341762, 7.792043024341762, 8.122977603942967, 8.122977603942967, 8.125661867685984, 8.125661867685984, 8.268766998813206, 8.268766998813206, 8.342292844015157, 8.342292844015157, 8.37184871589574, 8.37184871589574, 8.949491162721582, 8.949491162721582, 8.983956247185374, 8.983956247185374, 9.438135233687401, 9.438135233687401, 9.607564076876178, 9.607564076876178, 9.664821457223299, 9.664821457223299, 9.75022543558229, 9.75022543558229, 10.049690512504846, 10.049690512504846, 10.405387474913493, 10.405387474913493, 11.025394638157723, 11.025394638157723, 11.90706047561411, 11.90706047561411, 12.581677461284478, 12.581677461284478, 12.90619236701852, 12.90619236701852, 12.976465375532355, 12.976465375532355, 13.812281573347066, 13.812281573347066, 14.058617076634317, 14.058617076634317, 14.536265254993857, 14.536265254993857, 14.84558532252475, 14.84558532252475, 15.414325573823568, 15.414325573823568, 15.734849270301048, 15.734849270301048, 15.943424022449856, 15.943424022449856, 16.497353816866763, 16.497353816866763, 16.951079522690023, 16.951079522690023, 17.310006697958368, 17.310006697958368, 17.339144347512878, 17.339144347512878, 17.91181383248124, 17.91181383248124, 18.281582065647882, 18.281582065647882, 18.696467640543545, 18.696467640543545, 18.758652411561155, 18.758652411561155, 18.887386597917683, 18.887386597917683, 19.11834423758934, 19.11834423758934, 19.437466473224017, 19.437466473224017, 19.681683930336085, 19.681683930336085, 20.97395759117761, 20.97395759117761, 21.123025004183503, 21.123025004183503, 21.77130144594971, 21.77130144594971, 21.956207720461403, 21.956207720461403, 22.649447257540597, 22.649447257540597, 23.489420936685143, 23.489420936685143, 23.51305038030478, 23.51305038030478, 23.755820622294912, 23.755820622294912, 24.346749958175838, 24.346749958175838, 24.401395782614095, 24.401395782614095, 24.856514635973387, 24.856514635973387, 24.95983682780574, 24.95983682780574, 25.09389093884288, 25.09389093884288, 25.42531207215097, 25.42531207215097, 25.562834696544968, 25.562834696544968, 25.73703977540632, 25.73703977540632, 26.113933330870434, 26.113933330870434, 26.41411914212715, 26.41411914212715, 26.956480269178915, 26.956480269178915, 27.411718895981704, 27.411718895981704, 27.518218040757922, 27.518218040757922, 27.794058254707302, 27.794058254707302, 29.310205442701918, 29.310205442701918, 30.563896615745236, 30.563896615745236, 32.60677878262869, 32.60677878262869, 33.80802991068867, 33.80802991068867, 33.8146560368675, 33.8146560368675, 34.49513909655213, 34.49513909655213, 35.89108299921554, 35.89108299921554, 36.419835473375784, 36.419835473375784, 36.6797360186343, 36.6797360186343, 38.74884275388252, 38.74884275388252, 39.26527396572172, 39.26527396572172, 43.4242633649524, 43.4242633649524, 44.89447282252268, 44.89447282252268, 45.077646188241644, 45.077646188241644, 46.384428092656314, 46.384428092656314, 46.62087125060686, 46.62087125060686, 50.02156694961134, 50.02156694961134, 50.989885513869766, 50.989885513869766, 51.81360376199273, 51.81360376199273, 55.4100295614485, 55.4100295614485, 57.01328594413221, 57.01328594413221, 57.843433312017716, 57.843433312017716, 58.82811020075992, 58.82811020075993, 59.146828769133755, 59.146828769133755, 60.1770044726919, 60.1770044726919, 61.11469535169719, 61.11469535169719, 61.516163550936795, 61.516163550936795, 64.32851837547547, 64.32851837547547, 64.58348794320764, 64.58348794320764, 66.10385360496379, 66.1038536049638, 66.54438327723544, 66.54438327723544, 66.79316682596861, 66.79316682596861, 66.83081890059384, 66.83081890059384, 68.91564940272588, 68.91564940272588, 70.49856981075351, 70.49856981075351, 70.49993092339146, 70.49993092339146, 70.68545508794733, 70.68545508794735, 71.21321607979414, 71.21321607979414, 71.52569188752855, 71.52569188752855, 71.7933756016149, 71.7933756016149, 72.63636170191988, 72.63636170191988, 77.70489483194983, 77.70489483194984, 78.99317487356576, 78.99317487356576, 81.69719426170745, 81.69719426170745, 83.70799314078766, 83.70799314078768, 83.97716952617081, 83.97716952617081, 86.15286576407698, 86.15286576407698, 87.26388361202005, 87.26388361202005, 89.44571036566806, 89.44571036566806, 91.14241204154727, 91.14241204154727, 91.9053177068177, 91.9053177068177, 92.63184810093767, 92.63184810093767, 92.71272568902162, 92.71272568902162, 95.16002012563902, 95.16002012563902, 97.1498571511996, 97.1498571511996, 97.96303949005679, 97.9630394900568, 99.89956302644308, 99.89956302644308, 100.56155867139539, 100.56155867139539, 101.03033759343957, 101.03033759343957, 101.49188720404891, 101.49188720404891, 102.23654027905225, 102.23654027905225, 102.51541252054683, 102.51541252054685, 103.60464224247076, 103.60464224247076, 105.28929399768663, 105.28929399768663, 106.528254162106, 106.528254162106, 106.66398577312677, 106.66398577312677, 106.8014822786827, 106.80148227868271, 106.86322679867845, 106.86322679867845, 107.10234267633362, 107.10234267633362, 107.65193985881949, 107.6519398588195, 107.8142978776576, 107.8142978776576, 107.92482804819439, 107.9248280481944, 109.18479282591353, 109.18479282591353, 110.58277714496529, 110.58277714496529, 110.92438928172146, 110.92438928172147, 111.19229700811249, 111.19229700811249, 111.21313843967883, 111.21313843967883, 113.2797132392016, 113.2797132392016, 113.3098804220795, 113.30988042207953, 113.67174288902359, 113.6717428890236, 113.86929906204388, 113.86929906204388, 113.9621367781856, 113.96213677818561, 115.80168675755745, 115.80168675755746, 116.81481830827059, 116.81481830827059, 116.99639697015718, 116.99639697015718, 117.64138035306156, 117.64138035306156, 117.86342111746558, 117.86342111746558, 118.6122992701145, 118.6122992701145, 119.59219486477248, 119.59219486477248, 120.53508886685346, 120.5350888668535, 122.10736860483529, 122.10736860483529, 124.29824169536833, 124.29824169536835, 124.47419512918982, 124.47419512918982, 126.738266450885, 126.738266450885, 127.4198939926017, 127.4198939926017, 127.61580331133968, 127.61580331133969, 128.90144123407683, 128.90144123407686, 130.41555994001757, 130.4155599400176, 131.54718431177935, 131.54718431177935, 132.15092556095462, 132.15092556095465, 133.43060438518614, 133.43060438518614, 134.7668183992844, 134.7668183992844, 135.12552734034847, 135.12552734034847, 136.24419715778586, 136.2441971577859, 139.85332624934009, 139.85332624934009, 143.43340445630074, 143.43340445630076, 144.8955552335639, 144.8955552335639, 145.21652017939942, 145.21652017939942, 145.77469810106606, 145.77469810106606, 146.00791532871995, 146.00791532871995, 146.08027302809347, 146.08027302809347, 149.7039209608954, 149.7039209608954, 153.63396990136536, 153.6339699013654, 154.10917882676077, 154.10917882676077, 155.8901050381537, 155.8901050381537, 156.7850463038712, 156.7850463038712, 156.85655849516343, 156.85655849516343, 161.55683990476015, 161.55683990476015, 161.60742795863703, 161.60742795863706, 164.435102833911, 164.435102833911, 165.57030561892128, 165.5703056189213, 166.5030449135552, 166.5030449135552, 168.2529093902176, 168.2529093902176, 172.70788556173986, 172.70788556173986, 173.6669914183152, 173.6669914183152, 174.84947402217665, 174.84947402217665, 177.18152756727474, 177.18152756727474, 180.3798333408807, 180.3798333408807, 180.6915614480473, 180.69156144804734, 180.70095646050765, 180.70095646050765, 180.8628437850165, 180.8628437850165, 181.73739861953212, 181.73739861953212, 182.347643834409, 182.347643834409, 182.59418838234154, 182.59418838234154, 183.17875805830616, 183.1787580583062, 183.50801549683834, 183.50801549683837, 183.81218738558252, 183.81218738558255, 184.11388746866876, 184.11388746866876, 187.11262241843053, 187.11262241843053, 187.2746940266193, 187.2746940266193, 190.51405006459564, 190.51405006459564, 192.56716575512064, 192.56716575512067, 193.14424485987269, 193.14424485987269, 193.79052976647571, 193.79052976647571, 194.32252419769978, 194.32252419769978, 195.93459547533516, 195.9345954753352, 196.1899184394589, 196.1899184394589, 196.94075377324958, 196.94075377324958, 197.95785410811067, 197.95785410811067, 198.580097314753, 198.580097314753, 198.7723799834609, 198.77237998346095, 199.6469183476193, 199.6469183476193, 200.18777285868543, 200.18777285868543, 200.48247902494205, 200.48247902494205, 200.6623812551157, 200.66238125511572, 201.02736545411472, 201.02736545411472, 201.07046564564882, 201.07046564564882, 201.08205104344444, 201.08205104344447, 201.70366734615192, 201.70366734615192, 201.77271667112637, 201.77271667112637, 202.72721729573487, 202.72721729573487, 202.8492278640357, 202.8492278640357, 203.08543529578208, 203.08543529578208, 203.66726804335326, 203.6672680433533, 207.0416035499437, 207.0416035499437, 207.61351642763682, 207.61351642763682, 208.53631668481282, 208.53631668481282, 209.3361713254317, 209.3361713254317, 210.35878731858446, 210.35878731858446, 210.45065941629838, 210.45065941629838, 210.87649512073315, 210.87649512073315, 214.04439074472774, 214.04439074472774, 215.2594934644666, 215.2594934644666, 215.61137773852283, 215.6113777385229, 217.1819593470067, 217.1819593470067, 217.53303347353506, 217.53303347353506, 218.09336175816102, 218.09336175816102, 218.51341196062856, 218.51341196062856, 219.81687420739385, 219.81687420739388, 220.0421873385088, 220.04218733850882, 223.3696269762921, 223.36962697629212, 225.39452734447318, 225.39452734447318, 225.41609236733714, 225.41609236733714, 227.0100596830174, 227.0100596830174, 227.16848223987216, 227.16848223987216, 229.2008037910808, 229.2008037910808, 230.72721232808073, 230.72721232808073, 231.4994561973365, 231.4994561973365, 231.83507900167731, 231.83507900167731, 232.50619317921803, 232.50619317921806, 232.740143201636, 232.740143201636, 234.3207783344643, 234.3207783344643, 234.83580962653713, 234.83580962653716, 235.45021484698117, 235.4502148469812, 236.65724149372468, 236.6572414937247, 238.1096464613648, 238.1096464613648, 239.63178033063593, 239.63178033063596, 240.5465904932808, 240.5465904932808, 243.44791705750762, 243.44791705750762, 243.7479548241362, 243.7479548241362, 243.75060562431847, 243.75060562431847, 246.0893451265248, 246.08934512652482, 246.35988758824925, 246.35988758824925, 246.53412595371466, 246.5341259537147, 246.736297243779, 246.736297243779, 246.98590204415711, 246.98590204415711, 247.4864491653272, 247.4864491653272, 247.57513581847167, 247.57513581847167, 251.74567580336884, 251.7456758033689, 252.99089485784538, 252.99089485784538, 253.7547269951453, 253.7547269951453, 258.63599691938884, 258.63599691938884, 260.04858357205336, 260.04858357205336, 260.55259563223643, 260.55259563223643, 261.43308848444, 261.43308848444, 261.79735438955476, 261.79735438955476, 263.7049944786806, 263.7049944786806, 265.96733816074095, 265.96733816074095, 266.09976801935466, 266.09976801935466, 266.3274747939811, 266.3274747939811, 267.8800824825032, 267.8800824825032, 267.935466639436, 267.935466639436, 268.1244830901464, 268.12448309014644, 268.2623464051203, 268.2623464051203, 269.15575194897093, 269.15575194897093, 269.1603595961484, 269.1603595961484, 269.6379010361608, 269.6379010361608, 270.3817843296359, 270.3817843296359, 270.51048441971267, 270.51048441971267, 271.51702536027966, 271.51702536027966, 272.5981440817224, 272.5981440817224, 272.8354179192179, 272.8354179192179, 273.30850859978295, 273.30850859978295, 273.4270277801063, 273.42702778010636, 274.6455200463744, 274.64552004637443, 276.3349125036788, 276.3349125036789, 278.2950113659307, 278.2950113659307, 279.5389918355937, 279.5389918355937, 279.78209967784153, 279.7820996778416, 281.4553018610248, 281.4553018610248, 281.62192537157887, 281.62192537157887, 283.11078206036234, 283.11078206036234, 285.6114662967874, 285.6114662967874, 286.01764659998634, 286.0176465999864, 286.3289738962019, 286.3289738962019, 286.4484351836727, 286.4484351836727, 288.15036330636525, 288.15036330636525, 289.18403168416677, 289.1840316841668, 289.2802428982822, 289.2802428982822, 289.76015563259347, 289.76015563259347, 292.69364877981116, 292.69364877981116, 295.27688138075075, 295.27688138075075, 295.7071782069403, 295.7071782069403, 296.4246299052218, 296.4246299052218, 298.07189358912825, 298.07189358912825, 298.1800844241624, 298.18008442416243, 298.69886656099413, 298.69886656099413, 301.608559109176, 301.608559109176, 302.56792588145765, 302.56792588145765, 307.9208113967093, 307.9208113967093, 309.4584846649966, 309.45848466499666, 312.8587773991964, 312.85877739919647, 313.2798562561175, 313.27985625611757, 313.3971504160943, 313.3971504160943, 316.41245007570615, 316.41245007570615, 316.5404550614905, 316.5404550614905, 317.6808192451403, 317.68081924514036, 317.74023188886997, 317.74023188886997, 318.64777253225463, 318.6477725322547, 319.95146750378865, 319.95146750378865, 320.1573907499659, 320.15739074996594, 320.27640869716754, 320.27640869716754, 320.9774857754975, 320.9774857754975, 321.6059076804579, 321.6059076804579, 323.0884312161153, 323.0884312161153, 324.4450576134767, 324.4450576134767, 325.0996077262321, 325.0996077262321, 325.72052766465674, 325.72052766465674, 326.8248681541856, 326.8248681541856, 327.8964401948724, 327.89644019487247, 329.26726201820503, 329.2672620182051, 331.22742058683394, 331.22742058683394, 331.80000320216635, 331.8000032021664, 335.7001465541192, 335.7001465541192, 336.696904197133, 336.696904197133, 336.96542300720347, 336.9654230072035, 337.39245477066584, 337.39245477066584, 338.0813960266724, 338.0813960266724, 338.1199673996964, 338.11996739969646, 338.24656885655594, 338.24656885655594, 339.3447490631288, 339.3447490631288, 339.5730757358567, 339.5730757358567, 341.3505060114977, 341.3505060114977, 341.5783554630946, 341.5783554630946, 344.3148809595131, 344.3148809595131, 345.2039000941308, 345.2039000941308, 348.02846804924036, 348.02846804924036, 351.9401246742322, 351.9401246742322, 352.2025296911555, 352.2025296911556, 352.9542513383047, 352.95425133830474, 354.97791012574373, 354.97791012574373, 356.12949324077664, 356.12949324077664, 356.3048733961979, 356.3048733961979, 356.57045137712157, 356.57045137712157, 357.67718137116196, 357.6771813711621, 359.4688758842508, 359.4688758842508, 360.7270279451595, 360.7270279451595, 361.7677067890275, 361.76770678902756, 362.64039336860543, 362.64039336860543, 363.96972450514124, 363.96972450514124, 365.3504217271159, 365.3504217271159, 366.3814520007193, 366.3814520007194, 367.30824782909565, 367.3082478290957, 368.13911110588265, 368.13911110588265, 369.30577572048514, 369.3057757204852, 369.5819265411916, 369.5819265411916, 372.45786855835325, 372.4578685583534, 372.6966297929762, 372.6966297929762, 373.7231143909442, 373.72311439094426, 374.00267203410624, 374.00267203410624, 374.69033778464143, 374.69033778464143, 376.5254888124884, 376.5254888124884, 377.93465260883374, 377.9346526088338, 378.90038140075194, 378.90038140075194, 380.1978494446109, 380.1978494446109, 380.827061259194, 380.82706125919407, 381.4554517791759, 381.4554517791759, 382.5807928503489, 382.5807928503489, 384.72513459005654, 384.7251345900566, 386.06726874047905, 386.06726874047905, 386.4720213777835, 386.47202137778356, 387.25546790696103, 387.25546790696103, 387.3741529945698, 387.37415299456984, 387.4045976962211, 387.4045976962212, 387.42304970268077, 387.4230497026808, 388.4702296315054, 388.4702296315054, 390.30712322828026, 390.3071232282803, 391.0715718290494, 391.0715718290494, 391.2495460629565, 391.2495460629565, 391.8309805852558, 391.83098058525593, 394.42695514167553, 394.42695514167553, 396.0034074243016, 396.0034074243016, 396.3149655062144, 396.3149655062144, 396.5585934185187, 396.5585934185187, 396.6893248828691, 396.6893248828691, 396.9353539233804, 396.9353539233804, 398.5776835748587, 398.5776835748588, 398.88002611729377, 398.88002611729377, 398.8898618952811, 398.8898618952811, 399.2925409250613, 399.29254092506136, 399.39093494589844, 399.39093494589844, 399.47195308495645, 399.47195308495645, 399.51498310627824, 399.51498310627824, 399.5736299345056, 399.5736299345056, 399.64954767543907, 399.6495476754391, 399.9440912268153, 399.9440912268153, 400.0134076478292, 400.0134076478292, 400.0999313251151, 400.09993132511516, 400.16446108490106, 400.16446108490106, 400.75630807182125, 400.7563080718213, 401.0008955887418, 401.0008955887418, 401.4797972002515, 401.4797972002515, 401.9759737174546, 401.9759737174547, 402.04142026725003, 402.04142026725003, 402.1112835682294, 402.11128356822945, 402.4619836018756, 402.46198360187566, 402.5799127349976, 402.5799127349977, 402.8433900569913, 402.84339005699144]\n"
     ]
    }
   ],
   "source": [
    "borders = check_small_boundary_lengths(vest_base)\n",
    "print(borders[:1700])"
   ]
  },
  {
   "cell_type": "code",
   "execution_count": 26,
   "metadata": {
    "collapsed": true,
    "jupyter": {
     "outputs_hidden": true
    }
   },
   "outputs": [
    {
     "name": "stdout",
     "output_type": "stream",
     "text": [
      "Snapping all geometries to a grid with precision 10^( -5 ) to avoid GEOS errors.\n",
      "Identifying overlaps...\n"
     ]
    },
    {
     "name": "stderr",
     "output_type": "stream",
     "text": [
      "100%|█████████████████████████████████████| 2869/2869 [00:00<00:00, 3655.30it/s]\n"
     ]
    },
    {
     "name": "stdout",
     "output_type": "stream",
     "text": [
      "Resolving overlaps...\n",
      "Filling gaps...\n"
     ]
    },
    {
     "name": "stderr",
     "output_type": "stream",
     "text": [
      "Gaps to simplify: 0it [00:00, ?it/s]\n",
      "Gaps to fill: 0it [00:00, ?it/s]\n"
     ]
    },
    {
     "name": "stdout",
     "output_type": "stream",
     "text": [
      "Converting small rook adjacencies to queen...\n"
     ]
    },
    {
     "name": "stderr",
     "output_type": "stream",
     "text": [
      "100%|██████████████████████████████████████| 2591/2591 [00:02<00:00, 995.19it/s]\n",
      "100%|███████████████████████████████████████████| 4/4 [00:00<00:00, 2708.19it/s]\n",
      "100%|███████████████████████████████████████████| 4/4 [00:00<00:00, 2699.04it/s]\n",
      "100%|███████████████████████████████████████████| 5/5 [00:00<00:00, 3166.47it/s]\n",
      "100%|███████████████████████████████████████████| 5/5 [00:00<00:00, 2604.19it/s]\n",
      "100%|███████████████████████████████████████████| 5/5 [00:00<00:00, 2717.22it/s]\n",
      "100%|███████████████████████████████████████████| 5/5 [00:00<00:00, 2948.34it/s]\n",
      "100%|███████████████████████████████████████████| 4/4 [00:00<00:00, 2686.50it/s]\n",
      "100%|███████████████████████████████████████████| 4/4 [00:00<00:00, 2775.39it/s]\n",
      "100%|███████████████████████████████████████████| 4/4 [00:00<00:00, 2665.17it/s]\n",
      "100%|███████████████████████████████████████████| 4/4 [00:00<00:00, 2671.96it/s]\n",
      "100%|███████████████████████████████████████████| 4/4 [00:00<00:00, 2597.09it/s]\n",
      "100%|███████████████████████████████████████████| 4/4 [00:00<00:00, 2697.30it/s]\n",
      "100%|███████████████████████████████████████████| 4/4 [00:00<00:00, 2645.41it/s]\n",
      "100%|███████████████████████████████████████████| 6/6 [00:00<00:00, 3120.37it/s]\n",
      "100%|███████████████████████████████████████████| 4/4 [00:00<00:00, 2506.31it/s]\n",
      "100%|███████████████████████████████████████████| 4/4 [00:00<00:00, 2492.16it/s]\n",
      "100%|███████████████████████████████████████████| 4/4 [00:00<00:00, 2807.43it/s]\n",
      "100%|███████████████████████████████████████████| 4/4 [00:00<00:00, 2470.87it/s]\n",
      "100%|███████████████████████████████████████████| 4/4 [00:00<00:00, 2645.83it/s]\n",
      "100%|███████████████████████████████████████████| 5/5 [00:00<00:00, 1588.75it/s]\n",
      "100%|███████████████████████████████████████████| 5/5 [00:00<00:00, 2493.64it/s]\n",
      "100%|███████████████████████████████████████████| 4/4 [00:00<00:00, 2403.96it/s]\n",
      "100%|███████████████████████████████████████████| 4/4 [00:00<00:00, 2758.50it/s]\n",
      "100%|███████████████████████████████████████████| 4/4 [00:00<00:00, 2846.97it/s]\n",
      "100%|███████████████████████████████████████████| 4/4 [00:00<00:00, 2525.55it/s]\n",
      "100%|███████████████████████████████████████████| 4/4 [00:00<00:00, 2467.60it/s]\n",
      "100%|███████████████████████████████████████████| 4/4 [00:00<00:00, 2174.06it/s]\n",
      "100%|███████████████████████████████████████████| 4/4 [00:00<00:00, 2550.89it/s]\n",
      "100%|███████████████████████████████████████████| 4/4 [00:00<00:00, 2885.66it/s]\n",
      "100%|███████████████████████████████████████████| 4/4 [00:00<00:00, 2736.01it/s]\n",
      "100%|███████████████████████████████████████████| 4/4 [00:00<00:00, 2689.52it/s]\n",
      "100%|███████████████████████████████████████████| 4/4 [00:00<00:00, 2666.86it/s]\n",
      "100%|███████████████████████████████████████████| 4/4 [00:00<00:00, 2640.42it/s]\n",
      "100%|███████████████████████████████████████████| 4/4 [00:00<00:00, 2607.59it/s]\n",
      "100%|███████████████████████████████████████████| 4/4 [00:00<00:00, 2525.17it/s]\n",
      "100%|███████████████████████████████████████████| 4/4 [00:00<00:00, 2623.08it/s]\n",
      "100%|███████████████████████████████████████████| 4/4 [00:00<00:00, 2665.17it/s]\n",
      "100%|███████████████████████████████████████████| 4/4 [00:00<00:00, 2515.70it/s]\n",
      "100%|███████████████████████████████████████████| 5/5 [00:00<00:00, 2908.27it/s]\n",
      "100%|███████████████████████████████████████████| 4/4 [00:00<00:00, 2570.83it/s]\n",
      "100%|███████████████████████████████████████████| 5/5 [00:00<00:00, 2487.43it/s]\n",
      "100%|███████████████████████████████████████████| 5/5 [00:00<00:00, 2939.66it/s]\n",
      "100%|███████████████████████████████████████████| 4/4 [00:00<00:00, 2775.85it/s]\n",
      "100%|███████████████████████████████████████████| 4/4 [00:00<00:00, 2591.88it/s]\n",
      "100%|███████████████████████████████████████████| 4/4 [00:00<00:00, 2781.83it/s]\n",
      "100%|███████████████████████████████████████████| 4/4 [00:00<00:00, 2663.47it/s]\n",
      "100%|███████████████████████████████████████████| 4/4 [00:00<00:00, 2585.49it/s]\n",
      "100%|███████████████████████████████████████████| 5/5 [00:00<00:00, 2922.45it/s]\n",
      "100%|███████████████████████████████████████████| 4/4 [00:00<00:00, 2129.90it/s]\n",
      "100%|███████████████████████████████████████████| 6/6 [00:00<00:00, 2885.99it/s]\n",
      "100%|███████████████████████████████████████████| 6/6 [00:00<00:00, 2819.38it/s]\n",
      "100%|███████████████████████████████████████████| 6/6 [00:00<00:00, 2591.74it/s]\n",
      "100%|███████████████████████████████████████████| 6/6 [00:00<00:00, 2724.46it/s]\n",
      "100%|███████████████████████████████████████████| 5/5 [00:00<00:00, 2939.66it/s]\n",
      "100%|███████████████████████████████████████████| 4/4 [00:00<00:00, 2647.50it/s]\n",
      "100%|███████████████████████████████████████████| 4/4 [00:00<00:00, 2595.89it/s]\n",
      "100%|███████████████████████████████████████████| 5/5 [00:00<00:00, 2594.52it/s]\n",
      "100%|███████████████████████████████████████████| 4/4 [00:00<00:00, 2711.69it/s]\n",
      "100%|███████████████████████████████████████████| 4/4 [00:00<00:00, 2779.99it/s]\n",
      "100%|███████████████████████████████████████████| 5/5 [00:00<00:00, 2726.41it/s]\n",
      "100%|███████████████████████████████████████████| 4/4 [00:00<00:00, 2629.66it/s]\n",
      "100%|███████████████████████████████████████████| 4/4 [00:00<00:00, 2436.07it/s]\n",
      "100%|███████████████████████████████████████████| 4/4 [00:00<00:00, 2519.10it/s]\n",
      "100%|███████████████████████████████████████████| 4/4 [00:00<00:00, 2305.20it/s]\n",
      "100%|███████████████████████████████████████████| 5/5 [00:00<00:00, 2482.72it/s]\n",
      "100%|███████████████████████████████████████████| 4/4 [00:00<00:00, 2504.81it/s]\n",
      "100%|███████████████████████████████████████████| 5/5 [00:00<00:00, 2965.43it/s]\n",
      "100%|███████████████████████████████████████████| 4/4 [00:00<00:00, 2721.37it/s]\n",
      "100%|███████████████████████████████████████████| 4/4 [00:00<00:00, 2388.22it/s]\n",
      "100%|███████████████████████████████████████████| 4/4 [00:00<00:00, 2517.21it/s]\n",
      "100%|███████████████████████████████████████████| 4/4 [00:00<00:00, 2684.35it/s]\n",
      "100%|███████████████████████████████████████████| 4/4 [00:00<00:00, 2684.78it/s]\n",
      "100%|███████████████████████████████████████████| 5/5 [00:00<00:00, 2767.06it/s]\n",
      "100%|███████████████████████████████████████████| 4/4 [00:00<00:00, 2670.26it/s]\n",
      "100%|███████████████████████████████████████████| 4/4 [00:00<00:00, 2592.68it/s]\n",
      "100%|███████████████████████████████████████████| 4/4 [00:00<00:00, 2675.79it/s]\n",
      "100%|███████████████████████████████████████████| 4/4 [00:00<00:00, 2428.31it/s]\n",
      "100%|███████████████████████████████████████████| 5/5 [00:00<00:00, 2699.73it/s]\n",
      "100%|███████████████████████████████████████████| 4/4 [00:00<00:00, 2438.55it/s]\n",
      "100%|███████████████████████████████████████████| 4/4 [00:00<00:00, 2549.34it/s]\n",
      "100%|███████████████████████████████████████████| 4/4 [00:00<00:00, 2630.07it/s]\n",
      "100%|███████████████████████████████████████████| 4/4 [00:00<00:00, 2702.95it/s]\n",
      "100%|███████████████████████████████████████████| 5/5 [00:00<00:00, 2689.69it/s]\n",
      "100%|███████████████████████████████████████████| 4/4 [00:00<00:00, 2623.08it/s]\n",
      "100%|███████████████████████████████████████████| 4/4 [00:00<00:00, 2509.68it/s]\n",
      "100%|███████████████████████████████████████████| 4/4 [00:00<00:00, 2777.68it/s]\n",
      "100%|███████████████████████████████████████████| 4/4 [00:00<00:00, 2328.88it/s]\n",
      "100%|███████████████████████████████████████████| 4/4 [00:00<00:00, 2551.28it/s]\n",
      "100%|███████████████████████████████████████████| 4/4 [00:00<00:00, 2631.72it/s]\n",
      "100%|███████████████████████████████████████████| 4/4 [00:00<00:00, 2554.00it/s]\n",
      "100%|███████████████████████████████████████████| 4/4 [00:00<00:00, 2637.10it/s]\n",
      "100%|███████████████████████████████████████████| 4/4 [00:00<00:00, 2501.82it/s]\n",
      "100%|███████████████████████████████████████████| 4/4 [00:00<00:00, 2307.10it/s]\n",
      "100%|███████████████████████████████████████████| 4/4 [00:00<00:00, 2563.76it/s]\n",
      "100%|███████████████████████████████████████████| 4/4 [00:00<00:00, 2156.45it/s]\n",
      "100%|███████████████████████████████████████████| 4/4 [00:00<00:00, 2721.37it/s]\n",
      "100%|███████████████████████████████████████████| 4/4 [00:00<00:00, 2640.42it/s]\n",
      "100%|███████████████████████████████████████████| 4/4 [00:00<00:00, 2514.19it/s]\n",
      "100%|███████████████████████████████████████████| 4/4 [00:00<00:00, 2475.25it/s]\n",
      "100%|███████████████████████████████████████████| 5/5 [00:00<00:00, 2785.43it/s]\n",
      "100%|███████████████████████████████████████████| 5/5 [00:00<00:00, 2821.41it/s]\n",
      "100%|███████████████████████████████████████████| 4/4 [00:00<00:00, 2415.03it/s]\n",
      "100%|███████████████████████████████████████████| 5/5 [00:00<00:00, 2751.81it/s]\n",
      "100%|███████████████████████████████████████████| 5/5 [00:00<00:00, 2880.31it/s]\n",
      "100%|███████████████████████████████████████████| 4/4 [00:00<00:00, 2526.69it/s]\n",
      "100%|███████████████████████████████████████████| 4/4 [00:00<00:00, 2624.72it/s]\n",
      "100%|███████████████████████████████████████████| 4/4 [00:00<00:00, 2428.66it/s]\n",
      "100%|███████████████████████████████████████████| 4/4 [00:00<00:00, 2684.35it/s]\n",
      "100%|███████████████████████████████████████████| 4/4 [00:00<00:00, 2487.72it/s]\n",
      "100%|███████████████████████████████████████████| 4/4 [00:00<00:00, 2717.40it/s]\n",
      "100%|███████████████████████████████████████████| 4/4 [00:00<00:00, 2783.68it/s]\n",
      "100%|███████████████████████████████████████████| 4/4 [00:00<00:00, 2636.68it/s]\n",
      "100%|███████████████████████████████████████████| 5/5 [00:00<00:00, 2871.63it/s]\n",
      "100%|███████████████████████████████████████████| 6/6 [00:00<00:00, 3107.28it/s]\n",
      "100%|███████████████████████████████████████████| 4/4 [00:00<00:00, 2549.34it/s]\n",
      "100%|███████████████████████████████████████████| 4/4 [00:00<00:00, 2657.57it/s]\n",
      "100%|███████████████████████████████████████████| 4/4 [00:00<00:00, 2682.64it/s]\n",
      "100%|███████████████████████████████████████████| 4/4 [00:00<00:00, 2524.03it/s]\n",
      "100%|███████████████████████████████████████████| 4/4 [00:00<00:00, 2496.61it/s]\n",
      "100%|███████████████████████████████████████████| 4/4 [00:00<00:00, 2506.31it/s]\n",
      "100%|██████████████████████████████████████| 2591/2591 [00:02<00:00, 999.23it/s]\n"
     ]
    }
   ],
   "source": [
    "vest_base = do_smart_repair(vest_base, min_rook_length = 30.5)"
   ]
  },
  {
   "cell_type": "code",
   "execution_count": 27,
   "metadata": {},
   "outputs": [
    {
     "name": "stderr",
     "output_type": "stream",
     "text": [
      "100%|█████████████████████████████████████| 2591/2591 [00:02<00:00, 1020.32it/s]\n"
     ]
    },
    {
     "data": {
      "text/plain": [
       "True"
      ]
     },
     "execution_count": 27,
     "metadata": {},
     "output_type": "execute_result"
    }
   ],
   "source": [
    "maup.doctor(vest_base)"
   ]
  },
  {
   "cell_type": "markdown",
   "metadata": {},
   "source": [
    "## If it is true for maup doctor, we will use it as the base vest data."
   ]
  },
  {
   "cell_type": "code",
   "execution_count": 28,
   "metadata": {},
   "outputs": [
    {
     "name": "stderr",
     "output_type": "stream",
     "text": [
      "100%|██████████████████████████████████████| 2591/2591 [00:03<00:00, 831.51it/s]\n",
      "100%|██████████████████████████████████████| 2591/2591 [00:13<00:00, 193.70it/s]\n"
     ]
    }
   ],
   "source": [
    "# vap and population have the same GEOID20\n",
    "blocks_to_precincts_assignment = maup.assign(population_df.geometry, vest_base.geometry)"
   ]
  },
  {
   "cell_type": "code",
   "execution_count": 29,
   "metadata": {},
   "outputs": [],
   "source": [
    "vest_base[pop_col] = population_df[pop_col].groupby(blocks_to_precincts_assignment).sum()"
   ]
  },
  {
   "cell_type": "code",
   "execution_count": 30,
   "metadata": {},
   "outputs": [],
   "source": [
    "election_df = gpd.GeoDataFrame(vest_base)"
   ]
  },
  {
   "cell_type": "code",
   "execution_count": 31,
   "metadata": {},
   "outputs": [
    {
     "data": {
      "text/plain": [
       "Index(['COUNTY_FIP', 'COUNTY_NAM', 'PRE20D', 'PRE20O', 'PRE20R', 'PRECINCT',\n",
       "       'STATE_FIPS', 'USS20D', 'USS20R', 'geometry', 'TOTPOP', 'HISP',\n",
       "       'NH_WHITE', 'NH_BLACK', 'NH_AMIN', 'NH_ASIAN', 'NH_NHPI', 'NH_OTHER',\n",
       "       'NH_2MORE', 'H_WHITE', 'H_BLACK', 'H_AMIN', 'H_ASIAN', 'H_NHPI',\n",
       "       'H_OTHER', 'H_2MORE', 'VAP', 'HVAP', 'WVAP', 'BVAP', 'AMINVAP',\n",
       "       'ASIANVAP', 'NHPIVAP', 'OTHERVAP', '2MOREVAP'],\n",
       "      dtype='object')"
      ]
     },
     "execution_count": 31,
     "metadata": {},
     "output_type": "execute_result"
    }
   ],
   "source": [
    "election_df.columns"
   ]
  },
  {
   "cell_type": "markdown",
   "metadata": {},
   "source": [
    "## Check if population agrees"
   ]
  },
  {
   "cell_type": "code",
   "execution_count": 32,
   "metadata": {},
   "outputs": [
    {
     "name": "stdout",
     "output_type": "stream",
     "text": [
      "population agrees\n"
     ]
    }
   ],
   "source": [
    "check_population(population_df, vest_base)"
   ]
  },
  {
   "cell_type": "markdown",
   "metadata": {},
   "source": [
    "## Add more vest data"
   ]
  },
  {
   "cell_type": "code",
   "execution_count": 33,
   "metadata": {},
   "outputs": [],
   "source": [
    "vest18 = gpd.read_file(vest18_data)\n",
    "vest16 = gpd.read_file(vest16_data)"
   ]
  },
  {
   "cell_type": "code",
   "execution_count": 34,
   "metadata": {},
   "outputs": [
    {
     "data": {
      "text/plain": [
       "Index(['COUNTY_FIP', 'COUNTY_NAM', 'PRECINCT', 'G18GOVRHUT', 'G18GOVDHEN',\n",
       "       'G18GOVLWES', 'G18LTGRGRI', 'G18LTGDBLA', 'G18LTGLGIL', 'G18ATGRRUT',\n",
       "       'G18ATGDLEE', 'G18ATGLHIC', 'G18SOSRTHU', 'G18SOSDINM', 'G18SOSLOLS',\n",
       "       'G18TRERMIL', 'G18TRELEWA', 'G18AUDRLEA', 'G18AUDLDIN', 'G18LNDRLAN',\n",
       "       'G18LNDDWIL', 'G18LNDLCAM', 'geometry'],\n",
       "      dtype='object')"
      ]
     },
     "execution_count": 34,
     "metadata": {},
     "output_type": "execute_result"
    }
   ],
   "source": [
    "vest18.columns"
   ]
  },
  {
   "cell_type": "code",
   "execution_count": 35,
   "metadata": {},
   "outputs": [
    {
     "data": {
      "text/plain": [
       "Index(['COUNTY_FIP', 'COUNTY_NAM', 'PRECINCT', 'G16PRERTRU', 'G16PREDCLI',\n",
       "       'G16PRELJOH', 'G16PREOMCM', 'G16PREGSTE', 'G16PREIHED', 'G16PRECCAS',\n",
       "       'G16PREIKAH', 'G16USSRBOO', 'G16USSDELD', 'G16USSLGIL', 'G16USSOWRI',\n",
       "       'geometry'],\n",
       "      dtype='object')"
      ]
     },
     "execution_count": 35,
     "metadata": {},
     "output_type": "execute_result"
    }
   ],
   "source": [
    "vest16.columns"
   ]
  },
  {
   "cell_type": "code",
   "execution_count": 36,
   "metadata": {
    "collapsed": true,
    "jupyter": {
     "outputs_hidden": true
    }
   },
   "outputs": [
    {
     "name": "stderr",
     "output_type": "stream",
     "text": [
      "100%|██████████████████████████████████████| 2617/2617 [00:02<00:00, 995.00it/s]\n"
     ]
    },
    {
     "name": "stdout",
     "output_type": "stream",
     "text": [
      "There are 121 overlaps.\n",
      "There are 626 holes.\n",
      "There are some invalid geometries.\n",
      "Snapping all geometries to a grid with precision 10^( -5 ) to avoid GEOS errors.\n",
      "Identifying overlaps...\n"
     ]
    },
    {
     "name": "stderr",
     "output_type": "stream",
     "text": [
      "100%|█████████████████████████████████████| 4028/4028 [00:00<00:00, 4240.92it/s]\n"
     ]
    },
    {
     "name": "stdout",
     "output_type": "stream",
     "text": [
      "Resolving overlaps...\n",
      "Assigning order 2 pieces...\n",
      "Filling gaps...\n"
     ]
    },
    {
     "name": "stderr",
     "output_type": "stream",
     "text": [
      "Gaps to simplify:  70%|████████████████▏      | 452/644 [01:25<00:36,  5.27it/s]"
     ]
    },
    {
     "ename": "GEOSException",
     "evalue": "TopologyException: side location conflict at 442937.42660000001 4015110.85256. This can occur if the input geometry is invalid.",
     "output_type": "error",
     "traceback": [
      "\u001b[0;31m---------------------------------------------------------------------------\u001b[0m",
      "\u001b[0;31mGEOSException\u001b[0m                             Traceback (most recent call last)",
      "Cell \u001b[0;32mIn[36], line 3\u001b[0m\n\u001b[1;32m      1\u001b[0m \u001b[38;5;66;03m# check the result here\u001b[39;00m\n\u001b[1;32m      2\u001b[0m start_col \u001b[38;5;241m=\u001b[39m \u001b[38;5;241m3\u001b[39m\n\u001b[0;32m----> 3\u001b[0m election_df \u001b[38;5;241m=\u001b[39m \u001b[43madd_vest\u001b[49m\u001b[43m(\u001b[49m\u001b[43mvest18\u001b[49m\u001b[43m,\u001b[49m\u001b[43m \u001b[49m\u001b[43melection_df\u001b[49m\u001b[43m,\u001b[49m\u001b[43m \u001b[49m\u001b[38;5;124;43m'\u001b[39;49m\u001b[38;5;124;43m18\u001b[39;49m\u001b[38;5;124;43m'\u001b[39;49m\u001b[43m,\u001b[49m\u001b[43m \u001b[49m\u001b[43mpopulation_df\u001b[49m\u001b[43m,\u001b[49m\u001b[43m \u001b[49m\u001b[43mstart_col\u001b[49m\u001b[43m)\u001b[49m\n",
      "Cell \u001b[0;32mIn[10], line 10\u001b[0m, in \u001b[0;36madd_vest\u001b[0;34m(vest, df, year, population, start_col, snap_precision)\u001b[0m\n\u001b[1;32m      8\u001b[0m  \u001b[38;5;66;03m# check if it needs to be smart_repair\u001b[39;00m\n\u001b[1;32m      9\u001b[0m \u001b[38;5;28;01mif\u001b[39;00m maup\u001b[38;5;241m.\u001b[39mdoctor(vest) \u001b[38;5;241m!=\u001b[39m \u001b[38;5;28;01mTrue\u001b[39;00m:\n\u001b[0;32m---> 10\u001b[0m     vest \u001b[38;5;241m=\u001b[39m \u001b[43mdo_smart_repair\u001b[49m\u001b[43m(\u001b[49m\u001b[43mvest\u001b[49m\u001b[43m,\u001b[49m\u001b[43m \u001b[49m\u001b[43msnap_precision\u001b[49m\u001b[43m \u001b[49m\u001b[38;5;241;43m=\u001b[39;49m\u001b[43m \u001b[49m\u001b[43msnap_precision\u001b[49m\u001b[43m)\u001b[49m\n\u001b[1;32m     12\u001b[0m \u001b[38;5;66;03m# rename the columns\u001b[39;00m\n\u001b[1;32m     13\u001b[0m original_col \u001b[38;5;241m=\u001b[39m vest\u001b[38;5;241m.\u001b[39mcolumns[start_col:\u001b[38;5;241m-\u001b[39m\u001b[38;5;241m1\u001b[39m]\n",
      "Cell \u001b[0;32mIn[5], line 4\u001b[0m, in \u001b[0;36mdo_smart_repair\u001b[0;34m(df, min_rook_length, snap_precision)\u001b[0m\n\u001b[1;32m      1\u001b[0m \u001b[38;5;28;01mdef\u001b[39;00m\u001b[38;5;250m \u001b[39m\u001b[38;5;21mdo_smart_repair\u001b[39m(df, min_rook_length \u001b[38;5;241m=\u001b[39m \u001b[38;5;28;01mNone\u001b[39;00m, snap_precision \u001b[38;5;241m=\u001b[39m \u001b[38;5;241m10\u001b[39m):\n\u001b[1;32m      2\u001b[0m     \u001b[38;5;66;03m# change it to the UTM it needs for smart_repair\u001b[39;00m\n\u001b[1;32m      3\u001b[0m     df \u001b[38;5;241m=\u001b[39m df\u001b[38;5;241m.\u001b[39mto_crs(df\u001b[38;5;241m.\u001b[39mestimate_utm_crs())\n\u001b[0;32m----> 4\u001b[0m     df \u001b[38;5;241m=\u001b[39m \u001b[43msmart_repair\u001b[49m\u001b[43m(\u001b[49m\u001b[43mdf\u001b[49m\u001b[43m,\u001b[49m\u001b[43m \u001b[49m\u001b[43mmin_rook_length\u001b[49m\u001b[43m \u001b[49m\u001b[38;5;241;43m=\u001b[39;49m\u001b[43m \u001b[49m\u001b[43mmin_rook_length\u001b[49m\u001b[43m)\u001b[49m\n\u001b[1;32m      6\u001b[0m     \u001b[38;5;28;01mif\u001b[39;00m maup\u001b[38;5;241m.\u001b[39mdoctor(df) \u001b[38;5;241m==\u001b[39m \u001b[38;5;28;01mFalse\u001b[39;00m:\n\u001b[1;32m      7\u001b[0m         \u001b[38;5;28;01mraise\u001b[39;00m \u001b[38;5;167;01mException\u001b[39;00m(\u001b[38;5;124m'\u001b[39m\u001b[38;5;124mmaup.doctor failed\u001b[39m\u001b[38;5;124m'\u001b[39m)\n",
      "File \u001b[0;32m~/venvs/maup/lib/python3.12/site-packages/maup/smart_repair.py:181\u001b[0m, in \u001b[0;36msmart_repair\u001b[0;34m(geometries_df, snapped, snap_precision, fill_gaps, fill_gaps_threshold, disconnection_threshold, nest_within_regions, min_rook_length)\u001b[0m\n\u001b[1;32m    178\u001b[0m             \u001b[38;5;28mprint\u001b[39m(num_holes_dropped, \u001b[38;5;124m\"\u001b[39m\u001b[38;5;124mgaps will remain unfilled, because they either are not simply connected or exceed the area threshold.\u001b[39m\u001b[38;5;124m\"\u001b[39m)\n\u001b[1;32m    180\u001b[0m         \u001b[38;5;28mprint\u001b[39m(\u001b[38;5;124m\"\u001b[39m\u001b[38;5;124mFilling gaps...\u001b[39m\u001b[38;5;124m\"\u001b[39m)\n\u001b[0;32m--> 181\u001b[0m         reconstructed_df \u001b[38;5;241m=\u001b[39m \u001b[43msmart_close_gaps\u001b[49m\u001b[43m(\u001b[49m\u001b[43mreconstructed_df\u001b[49m\u001b[43m,\u001b[49m\u001b[43m \u001b[49m\u001b[43mholes_df\u001b[49m\u001b[43m)\u001b[49m\n\u001b[1;32m    183\u001b[0m \u001b[38;5;28;01melse\u001b[39;00m:\n\u001b[1;32m    184\u001b[0m     \u001b[38;5;28;01mif\u001b[39;00m fill_gaps:\n",
      "File \u001b[0;32m~/venvs/maup/lib/python3.12/site-packages/maup/smart_repair.py:636\u001b[0m, in \u001b[0;36msmart_close_gaps\u001b[0;34m(geometries_df, holes_df)\u001b[0m\n\u001b[1;32m    633\u001b[0m holes_df \u001b[38;5;241m=\u001b[39m holes_df\u001b[38;5;241m.\u001b[39mcopy()\n\u001b[1;32m    635\u001b[0m \u001b[38;5;66;03m# First step is to simplify gaps by convexifying the geometry boundaries:\u001b[39;00m\n\u001b[0;32m--> 636\u001b[0m geometries_df, holes_df \u001b[38;5;241m=\u001b[39m \u001b[43mconvexify_hole_boundaries\u001b[49m\u001b[43m(\u001b[49m\u001b[43mgeometries_df\u001b[49m\u001b[43m,\u001b[49m\u001b[43m \u001b[49m\u001b[43mholes_df\u001b[49m\u001b[43m)\u001b[49m\n\u001b[1;32m    638\u001b[0m \u001b[38;5;66;03m# Now proceed with filling simplified gaps.\u001b[39;00m\n\u001b[1;32m    639\u001b[0m \u001b[38;5;28;01mif\u001b[39;00m \u001b[38;5;28mlen\u001b[39m(holes_df) \u001b[38;5;241m>\u001b[39m \u001b[38;5;241m0\u001b[39m:\n",
      "File \u001b[0;32m~/venvs/maup/lib/python3.12/site-packages/maup/smart_repair.py:1587\u001b[0m, in \u001b[0;36mconvexify_hole_boundaries\u001b[0;34m(geometries_df, holes_df)\u001b[0m\n\u001b[1;32m   1584\u001b[0m start \u001b[38;5;241m=\u001b[39m \u001b[38;5;28mlist\u001b[39m(extract_unique_points(thb)\u001b[38;5;241m.\u001b[39mgeoms)[\u001b[38;5;241m0\u001b[39m]\n\u001b[1;32m   1585\u001b[0m end \u001b[38;5;241m=\u001b[39m \u001b[38;5;28mlist\u001b[39m(extract_unique_points(thb)\u001b[38;5;241m.\u001b[39mgeoms)[\u001b[38;5;241m-\u001b[39m\u001b[38;5;241m1\u001b[39m]\n\u001b[0;32m-> 1587\u001b[0m sp \u001b[38;5;241m=\u001b[39m LineString(\u001b[43mshortest_path_in_polygon\u001b[49m\u001b[43m(\u001b[49m\u001b[43mthis_hole\u001b[49m\u001b[43m,\u001b[49m\u001b[43m \u001b[49m\u001b[43mstart\u001b[49m\u001b[43m,\u001b[49m\u001b[43m \u001b[49m\u001b[43mend\u001b[49m\u001b[43m,\u001b[49m\u001b[43m \u001b[49m\u001b[43mfull_triangulation\u001b[49m\u001b[38;5;241;43m=\u001b[39;49m\u001b[43mthis_hole_triangulation\u001b[49m\u001b[43m)\u001b[49m)\n\u001b[1;32m   1589\u001b[0m piece_to_add_boundary \u001b[38;5;241m=\u001b[39m unary_union([thb, sp])\n\u001b[1;32m   1590\u001b[0m \u001b[38;5;28;01mif\u001b[39;00m piece_to_add_boundary\u001b[38;5;241m.\u001b[39mgeom_type \u001b[38;5;241m==\u001b[39m \u001b[38;5;124m\"\u001b[39m\u001b[38;5;124mMultiLineString\u001b[39m\u001b[38;5;124m\"\u001b[39m:\n",
      "File \u001b[0;32m~/venvs/maup/lib/python3.12/site-packages/maup/smart_repair.py:1465\u001b[0m, in \u001b[0;36mshortest_path_in_polygon\u001b[0;34m(polygon, start, end, full_triangulation)\u001b[0m\n\u001b[1;32m   1455\u001b[0m     reflex_sign \u001b[38;5;241m=\u001b[39m \u001b[38;5;241m-\u001b[39m\u001b[38;5;241m1\u001b[39m\n\u001b[1;32m   1457\u001b[0m \u001b[38;5;66;03m# Start by checking whether this point can see the apex, and if so, the\u001b[39;00m\n\u001b[1;32m   1458\u001b[0m \u001b[38;5;66;03m# apex becomes the new predecessor on this funnel.\u001b[39;00m\n\u001b[1;32m   1459\u001b[0m \u001b[38;5;66;03m# Otherwise, find the first point on this funnel that can see point,\u001b[39;00m\n\u001b[0;32m   (...)\u001b[0m\n\u001b[1;32m   1463\u001b[0m \u001b[38;5;66;03m# the new apex, and add the other funnel up to this point to\u001b[39;00m\n\u001b[1;32m   1464\u001b[0m \u001b[38;5;66;03m# found_shortest_path.\u001b[39;00m\n\u001b[0;32m-> 1465\u001b[0m \u001b[38;5;28;01mif\u001b[39;00m \u001b[43mpolygon_simplified\u001b[49m\u001b[38;5;241;43m.\u001b[39;49m\u001b[43mcontains\u001b[49m\u001b[43m(\u001b[49m\u001b[43mLineString\u001b[49m\u001b[43m(\u001b[49m\u001b[43m[\u001b[49m\u001b[43mapex\u001b[49m\u001b[43m,\u001b[49m\u001b[43m \u001b[49m\u001b[43mpoint\u001b[49m\u001b[43m]\u001b[49m\u001b[43m)\u001b[49m\u001b[43m)\u001b[49m \u001b[38;5;129;01mor\u001b[39;00m polygon_simplified\u001b[38;5;241m.\u001b[39mboundary\u001b[38;5;241m.\u001b[39mcontains(LineString([apex, point])):\n\u001b[1;32m   1466\u001b[0m     this_funnel \u001b[38;5;241m=\u001b[39m [apex, point]\n\u001b[1;32m   1468\u001b[0m \u001b[38;5;28;01melse\u001b[39;00m:\n",
      "File \u001b[0;32m~/venvs/maup/lib/python3.12/site-packages/shapely/geometry/base.py:675\u001b[0m, in \u001b[0;36mBaseGeometry.contains\u001b[0;34m(self, other)\u001b[0m\n\u001b[1;32m    673\u001b[0m \u001b[38;5;28;01mdef\u001b[39;00m\u001b[38;5;250m \u001b[39m\u001b[38;5;21mcontains\u001b[39m(\u001b[38;5;28mself\u001b[39m, other):\n\u001b[1;32m    674\u001b[0m \u001b[38;5;250m    \u001b[39m\u001b[38;5;124;03m\"\"\"Returns True if the geometry contains the other, else False\"\"\"\u001b[39;00m\n\u001b[0;32m--> 675\u001b[0m     \u001b[38;5;28;01mreturn\u001b[39;00m _maybe_unpack(\u001b[43mshapely\u001b[49m\u001b[38;5;241;43m.\u001b[39;49m\u001b[43mcontains\u001b[49m\u001b[43m(\u001b[49m\u001b[38;5;28;43mself\u001b[39;49m\u001b[43m,\u001b[49m\u001b[43m \u001b[49m\u001b[43mother\u001b[49m\u001b[43m)\u001b[49m)\n",
      "File \u001b[0;32m~/venvs/maup/lib/python3.12/site-packages/shapely/decorators.py:77\u001b[0m, in \u001b[0;36mmultithreading_enabled.<locals>.wrapped\u001b[0;34m(*args, **kwargs)\u001b[0m\n\u001b[1;32m     75\u001b[0m     \u001b[38;5;28;01mfor\u001b[39;00m arr \u001b[38;5;129;01min\u001b[39;00m array_args:\n\u001b[1;32m     76\u001b[0m         arr\u001b[38;5;241m.\u001b[39mflags\u001b[38;5;241m.\u001b[39mwriteable \u001b[38;5;241m=\u001b[39m \u001b[38;5;28;01mFalse\u001b[39;00m\n\u001b[0;32m---> 77\u001b[0m     \u001b[38;5;28;01mreturn\u001b[39;00m \u001b[43mfunc\u001b[49m\u001b[43m(\u001b[49m\u001b[38;5;241;43m*\u001b[39;49m\u001b[43margs\u001b[49m\u001b[43m,\u001b[49m\u001b[43m \u001b[49m\u001b[38;5;241;43m*\u001b[39;49m\u001b[38;5;241;43m*\u001b[39;49m\u001b[43mkwargs\u001b[49m\u001b[43m)\u001b[49m\n\u001b[1;32m     78\u001b[0m \u001b[38;5;28;01mfinally\u001b[39;00m:\n\u001b[1;32m     79\u001b[0m     \u001b[38;5;28;01mfor\u001b[39;00m arr, old_flag \u001b[38;5;129;01min\u001b[39;00m \u001b[38;5;28mzip\u001b[39m(array_args, old_flags):\n",
      "File \u001b[0;32m~/venvs/maup/lib/python3.12/site-packages/shapely/predicates.py:526\u001b[0m, in \u001b[0;36mcontains\u001b[0;34m(a, b, **kwargs)\u001b[0m\n\u001b[1;32m    472\u001b[0m \u001b[38;5;129m@multithreading_enabled\u001b[39m\n\u001b[1;32m    473\u001b[0m \u001b[38;5;28;01mdef\u001b[39;00m\u001b[38;5;250m \u001b[39m\u001b[38;5;21mcontains\u001b[39m(a, b, \u001b[38;5;241m*\u001b[39m\u001b[38;5;241m*\u001b[39mkwargs):\n\u001b[1;32m    474\u001b[0m \u001b[38;5;250m    \u001b[39m\u001b[38;5;124;03m\"\"\"Returns True if geometry B is completely inside geometry A.\u001b[39;00m\n\u001b[1;32m    475\u001b[0m \n\u001b[1;32m    476\u001b[0m \u001b[38;5;124;03m    A contains B if no points of B lie in the exterior of A and at least one\u001b[39;00m\n\u001b[0;32m   (...)\u001b[0m\n\u001b[1;32m    524\u001b[0m \u001b[38;5;124;03m    False\u001b[39;00m\n\u001b[1;32m    525\u001b[0m \u001b[38;5;124;03m    \"\"\"\u001b[39;00m\n\u001b[0;32m--> 526\u001b[0m     \u001b[38;5;28;01mreturn\u001b[39;00m \u001b[43mlib\u001b[49m\u001b[38;5;241;43m.\u001b[39;49m\u001b[43mcontains\u001b[49m\u001b[43m(\u001b[49m\u001b[43ma\u001b[49m\u001b[43m,\u001b[49m\u001b[43m \u001b[49m\u001b[43mb\u001b[49m\u001b[43m,\u001b[49m\u001b[43m \u001b[49m\u001b[38;5;241;43m*\u001b[39;49m\u001b[38;5;241;43m*\u001b[39;49m\u001b[43mkwargs\u001b[49m\u001b[43m)\u001b[49m\n",
      "\u001b[0;31mGEOSException\u001b[0m: TopologyException: side location conflict at 442937.42660000001 4015110.85256. This can occur if the input geometry is invalid."
     ]
    }
   ],
   "source": [
    "# check the result here\n",
    "start_col = 3\n",
    "election_df = add_vest(vest18, election_df, '18', population_df, start_col)"
   ]
  },
  {
   "cell_type": "code",
   "execution_count": null,
   "metadata": {},
   "outputs": [],
   "source": [
    "election_df.columns"
   ]
  },
  {
   "cell_type": "code",
   "execution_count": 37,
   "metadata": {},
   "outputs": [
    {
     "name": "stderr",
     "output_type": "stream",
     "text": [
      "\n",
      "\u001b[A%|                                                  | 0/2525 [00:00<?, ?it/s]\n",
      "\u001b[A%|█▏                                      | 77/2525 [00:00<00:03, 761.95it/s]\n",
      "\u001b[A%|██▉                                    | 194/2525 [00:00<00:02, 998.85it/s]\n",
      "\u001b[A%|████▌                                 | 301/2525 [00:00<00:02, 1008.56it/s]\n",
      "\u001b[A%|██████▌                               | 433/2525 [00:00<00:01, 1118.11it/s]\n",
      "\u001b[A%|████████▏                             | 545/2525 [00:00<00:01, 1099.88it/s]\n",
      "\u001b[A%|█████████▉                            | 657/2525 [00:00<00:01, 1106.40it/s]\n",
      "\u001b[A%|███████████▌                          | 768/2525 [00:00<00:01, 1075.56it/s]\n",
      "\u001b[A%|█████████████▌                         | 876/2525 [00:00<00:01, 850.56it/s]\n",
      "\u001b[A%|███████████████▏                     | 1035/2525 [00:01<00:01, 1039.77it/s]\n",
      "\u001b[A%|█████████████████▎                    | 1148/2525 [00:01<00:01, 977.26it/s]\n",
      "\u001b[A%|██████████████████▊                   | 1253/2525 [00:01<00:01, 956.45it/s]\n",
      "\u001b[A%|████████████████████▎                 | 1353/2525 [00:01<00:01, 770.19it/s]\n",
      "\u001b[A%|█████████████████████▋                | 1438/2525 [00:01<00:01, 784.00it/s]\n",
      "\u001b[A%|██████████████████████▉               | 1523/2525 [00:01<00:01, 780.34it/s]\n",
      "\u001b[A%|████████████████████████▏             | 1609/2525 [00:01<00:01, 797.73it/s]\n",
      "\u001b[A%|█████████████████████████▋            | 1707/2525 [00:01<00:00, 843.72it/s]\n",
      "\u001b[A%|███████████████████████████▍          | 1826/2525 [00:01<00:00, 937.82it/s]\n",
      "\u001b[A%|████████████████████████████▉         | 1923/2525 [00:02<00:00, 901.70it/s]\n",
      "\u001b[A%|██████████████████████████████▎       | 2016/2525 [00:02<00:00, 863.53it/s]\n",
      "\u001b[A%|███████████████████████████████▋      | 2104/2525 [00:02<00:00, 758.38it/s]\n",
      "\u001b[A%|██████████████████████████████████▏   | 2272/2525 [00:02<00:00, 990.46it/s]\n",
      "\u001b[A%|███████████████████████████████████▊  | 2378/2525 [00:02<00:00, 999.39it/s]\n",
      "100%|██████████████████████████████████████| 2525/2525 [00:02<00:00, 944.13it/s]\n"
     ]
    },
    {
     "name": "stdout",
     "output_type": "stream",
     "text": [
      "There are 147 overlaps.\n",
      "There are 815 holes.\n",
      "There are some invalid geometries.\n",
      "Snapping all geometries to a grid with precision 10^( -5 ) to avoid GEOS errors.\n",
      "Identifying overlaps...\n"
     ]
    },
    {
     "name": "stderr",
     "output_type": "stream",
     "text": [
      "\n",
      "\u001b[A%|                                                  | 0/4227 [00:00<?, ?it/s]\n",
      "\u001b[A%|███▋                                  | 417/4227 [00:00<00:00, 4161.10it/s]\n",
      "\u001b[A%|███████▌                              | 840/4227 [00:00<00:00, 4198.21it/s]\n",
      "\u001b[A%|███████████▊                         | 1356/4227 [00:00<00:00, 4633.47it/s]\n",
      "\u001b[A%|███████████████▉                     | 1820/4227 [00:00<00:00, 4237.98it/s]\n",
      "\u001b[A%|███████████████████▋                 | 2249/4227 [00:00<00:00, 3916.18it/s]\n",
      "\u001b[A%|███████████████████████▏             | 2647/4227 [00:00<00:00, 3705.59it/s]\n",
      "\u001b[A%|██████████████████████████▌          | 3028/4227 [00:00<00:00, 3732.39it/s]\n",
      "\u001b[A%|██████████████████████████████▎      | 3457/4227 [00:00<00:00, 3895.70it/s]\n",
      "100%|█████████████████████████████████████| 4227/4227 [00:01<00:00, 4161.66it/s]\n"
     ]
    },
    {
     "name": "stdout",
     "output_type": "stream",
     "text": [
      "Resolving overlaps...\n",
      "Assigning order 2 pieces...\n",
      "1 gaps will remain unfilled, because they either are not simply connected or exceed the area threshold.\n",
      "Filling gaps...\n"
     ]
    },
    {
     "name": "stderr",
     "output_type": "stream",
     "text": [
      "\n",
      "\u001b[As to simplify:   0%|                                 | 0/793 [00:00<?, ?it/s]\n",
      "\u001b[As to simplify:   0%|                         | 1/793 [00:00<02:12,  5.97it/s]\n",
      "\u001b[As to simplify:   0%|                         | 2/793 [00:00<02:10,  6.07it/s]\n",
      "\u001b[As to simplify:   0%|                         | 3/793 [00:00<02:14,  5.88it/s]\n",
      "\u001b[As to simplify:   1%|▏                        | 4/793 [00:00<02:14,  5.87it/s]\n",
      "\u001b[As to simplify:   1%|▏                        | 5/793 [00:01<02:57,  4.44it/s]\n",
      "\u001b[As to simplify:   1%|▏                        | 6/793 [00:01<02:42,  4.85it/s]\n",
      "\u001b[As to simplify:   1%|▏                        | 7/793 [00:01<02:32,  5.16it/s]\n",
      "\u001b[As to simplify:   1%|▎                        | 8/793 [00:01<02:24,  5.42it/s]\n",
      "\u001b[As to simplify:   1%|▎                        | 9/793 [00:01<02:29,  5.25it/s]\n",
      "\u001b[As to simplify:   1%|▎                       | 10/793 [00:01<02:24,  5.42it/s]\n",
      "\u001b[As to simplify:   1%|▎                       | 11/793 [00:02<02:25,  5.38it/s]\n",
      "\u001b[As to simplify:   2%|▎                       | 12/793 [00:02<02:24,  5.42it/s]\n",
      "\u001b[As to simplify:   2%|▍                       | 13/793 [00:02<02:21,  5.50it/s]\n",
      "\u001b[As to simplify:   2%|▍                       | 14/793 [00:02<02:20,  5.54it/s]\n",
      "\u001b[As to simplify:   2%|▍                       | 15/793 [00:02<02:19,  5.58it/s]\n",
      "\u001b[As to simplify:   2%|▍                       | 16/793 [00:02<02:19,  5.57it/s]\n",
      "\u001b[As to simplify:   2%|▌                       | 17/793 [00:03<02:18,  5.59it/s]\n",
      "\u001b[As to simplify:   2%|▌                       | 18/793 [00:03<02:19,  5.57it/s]\n",
      "\u001b[As to simplify:   2%|▌                       | 19/793 [00:03<02:19,  5.56it/s]\n",
      "\u001b[As to simplify:   3%|▌                       | 20/793 [00:03<02:18,  5.59it/s]\n",
      "\u001b[As to simplify:   3%|▋                       | 21/793 [00:03<02:17,  5.61it/s]\n",
      "\u001b[As to simplify:   3%|▋                       | 22/793 [00:04<02:16,  5.64it/s]\n",
      "\u001b[As to simplify:   3%|▋                       | 23/793 [00:04<02:16,  5.65it/s]\n",
      "\u001b[As to simplify:   3%|▋                       | 24/793 [00:04<02:15,  5.66it/s]\n",
      "\u001b[As to simplify:   3%|▊                       | 25/793 [00:04<02:16,  5.64it/s]\n",
      "\u001b[As to simplify:   3%|▊                       | 26/793 [00:04<02:16,  5.63it/s]\n",
      "\u001b[As to simplify:   3%|▊                       | 27/793 [00:04<02:16,  5.63it/s]\n",
      "\u001b[As to simplify:   4%|▊                       | 28/793 [00:05<02:15,  5.64it/s]\n",
      "\u001b[As to simplify:   4%|▉                       | 29/793 [00:05<02:15,  5.64it/s]\n",
      "\u001b[As to simplify:   4%|▉                       | 30/793 [00:05<02:14,  5.66it/s]\n",
      "\u001b[As to simplify:   4%|▉                       | 31/793 [00:05<02:15,  5.64it/s]\n",
      "\u001b[As to simplify:   4%|▉                       | 32/793 [00:05<02:15,  5.61it/s]\n",
      "\u001b[As to simplify:   4%|▉                       | 33/793 [00:05<02:14,  5.64it/s]\n",
      "\u001b[As to simplify:   4%|█                       | 34/793 [00:06<02:13,  5.67it/s]\n",
      "\u001b[As to simplify:   4%|█                       | 35/793 [00:06<02:13,  5.66it/s]\n",
      "\u001b[As to simplify:   5%|█                       | 36/793 [00:06<02:13,  5.68it/s]\n",
      "\u001b[As to simplify:   5%|█                       | 37/793 [00:06<02:12,  5.69it/s]\n",
      "\u001b[As to simplify:   5%|█▏                      | 38/793 [00:06<02:12,  5.70it/s]\n",
      "\u001b[As to simplify:   5%|█▏                      | 39/793 [00:07<02:12,  5.69it/s]\n",
      "\u001b[As to simplify:   5%|█▏                      | 40/793 [00:07<02:12,  5.69it/s]\n",
      "\u001b[As to simplify:   5%|█▏                      | 41/793 [00:07<02:11,  5.70it/s]\n",
      "\u001b[As to simplify:   5%|█▎                      | 42/793 [00:07<02:11,  5.70it/s]\n",
      "\u001b[As to simplify:   5%|█▎                      | 43/793 [00:07<02:11,  5.72it/s]\n",
      "\u001b[As to simplify:   6%|█▎                      | 44/793 [00:07<02:10,  5.73it/s]\n",
      "\u001b[As to simplify:   6%|█▎                      | 45/793 [00:08<02:10,  5.74it/s]\n",
      "\u001b[As to simplify:   6%|█▍                      | 46/793 [00:08<02:11,  5.69it/s]\n",
      "\u001b[As to simplify:   6%|█▍                      | 47/793 [00:08<02:11,  5.68it/s]\n",
      "\u001b[As to simplify:   6%|█▍                      | 48/793 [00:08<02:10,  5.70it/s]\n",
      "\u001b[As to simplify:   6%|█▍                      | 49/793 [00:08<02:11,  5.66it/s]\n",
      "\u001b[As to simplify:   6%|█▌                      | 50/793 [00:08<02:11,  5.65it/s]\n",
      "\u001b[As to simplify:   6%|█▌                      | 51/793 [00:09<02:17,  5.40it/s]\n",
      "\u001b[As to simplify:   7%|█▌                      | 52/793 [00:09<02:15,  5.47it/s]\n",
      "\u001b[As to simplify:   7%|█▌                      | 53/793 [00:09<02:13,  5.55it/s]\n",
      "\u001b[As to simplify:   7%|█▋                      | 54/793 [00:09<02:11,  5.61it/s]\n",
      "\u001b[As to simplify:   7%|█▋                      | 55/793 [00:09<02:10,  5.64it/s]\n",
      "\u001b[As to simplify:   7%|█▋                      | 56/793 [00:10<02:09,  5.69it/s]\n",
      "\u001b[As to simplify:   7%|█▋                      | 57/793 [00:10<02:08,  5.71it/s]\n",
      "\u001b[As to simplify:   7%|█▊                      | 58/793 [00:10<02:08,  5.73it/s]\n",
      "\u001b[As to simplify:   7%|█▊                      | 59/793 [00:10<02:08,  5.71it/s]\n",
      "\u001b[As to simplify:   8%|█▊                      | 60/793 [00:10<02:08,  5.72it/s]\n",
      "\u001b[As to simplify:   8%|█▊                      | 61/793 [00:10<02:08,  5.71it/s]\n",
      "\u001b[As to simplify:   8%|█▉                      | 62/793 [00:11<02:26,  4.98it/s]\n",
      "\u001b[As to simplify:   8%|█▉                      | 63/793 [00:11<02:20,  5.18it/s]\n",
      "\u001b[As to simplify:   8%|█▉                      | 64/793 [00:11<02:16,  5.34it/s]\n",
      "\u001b[As to simplify:   8%|█▉                      | 65/793 [00:11<02:13,  5.45it/s]\n",
      "\u001b[As to simplify:   8%|█▉                      | 66/793 [00:11<02:14,  5.39it/s]\n",
      "\u001b[As to simplify:   8%|██                      | 67/793 [00:12<02:12,  5.48it/s]\n",
      "\u001b[As to simplify:   9%|██                      | 68/793 [00:12<02:12,  5.49it/s]\n",
      "\u001b[As to simplify:   9%|██                      | 69/793 [00:12<02:10,  5.56it/s]\n",
      "\u001b[As to simplify:   9%|██                      | 70/793 [00:12<02:09,  5.57it/s]\n",
      "\u001b[As to simplify:   9%|██▏                     | 71/793 [00:12<02:08,  5.61it/s]\n",
      "\u001b[As to simplify:   9%|██▏                     | 72/793 [00:13<02:39,  4.51it/s]\n",
      "\u001b[As to simplify:   9%|██▏                     | 73/793 [00:13<02:30,  4.80it/s]\n",
      "\u001b[As to simplify:   9%|██▏                     | 74/793 [00:13<02:22,  5.05it/s]\n",
      "\u001b[As to simplify:   9%|██▎                     | 75/793 [00:13<02:16,  5.25it/s]\n",
      "\u001b[As to simplify:  10%|██▎                     | 76/793 [00:13<02:13,  5.38it/s]\n",
      "\u001b[As to simplify:  10%|██▎                     | 77/793 [00:13<02:10,  5.49it/s]\n",
      "\u001b[As to simplify:  10%|██▎                     | 78/793 [00:14<02:08,  5.57it/s]\n",
      "\u001b[As to simplify:  10%|██▍                     | 79/793 [00:14<02:07,  5.61it/s]\n",
      "\u001b[As to simplify:  10%|██▍                     | 80/793 [00:14<02:05,  5.66it/s]\n",
      "\u001b[As to simplify:  10%|██▍                     | 81/793 [00:14<02:05,  5.67it/s]\n",
      "\u001b[As to simplify:  10%|██▍                     | 82/793 [00:14<02:04,  5.70it/s]\n",
      "\u001b[As to simplify:  10%|██▌                     | 83/793 [00:15<02:05,  5.67it/s]\n",
      "\u001b[As to simplify:  11%|██▌                     | 84/793 [00:15<02:04,  5.69it/s]\n",
      "\u001b[As to simplify:  11%|██▌                     | 85/793 [00:15<02:04,  5.70it/s]\n",
      "\u001b[As to simplify:  11%|██▌                     | 86/793 [00:15<02:03,  5.70it/s]\n",
      "\u001b[As to simplify:  11%|██▋                     | 87/793 [00:15<02:03,  5.71it/s]\n",
      "\u001b[As to simplify:  11%|██▋                     | 88/793 [00:15<02:03,  5.73it/s]\n",
      "\u001b[As to simplify:  11%|██▋                     | 89/793 [00:16<02:02,  5.73it/s]\n",
      "\u001b[As to simplify:  11%|██▋                     | 90/793 [00:16<02:03,  5.71it/s]\n",
      "\u001b[As to simplify:  11%|██▊                     | 91/793 [00:16<02:03,  5.71it/s]\n",
      "\u001b[As to simplify:  12%|██▊                     | 92/793 [00:16<02:02,  5.72it/s]\n",
      "\u001b[As to simplify:  12%|██▊                     | 93/793 [00:16<02:02,  5.72it/s]\n",
      "\u001b[As to simplify:  12%|██▊                     | 94/793 [00:16<02:02,  5.73it/s]\n",
      "\u001b[As to simplify:  12%|██▉                     | 95/793 [00:17<02:01,  5.74it/s]\n",
      "\u001b[As to simplify:  12%|██▉                     | 96/793 [00:17<02:01,  5.74it/s]\n",
      "\u001b[As to simplify:  12%|██▉                     | 97/793 [00:17<02:01,  5.74it/s]\n",
      "\u001b[As to simplify:  12%|██▉                     | 98/793 [00:17<02:01,  5.71it/s]\n",
      "\u001b[As to simplify:  12%|██▉                     | 99/793 [00:17<02:17,  5.03it/s]\n",
      "\u001b[As to simplify:  13%|██▉                    | 100/793 [00:18<02:15,  5.13it/s]\n",
      "\u001b[As to simplify:  13%|██▉                    | 101/793 [00:18<02:10,  5.30it/s]\n",
      "\u001b[As to simplify:  13%|██▉                    | 102/793 [00:18<02:07,  5.42it/s]\n",
      "\u001b[As to simplify:  13%|██▉                    | 103/793 [00:18<02:05,  5.50it/s]\n",
      "\u001b[As to simplify:  13%|███                    | 104/793 [00:18<02:03,  5.56it/s]\n",
      "\u001b[As to simplify:  13%|███                    | 105/793 [00:18<02:03,  5.56it/s]\n",
      "\u001b[As to simplify:  13%|███                    | 106/793 [00:19<02:02,  5.60it/s]\n",
      "\u001b[As to simplify:  13%|███                    | 107/793 [00:19<02:03,  5.57it/s]\n",
      "\u001b[As to simplify:  14%|███▏                   | 108/793 [00:19<02:02,  5.59it/s]\n",
      "\u001b[As to simplify:  14%|███▏                   | 109/793 [00:19<02:01,  5.63it/s]\n",
      "\u001b[As to simplify:  14%|███▏                   | 110/793 [00:19<02:00,  5.65it/s]\n",
      "\u001b[As to simplify:  14%|███▏                   | 111/793 [00:20<01:59,  5.69it/s]\n",
      "\u001b[As to simplify:  14%|███▏                   | 112/793 [00:20<01:59,  5.68it/s]\n",
      "\u001b[As to simplify:  14%|███▎                   | 113/793 [00:20<01:59,  5.69it/s]\n",
      "\u001b[As to simplify:  14%|███▎                   | 114/793 [00:20<01:59,  5.69it/s]\n",
      "\u001b[As to simplify:  15%|███▎                   | 115/793 [00:20<01:59,  5.70it/s]\n",
      "\u001b[As to simplify:  15%|███▎                   | 116/793 [00:20<01:59,  5.67it/s]\n",
      "\u001b[As to simplify:  15%|███▍                   | 117/793 [00:21<01:59,  5.66it/s]\n",
      "\u001b[As to simplify:  15%|███▍                   | 118/793 [00:21<01:58,  5.68it/s]\n",
      "\u001b[As to simplify:  15%|███▍                   | 119/793 [00:21<01:58,  5.69it/s]\n",
      "\u001b[As to simplify:  15%|███▍                   | 120/793 [00:21<01:58,  5.70it/s]\n",
      "\u001b[As to simplify:  15%|███▌                   | 121/793 [00:21<01:58,  5.69it/s]\n",
      "\u001b[As to simplify:  15%|███▌                   | 122/793 [00:21<01:59,  5.63it/s]\n",
      "\u001b[As to simplify:  16%|███▌                   | 123/793 [00:22<01:59,  5.61it/s]\n",
      "\u001b[As to simplify:  16%|███▌                   | 124/793 [00:22<02:00,  5.57it/s]\n",
      "\u001b[As to simplify:  16%|███▋                   | 125/793 [00:22<02:00,  5.56it/s]\n",
      "\u001b[As to simplify:  16%|███▋                   | 126/793 [00:22<02:00,  5.54it/s]\n",
      "\u001b[As to simplify:  16%|███▋                   | 127/793 [00:22<02:01,  5.50it/s]\n",
      "\u001b[As to simplify:  16%|███▋                   | 128/793 [00:23<02:01,  5.49it/s]\n",
      "\u001b[As to simplify:  16%|███▋                   | 129/793 [00:23<02:00,  5.49it/s]\n",
      "\u001b[As to simplify:  16%|███▊                   | 130/793 [00:23<02:20,  4.72it/s]\n",
      "\u001b[As to simplify:  17%|███▊                   | 131/793 [00:23<02:14,  4.93it/s]\n",
      "\u001b[As to simplify:  17%|███▊                   | 132/793 [00:23<02:10,  5.08it/s]\n",
      "\u001b[As to simplify:  17%|███▊                   | 133/793 [00:24<02:06,  5.20it/s]\n",
      "\u001b[As to simplify:  17%|███▉                   | 134/793 [00:24<02:04,  5.28it/s]\n",
      "\u001b[As to simplify:  17%|███▉                   | 135/793 [00:24<02:03,  5.33it/s]\n",
      "\u001b[As to simplify:  17%|███▉                   | 136/793 [00:24<02:02,  5.36it/s]\n",
      "\u001b[As to simplify:  17%|███▉                   | 137/793 [00:24<02:01,  5.40it/s]\n",
      "\u001b[As to simplify:  17%|████                   | 138/793 [00:24<02:00,  5.44it/s]\n",
      "\u001b[As to simplify:  18%|████                   | 139/793 [00:25<01:58,  5.50it/s]\n",
      "\u001b[As to simplify:  18%|████                   | 140/793 [00:25<01:58,  5.52it/s]\n",
      "\u001b[As to simplify:  18%|████                   | 141/793 [00:25<01:58,  5.51it/s]\n",
      "\u001b[As to simplify:  18%|████                   | 142/793 [00:25<01:57,  5.54it/s]\n",
      "\u001b[As to simplify:  18%|████▏                  | 143/793 [00:25<01:57,  5.53it/s]\n",
      "\u001b[As to simplify:  18%|████▏                  | 144/793 [00:26<01:57,  5.54it/s]\n",
      "\u001b[As to simplify:  18%|████▏                  | 145/793 [00:26<01:56,  5.57it/s]\n",
      "\u001b[As to simplify:  18%|████▏                  | 146/793 [00:26<01:55,  5.58it/s]\n",
      "\u001b[As to simplify:  19%|████▎                  | 147/793 [00:26<01:57,  5.52it/s]\n",
      "\u001b[As to simplify:  19%|████▎                  | 148/793 [00:26<01:56,  5.54it/s]\n",
      "\u001b[As to simplify:  19%|████▎                  | 149/793 [00:26<01:55,  5.57it/s]\n",
      "\u001b[As to simplify:  19%|████▎                  | 150/793 [00:27<01:55,  5.58it/s]\n",
      "\u001b[As to simplify:  19%|████▍                  | 151/793 [00:27<01:54,  5.59it/s]\n",
      "\u001b[As to simplify:  19%|████▍                  | 152/793 [00:27<02:12,  4.82it/s]\n",
      "\u001b[As to simplify:  19%|████▍                  | 153/793 [00:27<02:07,  5.02it/s]\n",
      "\u001b[As to simplify:  19%|████▍                  | 154/793 [00:27<02:03,  5.16it/s]\n",
      "\u001b[As to simplify:  20%|████▍                  | 155/793 [00:28<02:00,  5.29it/s]\n",
      "\u001b[As to simplify:  20%|████▌                  | 156/793 [00:28<01:58,  5.38it/s]\n",
      "\u001b[As to simplify:  20%|████▌                  | 157/793 [00:28<02:21,  4.49it/s]\n",
      "\u001b[As to simplify:  20%|████▌                  | 158/793 [00:28<02:13,  4.77it/s]\n",
      "\u001b[As to simplify:  20%|████▌                  | 159/793 [00:28<02:07,  4.97it/s]\n",
      "\u001b[As to simplify:  20%|████▋                  | 160/793 [00:29<02:02,  5.15it/s]\n",
      "\u001b[As to simplify:  20%|████▋                  | 161/793 [00:29<01:59,  5.27it/s]\n",
      "\u001b[As to simplify:  20%|████▋                  | 162/793 [00:29<01:57,  5.36it/s]\n",
      "\u001b[As to simplify:  21%|████▋                  | 163/793 [00:29<01:56,  5.41it/s]\n",
      "\u001b[As to simplify:  21%|████▊                  | 164/793 [00:29<01:55,  5.45it/s]\n",
      "\u001b[As to simplify:  21%|████▊                  | 165/793 [00:30<01:54,  5.47it/s]\n",
      "\u001b[As to simplify:  21%|████▊                  | 166/793 [00:30<01:53,  5.51it/s]\n",
      "\u001b[As to simplify:  21%|████▊                  | 167/793 [00:30<01:53,  5.54it/s]\n",
      "\u001b[As to simplify:  21%|████▊                  | 168/793 [00:30<01:52,  5.58it/s]\n",
      "\u001b[As to simplify:  21%|████▉                  | 169/793 [00:30<01:51,  5.61it/s]\n",
      "\u001b[As to simplify:  21%|████▉                  | 170/793 [00:30<01:50,  5.63it/s]\n",
      "\u001b[As to simplify:  22%|████▉                  | 171/793 [00:31<01:50,  5.62it/s]\n",
      "\u001b[As to simplify:  22%|████▉                  | 172/793 [00:31<01:50,  5.63it/s]\n",
      "\u001b[As to simplify:  22%|█████                  | 173/793 [00:31<01:50,  5.61it/s]\n",
      "\u001b[As to simplify:  22%|█████                  | 174/793 [00:31<02:07,  4.85it/s]\n",
      "\u001b[As to simplify:  22%|█████                  | 175/793 [00:31<02:03,  5.02it/s]\n",
      "\u001b[As to simplify:  22%|█████                  | 176/793 [00:32<01:58,  5.19it/s]\n",
      "\u001b[As to simplify:  22%|█████▏                 | 177/793 [00:32<01:56,  5.30it/s]\n",
      "\u001b[As to simplify:  22%|█████▏                 | 178/793 [00:32<01:54,  5.38it/s]\n",
      "\u001b[As to simplify:  23%|█████▏                 | 179/793 [00:32<01:53,  5.39it/s]\n",
      "\u001b[As to simplify:  23%|█████▏                 | 180/793 [00:32<01:53,  5.40it/s]\n",
      "\u001b[As to simplify:  23%|█████▏                 | 181/793 [00:33<01:55,  5.30it/s]\n",
      "\u001b[As to simplify:  23%|█████▎                 | 182/793 [00:33<01:54,  5.34it/s]\n",
      "\u001b[As to simplify:  23%|█████▎                 | 183/793 [00:33<01:54,  5.35it/s]\n",
      "\u001b[As to simplify:  23%|█████▎                 | 184/793 [00:33<01:54,  5.34it/s]\n",
      "\u001b[As to simplify:  23%|█████▎                 | 185/793 [00:33<01:51,  5.45it/s]\n",
      "\u001b[As to simplify:  23%|█████▍                 | 186/793 [00:33<01:48,  5.61it/s]\n",
      "\u001b[As to simplify:  24%|█████▍                 | 187/793 [00:34<01:47,  5.63it/s]\n",
      "\u001b[As to simplify:  24%|█████▍                 | 188/793 [00:34<01:48,  5.60it/s]\n",
      "\u001b[As to simplify:  24%|█████▍                 | 189/793 [00:34<01:45,  5.71it/s]\n",
      "\u001b[As to simplify:  24%|█████▌                 | 190/793 [00:34<01:43,  5.82it/s]\n",
      "\u001b[As to simplify:  24%|█████▌                 | 191/793 [00:34<01:42,  5.84it/s]\n",
      "\u001b[As to simplify:  24%|█████▌                 | 192/793 [00:34<01:43,  5.82it/s]\n",
      "\u001b[As to simplify:  24%|█████▌                 | 193/793 [00:35<02:00,  4.97it/s]\n",
      "\u001b[As to simplify:  24%|█████▋                 | 194/793 [00:35<01:54,  5.23it/s]\n",
      "\u001b[As to simplify:  25%|█████▋                 | 195/793 [00:35<01:49,  5.47it/s]\n",
      "\u001b[As to simplify:  25%|█████▋                 | 196/793 [00:35<01:45,  5.65it/s]\n",
      "\u001b[As to simplify:  25%|█████▋                 | 197/793 [00:35<01:45,  5.63it/s]\n",
      "\u001b[As to simplify:  25%|█████▋                 | 198/793 [00:36<01:43,  5.74it/s]\n",
      "\u001b[As to simplify:  25%|█████▊                 | 199/793 [00:36<01:42,  5.79it/s]\n",
      "\u001b[As to simplify:  25%|█████▊                 | 200/793 [00:36<01:40,  5.88it/s]\n",
      "\u001b[As to simplify:  25%|█████▊                 | 201/793 [00:36<01:39,  5.93it/s]\n",
      "\u001b[As to simplify:  25%|█████▊                 | 202/793 [00:36<01:39,  5.97it/s]\n",
      "\u001b[As to simplify:  26%|█████▉                 | 203/793 [00:36<01:38,  5.99it/s]\n",
      "\u001b[As to simplify:  26%|█████▉                 | 204/793 [00:37<01:37,  6.03it/s]\n",
      "\u001b[As to simplify:  26%|█████▉                 | 205/793 [00:37<01:37,  6.00it/s]\n",
      "\u001b[As to simplify:  26%|█████▉                 | 206/793 [00:37<01:37,  6.02it/s]\n",
      "\u001b[As to simplify:  26%|██████                 | 207/793 [00:37<01:37,  6.02it/s]\n",
      "\u001b[As to simplify:  26%|██████                 | 208/793 [00:37<01:36,  6.04it/s]\n",
      "\u001b[As to simplify:  26%|██████                 | 209/793 [00:37<01:36,  6.07it/s]\n",
      "\u001b[As to simplify:  26%|██████                 | 210/793 [00:38<01:36,  6.06it/s]\n",
      "\u001b[As to simplify:  27%|██████                 | 211/793 [00:38<01:35,  6.09it/s]\n",
      "\u001b[As to simplify:  27%|██████▏                | 212/793 [00:38<01:35,  6.08it/s]\n",
      "\u001b[As to simplify:  27%|██████▏                | 213/793 [00:38<01:35,  6.06it/s]\n",
      "\u001b[As to simplify:  27%|██████▏                | 214/793 [00:38<01:35,  6.07it/s]\n",
      "\u001b[As to simplify:  27%|██████▏                | 215/793 [00:38<01:35,  6.06it/s]\n",
      "\u001b[As to simplify:  27%|██████▎                | 216/793 [00:39<01:51,  5.15it/s]\n",
      "\u001b[As to simplify:  27%|██████▎                | 217/793 [00:39<01:47,  5.38it/s]\n",
      "\u001b[As to simplify:  27%|██████▎                | 218/793 [00:39<01:43,  5.57it/s]\n",
      "\u001b[As to simplify:  28%|██████▎                | 219/793 [00:39<01:40,  5.71it/s]\n",
      "\u001b[As to simplify:  28%|██████▍                | 220/793 [00:39<01:38,  5.82it/s]\n",
      "\u001b[As to simplify:  28%|██████▍                | 221/793 [00:39<01:41,  5.63it/s]\n",
      "\u001b[As to simplify:  28%|██████▍                | 222/793 [00:40<01:43,  5.53it/s]\n",
      "\u001b[As to simplify:  28%|██████▍                | 223/793 [00:40<01:41,  5.62it/s]\n",
      "\u001b[As to simplify:  28%|██████▍                | 224/793 [00:40<01:40,  5.64it/s]\n",
      "\u001b[As to simplify:  28%|██████▌                | 225/793 [00:40<01:38,  5.74it/s]\n",
      "\u001b[As to simplify:  28%|██████▌                | 226/793 [00:40<01:38,  5.78it/s]\n",
      "\u001b[As to simplify:  29%|██████▌                | 227/793 [00:41<01:37,  5.79it/s]\n",
      "\u001b[As to simplify:  29%|██████▌                | 228/793 [00:41<01:36,  5.88it/s]\n",
      "\u001b[As to simplify:  29%|██████▋                | 229/793 [00:41<01:35,  5.90it/s]\n",
      "\u001b[As to simplify:  29%|██████▋                | 230/793 [00:41<01:37,  5.79it/s]\n",
      "\u001b[As to simplify:  29%|██████▋                | 231/793 [00:41<01:36,  5.81it/s]\n",
      "\u001b[As to simplify:  29%|██████▋                | 232/793 [00:41<01:35,  5.88it/s]\n",
      "\u001b[As to simplify:  29%|██████▊                | 233/793 [00:42<01:35,  5.87it/s]\n",
      "\u001b[As to simplify:  30%|██████▊                | 234/793 [00:42<01:34,  5.89it/s]\n",
      "\u001b[As to simplify:  30%|██████▊                | 235/793 [00:42<01:34,  5.88it/s]\n",
      "\u001b[As to simplify:  30%|██████▊                | 236/793 [00:42<01:49,  5.10it/s]\n",
      "\u001b[As to simplify:  30%|██████▊                | 237/793 [00:42<01:45,  5.29it/s]\n",
      "\u001b[As to simplify:  30%|██████▉                | 238/793 [00:42<01:42,  5.44it/s]\n",
      "\u001b[As to simplify:  30%|██████▉                | 239/793 [00:43<01:39,  5.58it/s]\n",
      "\u001b[As to simplify:  30%|██████▉                | 240/793 [00:43<01:37,  5.68it/s]\n",
      "\u001b[As to simplify:  30%|██████▉                | 241/793 [00:43<01:36,  5.72it/s]\n",
      "\u001b[As to simplify:  31%|███████                | 242/793 [00:43<01:35,  5.75it/s]\n",
      "\u001b[As to simplify:  31%|███████                | 243/793 [00:43<01:37,  5.64it/s]\n",
      "\u001b[As to simplify:  31%|███████                | 244/793 [00:44<01:36,  5.68it/s]\n",
      "\u001b[As to simplify:  31%|███████                | 245/793 [00:44<01:35,  5.73it/s]\n",
      "\u001b[As to simplify:  31%|███████▏               | 246/793 [00:44<01:35,  5.74it/s]\n",
      "\u001b[As to simplify:  31%|███████▏               | 247/793 [00:44<01:35,  5.72it/s]\n",
      "\u001b[As to simplify:  31%|███████▏               | 248/793 [00:44<01:34,  5.76it/s]\n",
      "\u001b[As to simplify:  31%|███████▏               | 249/793 [00:44<01:34,  5.76it/s]\n",
      "\u001b[As to simplify:  32%|███████▎               | 250/793 [00:45<01:33,  5.78it/s]\n",
      "\u001b[As to simplify:  32%|███████▎               | 251/793 [00:45<01:33,  5.81it/s]\n",
      "\u001b[As to simplify:  32%|███████▎               | 252/793 [00:45<01:46,  5.08it/s]\n",
      "\u001b[As to simplify:  32%|███████▎               | 253/793 [00:45<01:42,  5.25it/s]\n",
      "\u001b[As to simplify:  32%|███████▎               | 254/793 [00:45<01:39,  5.40it/s]\n",
      "\u001b[As to simplify:  32%|███████▍               | 255/793 [00:46<01:37,  5.49it/s]\n",
      "\u001b[As to simplify:  32%|███████▍               | 256/793 [00:46<01:36,  5.58it/s]\n",
      "\u001b[As to simplify:  32%|███████▍               | 257/793 [00:46<01:34,  5.65it/s]\n",
      "\u001b[As to simplify:  33%|███████▍               | 258/793 [00:46<01:33,  5.70it/s]\n",
      "\u001b[As to simplify:  33%|███████▌               | 259/793 [00:46<01:34,  5.63it/s]\n",
      "\u001b[As to simplify:  33%|███████▌               | 260/793 [00:46<01:33,  5.70it/s]\n",
      "\u001b[As to simplify:  33%|███████▌               | 261/793 [00:47<01:33,  5.68it/s]\n",
      "\u001b[As to simplify:  33%|███████▌               | 262/793 [00:47<01:32,  5.74it/s]\n",
      "\u001b[As to simplify:  33%|███████▋               | 263/793 [00:47<01:31,  5.78it/s]\n",
      "\u001b[As to simplify:  33%|███████▋               | 264/793 [00:47<01:31,  5.80it/s]\n",
      "\u001b[As to simplify:  33%|███████▋               | 265/793 [00:47<01:31,  5.79it/s]\n",
      "\u001b[As to simplify:  34%|███████▋               | 266/793 [00:47<01:32,  5.70it/s]\n",
      "\u001b[As to simplify:  34%|███████▋               | 267/793 [00:48<01:47,  4.90it/s]\n",
      "\u001b[As to simplify:  34%|███████▊               | 268/793 [00:48<01:42,  5.12it/s]\n",
      "\u001b[As to simplify:  34%|███████▊               | 269/793 [00:48<01:39,  5.29it/s]\n",
      "\u001b[As to simplify:  34%|███████▊               | 270/793 [00:48<01:36,  5.40it/s]\n",
      "\u001b[As to simplify:  34%|███████▊               | 271/793 [00:48<01:34,  5.51it/s]\n",
      "\u001b[As to simplify:  34%|███████▉               | 272/793 [00:49<01:33,  5.59it/s]\n",
      "\u001b[As to simplify:  34%|███████▉               | 273/793 [00:49<01:32,  5.62it/s]\n",
      "\u001b[As to simplify:  35%|███████▉               | 274/793 [00:49<01:46,  4.88it/s]\n",
      "\u001b[As to simplify:  35%|███████▉               | 275/793 [00:49<01:46,  4.86it/s]\n",
      "\u001b[As to simplify:  35%|████████               | 276/793 [00:49<01:43,  5.01it/s]\n",
      "\u001b[As to simplify:  35%|████████               | 277/793 [00:50<01:39,  5.16it/s]\n",
      "\u001b[As to simplify:  35%|████████               | 278/793 [00:50<01:36,  5.33it/s]\n",
      "\u001b[As to simplify:  35%|████████               | 279/793 [00:50<01:48,  4.73it/s]\n",
      "\u001b[As to simplify:  35%|████████               | 280/793 [00:50<01:42,  4.99it/s]\n",
      "\u001b[As to simplify:  35%|████████▏              | 281/793 [00:50<01:39,  5.17it/s]\n",
      "\u001b[As to simplify:  36%|████████▏              | 282/793 [00:51<01:35,  5.35it/s]\n",
      "\u001b[As to simplify:  36%|████████▏              | 283/793 [00:51<01:32,  5.49it/s]\n",
      "\u001b[As to simplify:  36%|████████▏              | 284/793 [00:51<01:31,  5.57it/s]\n",
      "\u001b[As to simplify:  36%|████████▎              | 285/793 [00:51<01:29,  5.67it/s]\n",
      "\u001b[As to simplify:  36%|████████▎              | 286/793 [00:51<01:28,  5.74it/s]\n",
      "\u001b[As to simplify:  36%|████████▎              | 287/793 [00:51<01:27,  5.78it/s]\n",
      "\u001b[As to simplify:  36%|████████▎              | 288/793 [00:52<01:26,  5.82it/s]\n",
      "\u001b[As to simplify:  36%|████████▍              | 289/793 [00:52<01:26,  5.83it/s]\n",
      "\u001b[As to simplify:  37%|████████▍              | 290/793 [00:52<01:26,  5.84it/s]\n",
      "\u001b[As to simplify:  37%|████████▍              | 291/793 [00:52<01:25,  5.85it/s]\n",
      "\u001b[As to simplify:  37%|████████▍              | 292/793 [00:52<01:29,  5.62it/s]\n",
      "\u001b[As to simplify:  37%|████████▍              | 293/793 [00:52<01:30,  5.55it/s]\n",
      "\u001b[As to simplify:  37%|████████▌              | 294/793 [00:53<01:28,  5.63it/s]\n",
      "\u001b[As to simplify:  37%|████████▌              | 295/793 [00:53<01:27,  5.67it/s]\n",
      "\u001b[As to simplify:  37%|████████▌              | 296/793 [00:53<01:27,  5.71it/s]\n",
      "\u001b[As to simplify:  37%|████████▌              | 297/793 [00:53<01:39,  4.97it/s]\n",
      "\u001b[As to simplify:  38%|████████▋              | 298/793 [00:53<01:35,  5.18it/s]\n",
      "\u001b[As to simplify:  38%|████████▋              | 299/793 [00:54<01:32,  5.35it/s]\n",
      "\u001b[As to simplify:  38%|████████▋              | 300/793 [00:54<01:30,  5.46it/s]\n",
      "\u001b[As to simplify:  38%|████████▋              | 301/793 [00:54<01:28,  5.55it/s]\n",
      "\u001b[As to simplify:  38%|████████▊              | 302/793 [00:54<01:27,  5.62it/s]\n",
      "\u001b[As to simplify:  38%|████████▊              | 303/793 [00:54<01:26,  5.64it/s]\n",
      "\u001b[As to simplify:  38%|████████▊              | 304/793 [00:54<01:26,  5.67it/s]\n",
      "\u001b[As to simplify:  38%|████████▊              | 305/793 [00:55<01:27,  5.59it/s]\n",
      "\u001b[As to simplify:  39%|████████▉              | 306/793 [00:55<01:26,  5.62it/s]\n",
      "\u001b[As to simplify:  39%|████████▉              | 307/793 [00:55<01:25,  5.66it/s]\n",
      "\u001b[As to simplify:  39%|████████▉              | 308/793 [00:55<01:25,  5.69it/s]\n",
      "\u001b[As to simplify:  39%|████████▉              | 309/793 [00:55<01:24,  5.72it/s]\n",
      "\u001b[As to simplify:  39%|████████▉              | 310/793 [00:56<01:26,  5.59it/s]\n",
      "\u001b[As to simplify:  39%|█████████              | 311/793 [00:56<01:25,  5.66it/s]\n",
      "\u001b[As to simplify:  39%|█████████              | 312/793 [00:56<01:24,  5.71it/s]\n",
      "\u001b[As to simplify:  39%|█████████              | 313/793 [00:56<01:23,  5.77it/s]\n",
      "\u001b[As to simplify:  40%|█████████              | 314/793 [00:56<01:22,  5.78it/s]\n",
      "\u001b[As to simplify:  40%|█████████▏             | 315/793 [00:56<01:25,  5.61it/s]\n",
      "\u001b[As to simplify:  40%|█████████▏             | 316/793 [00:57<01:24,  5.67it/s]\n",
      "\u001b[As to simplify:  40%|█████████▏             | 317/793 [00:57<01:22,  5.74it/s]\n",
      "\u001b[As to simplify:  40%|█████████▏             | 318/793 [00:57<01:22,  5.76it/s]\n",
      "\u001b[As to simplify:  40%|█████████▎             | 319/793 [00:57<01:22,  5.75it/s]\n",
      "\u001b[As to simplify:  40%|█████████▎             | 320/793 [00:57<01:22,  5.74it/s]\n",
      "\u001b[As to simplify:  40%|█████████▎             | 321/793 [00:57<01:22,  5.71it/s]\n",
      "\u001b[As to simplify:  41%|█████████▎             | 322/793 [00:58<01:36,  4.90it/s]\n",
      "\u001b[As to simplify:  41%|█████████▎             | 323/793 [00:58<01:31,  5.14it/s]\n",
      "\u001b[As to simplify:  41%|█████████▍             | 324/793 [00:58<01:28,  5.33it/s]\n",
      "\u001b[As to simplify:  41%|█████████▍             | 325/793 [00:58<01:25,  5.46it/s]\n",
      "\u001b[As to simplify:  41%|█████████▍             | 326/793 [00:58<01:23,  5.57it/s]\n",
      "\u001b[As to simplify:  41%|█████████▍             | 327/793 [00:59<01:22,  5.65it/s]\n",
      "\u001b[As to simplify:  41%|█████████▌             | 328/793 [00:59<01:21,  5.72it/s]\n",
      "\u001b[As to simplify:  41%|█████████▌             | 329/793 [00:59<01:20,  5.76it/s]\n",
      "\u001b[As to simplify:  42%|█████████▌             | 330/793 [00:59<01:21,  5.68it/s]\n",
      "\u001b[As to simplify:  42%|█████████▌             | 331/793 [00:59<01:20,  5.73it/s]\n",
      "\u001b[As to simplify:  42%|█████████▋             | 332/793 [00:59<01:19,  5.79it/s]\n",
      "\u001b[As to simplify:  42%|█████████▋             | 333/793 [01:00<01:19,  5.82it/s]\n",
      "\u001b[As to simplify:  42%|█████████▋             | 334/793 [01:00<01:18,  5.86it/s]\n",
      "\u001b[As to simplify:  42%|█████████▋             | 335/793 [01:00<01:17,  5.89it/s]\n",
      "\u001b[As to simplify:  42%|█████████▋             | 336/793 [01:00<01:17,  5.89it/s]\n",
      "\u001b[As to simplify:  42%|█████████▊             | 337/793 [01:00<01:18,  5.81it/s]\n",
      "\u001b[As to simplify:  43%|█████████▊             | 338/793 [01:00<01:18,  5.81it/s]\n",
      "\u001b[As to simplify:  43%|█████████▊             | 339/793 [01:01<01:17,  5.84it/s]\n",
      "\u001b[As to simplify:  43%|█████████▊             | 340/793 [01:01<01:16,  5.89it/s]\n",
      "\u001b[As to simplify:  43%|█████████▉             | 341/793 [01:01<01:23,  5.40it/s]\n",
      "\u001b[As to simplify:  43%|█████████▉             | 342/793 [01:01<01:22,  5.46it/s]\n",
      "\u001b[As to simplify:  43%|█████████▉             | 343/793 [01:01<01:25,  5.29it/s]\n",
      "\u001b[As to simplify:  43%|█████████▉             | 344/793 [01:02<01:26,  5.16it/s]\n",
      "\u001b[As to simplify:  44%|██████████             | 345/793 [01:02<01:24,  5.30it/s]\n",
      "\u001b[As to simplify:  44%|██████████             | 346/793 [01:02<01:21,  5.46it/s]\n",
      "\u001b[As to simplify:  44%|██████████             | 347/793 [01:02<01:35,  4.68it/s]\n",
      "\u001b[As to simplify:  44%|██████████             | 348/793 [01:02<01:36,  4.62it/s]\n",
      "\u001b[As to simplify:  44%|██████████             | 349/793 [01:03<01:30,  4.91it/s]\n",
      "\u001b[As to simplify:  44%|██████████▏            | 350/793 [01:03<01:24,  5.23it/s]\n",
      "\u001b[As to simplify:  44%|██████████▏            | 351/793 [01:03<01:20,  5.48it/s]\n",
      "\u001b[As to simplify:  44%|██████████▏            | 352/793 [01:03<01:17,  5.69it/s]\n",
      "\u001b[As to simplify:  45%|██████████▏            | 353/793 [01:03<01:28,  4.96it/s]\n",
      "\u001b[As to simplify:  45%|██████████▎            | 354/793 [01:04<01:24,  5.18it/s]\n",
      "\u001b[As to simplify:  45%|██████████▎            | 355/793 [01:04<01:21,  5.40it/s]\n",
      "\u001b[As to simplify:  45%|██████████▎            | 356/793 [01:04<01:18,  5.60it/s]\n",
      "\u001b[As to simplify:  45%|██████████▎            | 357/793 [01:04<01:15,  5.77it/s]\n",
      "\u001b[As to simplify:  45%|██████████▍            | 358/793 [01:04<01:13,  5.89it/s]\n",
      "\u001b[As to simplify:  45%|██████████▍            | 359/793 [01:04<01:20,  5.42it/s]\n",
      "\u001b[As to simplify:  45%|██████████▍            | 360/793 [01:05<01:22,  5.28it/s]\n",
      "\u001b[As to simplify:  46%|██████████▍            | 361/793 [01:05<01:18,  5.47it/s]\n",
      "\u001b[As to simplify:  46%|██████████▍            | 362/793 [01:05<01:16,  5.64it/s]\n",
      "\u001b[As to simplify:  46%|██████████▌            | 363/793 [01:05<01:16,  5.65it/s]\n",
      "\u001b[As to simplify:  46%|██████████▌            | 364/793 [01:05<01:14,  5.72it/s]\n",
      "\u001b[As to simplify:  46%|██████████▌            | 365/793 [01:06<01:19,  5.41it/s]\n",
      "\u001b[As to simplify:  46%|██████████▌            | 366/793 [01:06<01:16,  5.59it/s]\n",
      "\u001b[As to simplify:  46%|██████████▋            | 367/793 [01:06<01:17,  5.52it/s]\n",
      "\u001b[As to simplify:  46%|██████████▋            | 368/793 [01:06<01:20,  5.25it/s]\n",
      "\u001b[As to simplify:  47%|██████████▋            | 369/793 [01:06<01:24,  5.04it/s]\n",
      "\u001b[As to simplify:  47%|██████████▋            | 370/793 [01:06<01:21,  5.18it/s]\n",
      "\u001b[As to simplify:  47%|██████████▊            | 371/793 [01:07<01:19,  5.31it/s]\n",
      "\u001b[As to simplify:  47%|██████████▊            | 372/793 [01:07<01:16,  5.49it/s]\n",
      "\u001b[As to simplify:  47%|██████████▊            | 373/793 [01:07<01:14,  5.64it/s]\n",
      "\u001b[As to simplify:  47%|██████████▊            | 374/793 [01:07<01:12,  5.77it/s]\n",
      "\u001b[As to simplify:  47%|██████████▉            | 375/793 [01:07<01:11,  5.86it/s]\n",
      "\u001b[As to simplify:  47%|██████████▉            | 376/793 [01:07<01:10,  5.89it/s]\n",
      "\u001b[As to simplify:  48%|██████████▉            | 377/793 [01:08<01:10,  5.92it/s]\n",
      "\u001b[As to simplify:  48%|██████████▉            | 378/793 [01:08<01:09,  5.97it/s]\n",
      "\u001b[As to simplify:  48%|██████████▉            | 379/793 [01:08<01:08,  6.06it/s]\n",
      "\u001b[As to simplify:  48%|███████████            | 380/793 [01:08<01:08,  6.05it/s]\n",
      "\u001b[As to simplify:  48%|███████████            | 381/793 [01:08<01:09,  5.97it/s]\n",
      "\u001b[As to simplify:  48%|███████████            | 382/793 [01:08<01:11,  5.75it/s]\n",
      "\u001b[As to simplify:  48%|███████████            | 383/793 [01:09<01:10,  5.83it/s]\n",
      "\u001b[As to simplify:  48%|███████████▏           | 384/793 [01:09<01:09,  5.85it/s]\n",
      "\u001b[As to simplify:  49%|███████████▏           | 385/793 [01:09<01:11,  5.72it/s]\n",
      "\u001b[As to simplify:  49%|███████████▏           | 386/793 [01:09<01:12,  5.59it/s]\n",
      "\u001b[As to simplify:  49%|███████████▏           | 387/793 [01:09<01:14,  5.48it/s]\n",
      "\u001b[As to simplify:  49%|███████████▎           | 388/793 [01:10<01:13,  5.54it/s]\n",
      "\u001b[As to simplify:  49%|███████████▎           | 389/793 [01:10<01:12,  5.61it/s]\n",
      "\u001b[As to simplify:  49%|███████████▎           | 390/793 [01:10<01:13,  5.49it/s]\n",
      "\u001b[As to simplify:  49%|███████████▎           | 391/793 [01:10<01:30,  4.43it/s]\n",
      "\u001b[As to simplify:  49%|███████████▎           | 392/793 [01:10<01:26,  4.63it/s]\n",
      "\u001b[As to simplify:  50%|███████████▍           | 393/793 [01:11<01:21,  4.91it/s]\n",
      "\u001b[As to simplify:  50%|███████████▍           | 394/793 [01:11<01:19,  5.05it/s]\n",
      "\u001b[As to simplify:  50%|███████████▍           | 395/793 [01:11<01:17,  5.12it/s]\n",
      "\u001b[As to simplify:  50%|███████████▍           | 396/793 [01:11<01:41,  3.89it/s]\n",
      "\u001b[As to simplify:  50%|███████████▌           | 397/793 [01:12<01:30,  4.35it/s]\n",
      "\u001b[As to simplify:  50%|███████████▌           | 398/793 [01:12<01:23,  4.76it/s]\n",
      "\u001b[As to simplify:  50%|███████████▌           | 399/793 [01:12<01:17,  5.09it/s]\n",
      "\u001b[As to simplify:  50%|███████████▌           | 400/793 [01:12<01:13,  5.32it/s]\n",
      "\u001b[As to simplify:  51%|███████████▋           | 401/793 [01:12<01:11,  5.49it/s]\n",
      "\u001b[As to simplify:  51%|███████████▋           | 402/793 [01:12<01:09,  5.61it/s]\n",
      "\u001b[As to simplify:  51%|███████████▋           | 403/793 [01:13<01:08,  5.73it/s]\n",
      "\u001b[As to simplify:  51%|███████████▋           | 404/793 [01:13<01:07,  5.79it/s]\n",
      "\u001b[As to simplify:  51%|███████████▋           | 405/793 [01:13<01:07,  5.75it/s]\n",
      "\u001b[As to simplify:  51%|███████████▊           | 406/793 [01:13<01:06,  5.80it/s]\n",
      "\u001b[As to simplify:  51%|███████████▊           | 407/793 [01:13<01:05,  5.87it/s]\n",
      "\u001b[As to simplify:  51%|███████████▊           | 408/793 [01:14<01:17,  4.97it/s]\n",
      "\u001b[As to simplify:  52%|███████████▊           | 409/793 [01:14<01:13,  5.25it/s]\n",
      "\u001b[As to simplify:  52%|███████████▉           | 410/793 [01:14<01:10,  5.46it/s]\n",
      "\u001b[As to simplify:  52%|███████████▉           | 411/793 [01:14<01:08,  5.59it/s]\n",
      "\u001b[As to simplify:  52%|███████████▉           | 412/793 [01:14<01:06,  5.70it/s]\n",
      "\u001b[As to simplify:  52%|███████████▉           | 413/793 [01:14<01:05,  5.81it/s]\n",
      "\u001b[As to simplify:  52%|████████████           | 414/793 [01:15<01:05,  5.80it/s]\n",
      "\u001b[As to simplify:  52%|████████████           | 415/793 [01:15<01:04,  5.82it/s]\n",
      "\u001b[As to simplify:  52%|████████████           | 416/793 [01:15<01:05,  5.73it/s]\n",
      "\u001b[As to simplify:  53%|████████████           | 417/793 [01:15<01:05,  5.70it/s]\n",
      "\u001b[As to simplify:  53%|████████████           | 418/793 [01:15<01:04,  5.77it/s]\n",
      "\u001b[As to simplify:  53%|████████████▏          | 419/793 [01:15<01:04,  5.82it/s]\n",
      "\u001b[As to simplify:  53%|████████████▏          | 420/793 [01:16<01:03,  5.87it/s]\n",
      "\u001b[As to simplify:  53%|████████████▏          | 421/793 [01:16<01:03,  5.90it/s]\n",
      "\u001b[As to simplify:  53%|████████████▏          | 422/793 [01:16<01:02,  5.91it/s]\n",
      "\u001b[As to simplify:  53%|████████████▎          | 423/793 [01:16<01:02,  5.95it/s]\n",
      "\u001b[As to simplify:  53%|████████████▎          | 424/793 [01:16<01:03,  5.79it/s]\n",
      "\u001b[As to simplify:  54%|████████████▎          | 425/793 [01:16<01:04,  5.72it/s]\n",
      "\u001b[As to simplify:  54%|████████████▎          | 426/793 [01:17<01:02,  5.83it/s]\n",
      "\u001b[As to simplify:  54%|████████████▍          | 427/793 [01:17<01:02,  5.85it/s]\n",
      "\u001b[As to simplify:  54%|████████████▍          | 428/793 [01:17<01:02,  5.86it/s]\n",
      "\u001b[As to simplify:  54%|████████████▍          | 429/793 [01:17<01:02,  5.86it/s]\n",
      "\u001b[As to simplify:  54%|████████████▍          | 430/793 [01:17<01:01,  5.86it/s]\n",
      "\u001b[As to simplify:  54%|████████████▌          | 431/793 [01:17<01:01,  5.85it/s]\n",
      "\u001b[As to simplify:  54%|████████████▌          | 432/793 [01:18<01:01,  5.87it/s]\n",
      "\u001b[As to simplify:  55%|████████████▌          | 433/793 [01:18<01:01,  5.87it/s]\n",
      "\u001b[As to simplify:  55%|████████████▌          | 434/793 [01:18<01:00,  5.90it/s]\n",
      "\u001b[As to simplify:  55%|████████████▌          | 435/793 [01:18<01:00,  5.89it/s]\n",
      "\u001b[As to simplify:  55%|████████████▋          | 436/793 [01:18<01:00,  5.87it/s]\n",
      "\u001b[As to simplify:  55%|████████████▋          | 437/793 [01:18<01:00,  5.88it/s]\n",
      "\u001b[As to simplify:  55%|████████████▋          | 438/793 [01:19<01:12,  4.87it/s]\n",
      "\u001b[As to simplify:  55%|████████████▋          | 439/793 [01:19<01:08,  5.13it/s]\n",
      "\u001b[As to simplify:  55%|████████████▊          | 440/793 [01:19<01:06,  5.27it/s]\n",
      "\u001b[As to simplify:  56%|████████████▊          | 441/793 [01:19<01:04,  5.44it/s]\n",
      "\u001b[As to simplify:  56%|████████████▊          | 442/793 [01:19<01:02,  5.58it/s]\n",
      "\u001b[As to simplify:  56%|████████████▊          | 443/793 [01:20<01:01,  5.69it/s]\n",
      "\u001b[As to simplify:  56%|████████████▉          | 444/793 [01:20<01:01,  5.68it/s]\n",
      "\u001b[As to simplify:  56%|████████████▉          | 445/793 [01:20<01:10,  4.92it/s]\n",
      "\u001b[As to simplify:  56%|████████████▉          | 446/793 [01:20<01:07,  5.14it/s]\n",
      "\u001b[As to simplify:  56%|████████████▉          | 447/793 [01:20<01:05,  5.29it/s]\n",
      "\u001b[As to simplify:  56%|████████████▉          | 448/793 [01:21<01:03,  5.47it/s]\n",
      "\u001b[As to simplify:  57%|█████████████          | 449/793 [01:21<01:01,  5.60it/s]\n",
      "\u001b[As to simplify:  57%|█████████████          | 450/793 [01:21<01:01,  5.60it/s]\n",
      "\u001b[As to simplify:  57%|█████████████          | 451/793 [01:21<01:00,  5.65it/s]\n",
      "\u001b[As to simplify:  57%|█████████████          | 452/793 [01:21<00:59,  5.73it/s]\n",
      "\u001b[As to simplify:  57%|█████████████▏         | 453/793 [01:21<00:58,  5.77it/s]\n",
      "\u001b[As to simplify:  57%|█████████████▏         | 454/793 [01:22<00:58,  5.81it/s]\n",
      "\u001b[As to simplify:  57%|█████████████▏         | 455/793 [01:22<00:58,  5.82it/s]\n",
      "\u001b[As to simplify:  58%|█████████████▏         | 456/793 [01:22<00:58,  5.80it/s]\n",
      "\u001b[As to simplify:  58%|█████████████▎         | 457/793 [01:22<01:00,  5.59it/s]\n",
      "\u001b[As to simplify:  58%|█████████████▎         | 458/793 [01:22<01:00,  5.58it/s]\n",
      "\u001b[As to simplify:  58%|█████████████▎         | 459/793 [01:22<00:59,  5.58it/s]\n",
      "\u001b[As to simplify:  58%|█████████████▎         | 460/793 [01:23<01:00,  5.53it/s]\n",
      "\u001b[As to simplify:  58%|█████████████▎         | 461/793 [01:23<01:00,  5.47it/s]\n",
      "\u001b[As to simplify:  58%|█████████████▍         | 462/793 [01:23<01:00,  5.44it/s]\n",
      "\u001b[As to simplify:  58%|█████████████▍         | 463/793 [01:23<01:00,  5.49it/s]\n",
      "\u001b[As to simplify:  59%|█████████████▍         | 464/793 [01:23<00:59,  5.51it/s]\n",
      "\u001b[As to simplify:  59%|█████████████▍         | 465/793 [01:24<01:00,  5.40it/s]\n",
      "\u001b[As to simplify:  59%|█████████████▌         | 466/793 [01:24<01:00,  5.42it/s]\n",
      "\u001b[As to simplify:  59%|█████████████▌         | 467/793 [01:24<00:59,  5.49it/s]\n",
      "\u001b[As to simplify:  59%|█████████████▌         | 468/793 [01:24<00:59,  5.44it/s]\n",
      "\u001b[As to simplify:  59%|█████████████▌         | 469/793 [01:24<00:59,  5.49it/s]\n",
      "\u001b[As to simplify:  59%|█████████████▋         | 470/793 [01:25<00:58,  5.48it/s]\n",
      "\u001b[As to simplify:  59%|█████████████▋         | 471/793 [01:25<01:06,  4.83it/s]\n",
      "\u001b[As to simplify:  60%|█████████████▋         | 472/793 [01:25<01:05,  4.93it/s]\n",
      "\u001b[As to simplify:  60%|█████████████▋         | 473/793 [01:25<01:03,  5.07it/s]\n",
      "\u001b[As to simplify:  60%|█████████████▋         | 474/793 [01:25<01:00,  5.24it/s]\n",
      "\u001b[As to simplify:  60%|█████████████▊         | 475/793 [01:25<00:58,  5.39it/s]\n",
      "\u001b[As to simplify:  60%|█████████████▊         | 476/793 [01:26<00:57,  5.48it/s]\n",
      "\u001b[As to simplify:  60%|█████████████▊         | 477/793 [01:26<00:57,  5.54it/s]"
     ]
    },
    {
     "ename": "GEOSException",
     "evalue": "TopologyException: side location conflict at 442937.42660000001 4015110.85256. This can occur if the input geometry is invalid.",
     "output_type": "error",
     "traceback": [
      "\u001b[0;31m---------------------------------------------------------------------------\u001b[0m",
      "\u001b[0;31mGEOSException\u001b[0m                             Traceback (most recent call last)",
      "Cell \u001b[0;32mIn[37], line 2\u001b[0m\n\u001b[1;32m      1\u001b[0m start_col \u001b[38;5;241m=\u001b[39m \u001b[38;5;241m3\u001b[39m\n\u001b[0;32m----> 2\u001b[0m election_df \u001b[38;5;241m=\u001b[39m \u001b[43madd_vest\u001b[49m\u001b[43m(\u001b[49m\u001b[43mvest16\u001b[49m\u001b[43m,\u001b[49m\u001b[43m \u001b[49m\u001b[43melection_df\u001b[49m\u001b[43m,\u001b[49m\u001b[43m \u001b[49m\u001b[38;5;124;43m'\u001b[39;49m\u001b[38;5;124;43m16\u001b[39;49m\u001b[38;5;124;43m'\u001b[39;49m\u001b[43m,\u001b[49m\u001b[43m \u001b[49m\u001b[43mpopulation_df\u001b[49m\u001b[43m,\u001b[49m\u001b[43m \u001b[49m\u001b[43mstart_col\u001b[49m\u001b[43m)\u001b[49m\n",
      "Cell \u001b[0;32mIn[10], line 10\u001b[0m, in \u001b[0;36madd_vest\u001b[0;34m(vest, df, year, population, start_col, snap_precision)\u001b[0m\n\u001b[1;32m      8\u001b[0m  \u001b[38;5;66;03m# check if it needs to be smart_repair\u001b[39;00m\n\u001b[1;32m      9\u001b[0m \u001b[38;5;28;01mif\u001b[39;00m maup\u001b[38;5;241m.\u001b[39mdoctor(vest) \u001b[38;5;241m!=\u001b[39m \u001b[38;5;28;01mTrue\u001b[39;00m:\n\u001b[0;32m---> 10\u001b[0m     vest \u001b[38;5;241m=\u001b[39m \u001b[43mdo_smart_repair\u001b[49m\u001b[43m(\u001b[49m\u001b[43mvest\u001b[49m\u001b[43m,\u001b[49m\u001b[43m \u001b[49m\u001b[43msnap_precision\u001b[49m\u001b[43m \u001b[49m\u001b[38;5;241;43m=\u001b[39;49m\u001b[43m \u001b[49m\u001b[43msnap_precision\u001b[49m\u001b[43m)\u001b[49m\n\u001b[1;32m     12\u001b[0m \u001b[38;5;66;03m# rename the columns\u001b[39;00m\n\u001b[1;32m     13\u001b[0m original_col \u001b[38;5;241m=\u001b[39m vest\u001b[38;5;241m.\u001b[39mcolumns[start_col:\u001b[38;5;241m-\u001b[39m\u001b[38;5;241m1\u001b[39m]\n",
      "Cell \u001b[0;32mIn[5], line 4\u001b[0m, in \u001b[0;36mdo_smart_repair\u001b[0;34m(df, min_rook_length, snap_precision)\u001b[0m\n\u001b[1;32m      1\u001b[0m \u001b[38;5;28;01mdef\u001b[39;00m\u001b[38;5;250m \u001b[39m\u001b[38;5;21mdo_smart_repair\u001b[39m(df, min_rook_length \u001b[38;5;241m=\u001b[39m \u001b[38;5;28;01mNone\u001b[39;00m, snap_precision \u001b[38;5;241m=\u001b[39m \u001b[38;5;241m10\u001b[39m):\n\u001b[1;32m      2\u001b[0m     \u001b[38;5;66;03m# change it to the UTM it needs for smart_repair\u001b[39;00m\n\u001b[1;32m      3\u001b[0m     df \u001b[38;5;241m=\u001b[39m df\u001b[38;5;241m.\u001b[39mto_crs(df\u001b[38;5;241m.\u001b[39mestimate_utm_crs())\n\u001b[0;32m----> 4\u001b[0m     df \u001b[38;5;241m=\u001b[39m \u001b[43msmart_repair\u001b[49m\u001b[43m(\u001b[49m\u001b[43mdf\u001b[49m\u001b[43m,\u001b[49m\u001b[43m \u001b[49m\u001b[43mmin_rook_length\u001b[49m\u001b[43m \u001b[49m\u001b[38;5;241;43m=\u001b[39;49m\u001b[43m \u001b[49m\u001b[43mmin_rook_length\u001b[49m\u001b[43m)\u001b[49m\n\u001b[1;32m      6\u001b[0m     \u001b[38;5;28;01mif\u001b[39;00m maup\u001b[38;5;241m.\u001b[39mdoctor(df) \u001b[38;5;241m==\u001b[39m \u001b[38;5;28;01mFalse\u001b[39;00m:\n\u001b[1;32m      7\u001b[0m         \u001b[38;5;28;01mraise\u001b[39;00m \u001b[38;5;167;01mException\u001b[39;00m(\u001b[38;5;124m'\u001b[39m\u001b[38;5;124mmaup.doctor failed\u001b[39m\u001b[38;5;124m'\u001b[39m)\n",
      "File \u001b[0;32m~/venvs/maup/lib/python3.12/site-packages/maup/smart_repair.py:181\u001b[0m, in \u001b[0;36msmart_repair\u001b[0;34m(geometries_df, snapped, snap_precision, fill_gaps, fill_gaps_threshold, disconnection_threshold, nest_within_regions, min_rook_length)\u001b[0m\n\u001b[1;32m    178\u001b[0m             \u001b[38;5;28mprint\u001b[39m(num_holes_dropped, \u001b[38;5;124m\"\u001b[39m\u001b[38;5;124mgaps will remain unfilled, because they either are not simply connected or exceed the area threshold.\u001b[39m\u001b[38;5;124m\"\u001b[39m)\n\u001b[1;32m    180\u001b[0m         \u001b[38;5;28mprint\u001b[39m(\u001b[38;5;124m\"\u001b[39m\u001b[38;5;124mFilling gaps...\u001b[39m\u001b[38;5;124m\"\u001b[39m)\n\u001b[0;32m--> 181\u001b[0m         reconstructed_df \u001b[38;5;241m=\u001b[39m \u001b[43msmart_close_gaps\u001b[49m\u001b[43m(\u001b[49m\u001b[43mreconstructed_df\u001b[49m\u001b[43m,\u001b[49m\u001b[43m \u001b[49m\u001b[43mholes_df\u001b[49m\u001b[43m)\u001b[49m\n\u001b[1;32m    183\u001b[0m \u001b[38;5;28;01melse\u001b[39;00m:\n\u001b[1;32m    184\u001b[0m     \u001b[38;5;28;01mif\u001b[39;00m fill_gaps:\n",
      "File \u001b[0;32m~/venvs/maup/lib/python3.12/site-packages/maup/smart_repair.py:636\u001b[0m, in \u001b[0;36msmart_close_gaps\u001b[0;34m(geometries_df, holes_df)\u001b[0m\n\u001b[1;32m    633\u001b[0m holes_df \u001b[38;5;241m=\u001b[39m holes_df\u001b[38;5;241m.\u001b[39mcopy()\n\u001b[1;32m    635\u001b[0m \u001b[38;5;66;03m# First step is to simplify gaps by convexifying the geometry boundaries:\u001b[39;00m\n\u001b[0;32m--> 636\u001b[0m geometries_df, holes_df \u001b[38;5;241m=\u001b[39m \u001b[43mconvexify_hole_boundaries\u001b[49m\u001b[43m(\u001b[49m\u001b[43mgeometries_df\u001b[49m\u001b[43m,\u001b[49m\u001b[43m \u001b[49m\u001b[43mholes_df\u001b[49m\u001b[43m)\u001b[49m\n\u001b[1;32m    638\u001b[0m \u001b[38;5;66;03m# Now proceed with filling simplified gaps.\u001b[39;00m\n\u001b[1;32m    639\u001b[0m \u001b[38;5;28;01mif\u001b[39;00m \u001b[38;5;28mlen\u001b[39m(holes_df) \u001b[38;5;241m>\u001b[39m \u001b[38;5;241m0\u001b[39m:\n",
      "File \u001b[0;32m~/venvs/maup/lib/python3.12/site-packages/maup/smart_repair.py:1587\u001b[0m, in \u001b[0;36mconvexify_hole_boundaries\u001b[0;34m(geometries_df, holes_df)\u001b[0m\n\u001b[1;32m   1584\u001b[0m start \u001b[38;5;241m=\u001b[39m \u001b[38;5;28mlist\u001b[39m(extract_unique_points(thb)\u001b[38;5;241m.\u001b[39mgeoms)[\u001b[38;5;241m0\u001b[39m]\n\u001b[1;32m   1585\u001b[0m end \u001b[38;5;241m=\u001b[39m \u001b[38;5;28mlist\u001b[39m(extract_unique_points(thb)\u001b[38;5;241m.\u001b[39mgeoms)[\u001b[38;5;241m-\u001b[39m\u001b[38;5;241m1\u001b[39m]\n\u001b[0;32m-> 1587\u001b[0m sp \u001b[38;5;241m=\u001b[39m LineString(\u001b[43mshortest_path_in_polygon\u001b[49m\u001b[43m(\u001b[49m\u001b[43mthis_hole\u001b[49m\u001b[43m,\u001b[49m\u001b[43m \u001b[49m\u001b[43mstart\u001b[49m\u001b[43m,\u001b[49m\u001b[43m \u001b[49m\u001b[43mend\u001b[49m\u001b[43m,\u001b[49m\u001b[43m \u001b[49m\u001b[43mfull_triangulation\u001b[49m\u001b[38;5;241;43m=\u001b[39;49m\u001b[43mthis_hole_triangulation\u001b[49m\u001b[43m)\u001b[49m)\n\u001b[1;32m   1589\u001b[0m piece_to_add_boundary \u001b[38;5;241m=\u001b[39m unary_union([thb, sp])\n\u001b[1;32m   1590\u001b[0m \u001b[38;5;28;01mif\u001b[39;00m piece_to_add_boundary\u001b[38;5;241m.\u001b[39mgeom_type \u001b[38;5;241m==\u001b[39m \u001b[38;5;124m\"\u001b[39m\u001b[38;5;124mMultiLineString\u001b[39m\u001b[38;5;124m\"\u001b[39m:\n",
      "File \u001b[0;32m~/venvs/maup/lib/python3.12/site-packages/maup/smart_repair.py:1470\u001b[0m, in \u001b[0;36mshortest_path_in_polygon\u001b[0;34m(polygon, start, end, full_triangulation)\u001b[0m\n\u001b[1;32m   1468\u001b[0m \u001b[38;5;28;01melse\u001b[39;00m:\n\u001b[1;32m   1469\u001b[0m     \u001b[38;5;28;01mfor\u001b[39;00m i \u001b[38;5;129;01min\u001b[39;00m \u001b[38;5;28mrange\u001b[39m(\u001b[38;5;241m1\u001b[39m, \u001b[38;5;28mlen\u001b[39m(this_funnel)):\n\u001b[0;32m-> 1470\u001b[0m         \u001b[38;5;28;01mif\u001b[39;00m \u001b[43mpolygon_simplified\u001b[49m\u001b[38;5;241;43m.\u001b[39;49m\u001b[43mcontains\u001b[49m\u001b[43m(\u001b[49m\u001b[43mLineString\u001b[49m\u001b[43m(\u001b[49m\u001b[43m[\u001b[49m\u001b[43mthis_funnel\u001b[49m\u001b[43m[\u001b[49m\u001b[43mi\u001b[49m\u001b[43m]\u001b[49m\u001b[43m,\u001b[49m\u001b[43m \u001b[49m\u001b[43mpoint\u001b[49m\u001b[43m]\u001b[49m\u001b[43m)\u001b[49m\u001b[43m)\u001b[49m \u001b[38;5;129;01mor\u001b[39;00m polygon_simplified\u001b[38;5;241m.\u001b[39mboundary\u001b[38;5;241m.\u001b[39mcontains(LineString([this_funnel[i], point])):\n\u001b[1;32m   1471\u001b[0m             first_seen \u001b[38;5;241m=\u001b[39m i\n\u001b[1;32m   1472\u001b[0m             \u001b[38;5;28;01mbreak\u001b[39;00m\n",
      "File \u001b[0;32m~/venvs/maup/lib/python3.12/site-packages/shapely/geometry/base.py:675\u001b[0m, in \u001b[0;36mBaseGeometry.contains\u001b[0;34m(self, other)\u001b[0m\n\u001b[1;32m    673\u001b[0m \u001b[38;5;28;01mdef\u001b[39;00m\u001b[38;5;250m \u001b[39m\u001b[38;5;21mcontains\u001b[39m(\u001b[38;5;28mself\u001b[39m, other):\n\u001b[1;32m    674\u001b[0m \u001b[38;5;250m    \u001b[39m\u001b[38;5;124;03m\"\"\"Returns True if the geometry contains the other, else False\"\"\"\u001b[39;00m\n\u001b[0;32m--> 675\u001b[0m     \u001b[38;5;28;01mreturn\u001b[39;00m _maybe_unpack(\u001b[43mshapely\u001b[49m\u001b[38;5;241;43m.\u001b[39;49m\u001b[43mcontains\u001b[49m\u001b[43m(\u001b[49m\u001b[38;5;28;43mself\u001b[39;49m\u001b[43m,\u001b[49m\u001b[43m \u001b[49m\u001b[43mother\u001b[49m\u001b[43m)\u001b[49m)\n",
      "File \u001b[0;32m~/venvs/maup/lib/python3.12/site-packages/shapely/decorators.py:77\u001b[0m, in \u001b[0;36mmultithreading_enabled.<locals>.wrapped\u001b[0;34m(*args, **kwargs)\u001b[0m\n\u001b[1;32m     75\u001b[0m     \u001b[38;5;28;01mfor\u001b[39;00m arr \u001b[38;5;129;01min\u001b[39;00m array_args:\n\u001b[1;32m     76\u001b[0m         arr\u001b[38;5;241m.\u001b[39mflags\u001b[38;5;241m.\u001b[39mwriteable \u001b[38;5;241m=\u001b[39m \u001b[38;5;28;01mFalse\u001b[39;00m\n\u001b[0;32m---> 77\u001b[0m     \u001b[38;5;28;01mreturn\u001b[39;00m \u001b[43mfunc\u001b[49m\u001b[43m(\u001b[49m\u001b[38;5;241;43m*\u001b[39;49m\u001b[43margs\u001b[49m\u001b[43m,\u001b[49m\u001b[43m \u001b[49m\u001b[38;5;241;43m*\u001b[39;49m\u001b[38;5;241;43m*\u001b[39;49m\u001b[43mkwargs\u001b[49m\u001b[43m)\u001b[49m\n\u001b[1;32m     78\u001b[0m \u001b[38;5;28;01mfinally\u001b[39;00m:\n\u001b[1;32m     79\u001b[0m     \u001b[38;5;28;01mfor\u001b[39;00m arr, old_flag \u001b[38;5;129;01min\u001b[39;00m \u001b[38;5;28mzip\u001b[39m(array_args, old_flags):\n",
      "File \u001b[0;32m~/venvs/maup/lib/python3.12/site-packages/shapely/predicates.py:526\u001b[0m, in \u001b[0;36mcontains\u001b[0;34m(a, b, **kwargs)\u001b[0m\n\u001b[1;32m    472\u001b[0m \u001b[38;5;129m@multithreading_enabled\u001b[39m\n\u001b[1;32m    473\u001b[0m \u001b[38;5;28;01mdef\u001b[39;00m\u001b[38;5;250m \u001b[39m\u001b[38;5;21mcontains\u001b[39m(a, b, \u001b[38;5;241m*\u001b[39m\u001b[38;5;241m*\u001b[39mkwargs):\n\u001b[1;32m    474\u001b[0m \u001b[38;5;250m    \u001b[39m\u001b[38;5;124;03m\"\"\"Returns True if geometry B is completely inside geometry A.\u001b[39;00m\n\u001b[1;32m    475\u001b[0m \n\u001b[1;32m    476\u001b[0m \u001b[38;5;124;03m    A contains B if no points of B lie in the exterior of A and at least one\u001b[39;00m\n\u001b[0;32m   (...)\u001b[0m\n\u001b[1;32m    524\u001b[0m \u001b[38;5;124;03m    False\u001b[39;00m\n\u001b[1;32m    525\u001b[0m \u001b[38;5;124;03m    \"\"\"\u001b[39;00m\n\u001b[0;32m--> 526\u001b[0m     \u001b[38;5;28;01mreturn\u001b[39;00m \u001b[43mlib\u001b[49m\u001b[38;5;241;43m.\u001b[39;49m\u001b[43mcontains\u001b[49m\u001b[43m(\u001b[49m\u001b[43ma\u001b[49m\u001b[43m,\u001b[49m\u001b[43m \u001b[49m\u001b[43mb\u001b[49m\u001b[43m,\u001b[49m\u001b[43m \u001b[49m\u001b[38;5;241;43m*\u001b[39;49m\u001b[38;5;241;43m*\u001b[39;49m\u001b[43mkwargs\u001b[49m\u001b[43m)\u001b[49m\n",
      "\u001b[0;31mGEOSException\u001b[0m: TopologyException: side location conflict at 442937.42660000001 4015110.85256. This can occur if the input geometry is invalid."
     ]
    }
   ],
   "source": [
    "start_col = 3\n",
    "election_df = add_vest(vest16, election_df, '16', population_df, start_col)"
   ]
  },
  {
   "cell_type": "markdown",
   "metadata": {},
   "source": [
    "##  Add the district data"
   ]
  },
  {
   "cell_type": "code",
   "execution_count": null,
   "metadata": {},
   "outputs": [],
   "source": [
    "send = gpd.read_file(send_data)\n",
    "send = send.to_crs(send.estimate_utm_crs())\n",
    "hdist = gpd.read_file(hdist_data)\n",
    "hdist = hdist.to_crs(hdist.estimate_utm_crs())"
   ]
  },
  {
   "cell_type": "code",
   "execution_count": null,
   "metadata": {},
   "outputs": [],
   "source": [
    "send.head()"
   ]
  },
  {
   "cell_type": "code",
   "execution_count": 50,
   "metadata": {},
   "outputs": [
    {
     "name": "stderr",
     "output_type": "stream",
     "text": [
      "100%|██████████████████████████████████████████| 31/31 [00:00<00:00, 250.49it/s]\n",
      "100%|█████████████████████████████████████████| 31/31 [00:00<00:00, 1065.76it/s]\n",
      "100%|███████████████████████████████████████████| 31/31 [00:00<00:00, 60.82it/s]\n"
     ]
    }
   ],
   "source": [
    "election_df = add_district(send, \"SEND\", election_df, \"DISTRICT\")"
   ]
  },
  {
   "cell_type": "code",
   "execution_count": 51,
   "metadata": {},
   "outputs": [
    {
     "data": {
      "text/html": [
       "<div>\n",
       "<style scoped>\n",
       "    .dataframe tbody tr th:only-of-type {\n",
       "        vertical-align: middle;\n",
       "    }\n",
       "\n",
       "    .dataframe tbody tr th {\n",
       "        vertical-align: top;\n",
       "    }\n",
       "\n",
       "    .dataframe thead th {\n",
       "        text-align: right;\n",
       "    }\n",
       "</style>\n",
       "<table border=\"1\" class=\"dataframe\">\n",
       "  <thead>\n",
       "    <tr style=\"text-align: right;\">\n",
       "      <th></th>\n",
       "      <th>ID</th>\n",
       "      <th>AREA</th>\n",
       "      <th>DISTRICT</th>\n",
       "      <th>MEMBERS</th>\n",
       "      <th>LOCKED</th>\n",
       "      <th>NAME</th>\n",
       "      <th>POPULATION</th>\n",
       "      <th>WHITE</th>\n",
       "      <th>BLACK</th>\n",
       "      <th>AMINDIAN</th>\n",
       "      <th>...</th>\n",
       "      <th>F18_NP_HWN</th>\n",
       "      <th>F18_AP_OTH</th>\n",
       "      <th>F18_NP_OTH</th>\n",
       "      <th>F18_1_RACE</th>\n",
       "      <th>F18_2_RACE</th>\n",
       "      <th>F18_2_RAC1</th>\n",
       "      <th>F18_3_RACE</th>\n",
       "      <th>F18_4_RACE</th>\n",
       "      <th>F18_5_RACE</th>\n",
       "      <th>geometry</th>\n",
       "    </tr>\n",
       "  </thead>\n",
       "  <tbody>\n",
       "    <tr>\n",
       "      <th>0</th>\n",
       "      <td>6</td>\n",
       "      <td>2704.081055</td>\n",
       "      <td>14</td>\n",
       "      <td>1.0</td>\n",
       "      <td>None</td>\n",
       "      <td>None</td>\n",
       "      <td>9278</td>\n",
       "      <td>7855</td>\n",
       "      <td>102</td>\n",
       "      <td>95</td>\n",
       "      <td>...</td>\n",
       "      <td>7513</td>\n",
       "      <td>425</td>\n",
       "      <td>7097</td>\n",
       "      <td>7013</td>\n",
       "      <td>509</td>\n",
       "      <td>495</td>\n",
       "      <td>13</td>\n",
       "      <td>1</td>\n",
       "      <td>0</td>\n",
       "      <td>POLYGON ((410634.311 4599884.375, 410644.506 4...</td>\n",
       "    </tr>\n",
       "    <tr>\n",
       "      <th>1</th>\n",
       "      <td>7</td>\n",
       "      <td>2456.038330</td>\n",
       "      <td>15</td>\n",
       "      <td>1.0</td>\n",
       "      <td>None</td>\n",
       "      <td>None</td>\n",
       "      <td>9091</td>\n",
       "      <td>7093</td>\n",
       "      <td>126</td>\n",
       "      <td>165</td>\n",
       "      <td>...</td>\n",
       "      <td>6895</td>\n",
       "      <td>955</td>\n",
       "      <td>5952</td>\n",
       "      <td>6297</td>\n",
       "      <td>610</td>\n",
       "      <td>598</td>\n",
       "      <td>11</td>\n",
       "      <td>1</td>\n",
       "      <td>0</td>\n",
       "      <td>POLYGON ((340345.876 4699717.968, 340343.687 4...</td>\n",
       "    </tr>\n",
       "    <tr>\n",
       "      <th>2</th>\n",
       "      <td>10</td>\n",
       "      <td>4891.289551</td>\n",
       "      <td>18</td>\n",
       "      <td>1.0</td>\n",
       "      <td>None</td>\n",
       "      <td>None</td>\n",
       "      <td>8886</td>\n",
       "      <td>7900</td>\n",
       "      <td>21</td>\n",
       "      <td>94</td>\n",
       "      <td>...</td>\n",
       "      <td>6648</td>\n",
       "      <td>403</td>\n",
       "      <td>6270</td>\n",
       "      <td>6326</td>\n",
       "      <td>347</td>\n",
       "      <td>338</td>\n",
       "      <td>6</td>\n",
       "      <td>3</td>\n",
       "      <td>0</td>\n",
       "      <td>POLYGON ((130541.351 4602755.627, 130580.322 4...</td>\n",
       "    </tr>\n",
       "    <tr>\n",
       "      <th>3</th>\n",
       "      <td>13</td>\n",
       "      <td>5355.742676</td>\n",
       "      <td>20</td>\n",
       "      <td>1.0</td>\n",
       "      <td>None</td>\n",
       "      <td>None</td>\n",
       "      <td>9303</td>\n",
       "      <td>8325</td>\n",
       "      <td>18</td>\n",
       "      <td>58</td>\n",
       "      <td>...</td>\n",
       "      <td>7024</td>\n",
       "      <td>409</td>\n",
       "      <td>6634</td>\n",
       "      <td>6692</td>\n",
       "      <td>351</td>\n",
       "      <td>346</td>\n",
       "      <td>5</td>\n",
       "      <td>0</td>\n",
       "      <td>0</td>\n",
       "      <td>POLYGON ((166456.214 4686976.579, 166297.628 4...</td>\n",
       "    </tr>\n",
       "    <tr>\n",
       "      <th>4</th>\n",
       "      <td>17</td>\n",
       "      <td>3618.739258</td>\n",
       "      <td>24</td>\n",
       "      <td>1.0</td>\n",
       "      <td>None</td>\n",
       "      <td>None</td>\n",
       "      <td>9031</td>\n",
       "      <td>8299</td>\n",
       "      <td>17</td>\n",
       "      <td>52</td>\n",
       "      <td>...</td>\n",
       "      <td>7328</td>\n",
       "      <td>229</td>\n",
       "      <td>7104</td>\n",
       "      <td>7002</td>\n",
       "      <td>331</td>\n",
       "      <td>320</td>\n",
       "      <td>9</td>\n",
       "      <td>2</td>\n",
       "      <td>0</td>\n",
       "      <td>POLYGON ((178457.059 4938098.060, 178452.973 4...</td>\n",
       "    </tr>\n",
       "  </tbody>\n",
       "</table>\n",
       "<p>5 rows × 256 columns</p>\n",
       "</div>"
      ],
      "text/plain": [
       "   ID         AREA DISTRICT  MEMBERS LOCKED  NAME  POPULATION  WHITE  BLACK  \\\n",
       "0   6  2704.081055       14      1.0   None  None        9278   7855    102   \n",
       "1   7  2456.038330       15      1.0   None  None        9091   7093    126   \n",
       "2  10  4891.289551       18      1.0   None  None        8886   7900     21   \n",
       "3  13  5355.742676       20      1.0   None  None        9303   8325     18   \n",
       "4  17  3618.739258       24      1.0   None  None        9031   8299     17   \n",
       "\n",
       "   AMINDIAN  ...  F18_NP_HWN  F18_AP_OTH  F18_NP_OTH  F18_1_RACE  F18_2_RACE  \\\n",
       "0        95  ...        7513         425        7097        7013         509   \n",
       "1       165  ...        6895         955        5952        6297         610   \n",
       "2        94  ...        6648         403        6270        6326         347   \n",
       "3        58  ...        7024         409        6634        6692         351   \n",
       "4        52  ...        7328         229        7104        7002         331   \n",
       "\n",
       "   F18_2_RAC1  F18_3_RACE  F18_4_RACE  F18_5_RACE  \\\n",
       "0         495          13           1           0   \n",
       "1         598          11           1           0   \n",
       "2         338           6           3           0   \n",
       "3         346           5           0           0   \n",
       "4         320           9           2           0   \n",
       "\n",
       "                                            geometry  \n",
       "0  POLYGON ((410634.311 4599884.375, 410644.506 4...  \n",
       "1  POLYGON ((340345.876 4699717.968, 340343.687 4...  \n",
       "2  POLYGON ((130541.351 4602755.627, 130580.322 4...  \n",
       "3  POLYGON ((166456.214 4686976.579, 166297.628 4...  \n",
       "4  POLYGON ((178457.059 4938098.060, 178452.973 4...  \n",
       "\n",
       "[5 rows x 256 columns]"
      ]
     },
     "execution_count": 51,
     "metadata": {},
     "output_type": "execute_result"
    }
   ],
   "source": [
    "hdist.head()"
   ]
  },
  {
   "cell_type": "code",
   "execution_count": 52,
   "metadata": {},
   "outputs": [
    {
     "name": "stderr",
     "output_type": "stream",
     "text": [
      "100%|██████████████████████████████████████████| 62/62 [00:00<00:00, 335.17it/s]\n",
      "100%|█████████████████████████████████████████| 62/62 [00:00<00:00, 1663.45it/s]\n",
      "100%|███████████████████████████████████████████| 62/62 [00:00<00:00, 92.88it/s]\n"
     ]
    }
   ],
   "source": [
    "\n",
    "election_df = add_district(hdist, \"HDIST\", election_df, \"DISTRICT\")"
   ]
  },
  {
   "cell_type": "code",
   "execution_count": 53,
   "metadata": {},
   "outputs": [
    {
     "name": "stderr",
     "output_type": "stream",
     "text": [
      "100%|████████████████████████████████████████| 481/481 [00:00<00:00, 640.35it/s]\n"
     ]
    },
    {
     "data": {
      "text/plain": [
       "True"
      ]
     },
     "execution_count": 53,
     "metadata": {},
     "output_type": "execute_result"
    }
   ],
   "source": [
    "maup.doctor(election_df)"
   ]
  },
  {
   "cell_type": "markdown",
   "metadata": {},
   "source": [
    "### Put the base precinct year after the precinct information column"
   ]
  },
  {
   "cell_type": "code",
   "execution_count": 55,
   "metadata": {},
   "outputs": [],
   "source": [
    "base_columns = {}\n",
    "if 'COUNTYFP' + year not in election_df.columns:\n",
    "    base_columns = {\n",
    "        'STATEFP':'STATEFP'+year,\n",
    "        'COUNTYFP':'COUNTYFP'+year,\n",
    "        'VTDST':'VTDST'+year,\n",
    "        'NAME':'NAME'+year}\n",
    "election_df.rename(columns=base_columns, inplace = True)"
   ]
  },
  {
   "cell_type": "code",
   "execution_count": 56,
   "metadata": {},
   "outputs": [
    {
     "data": {
      "text/plain": [
       "Index(['2MOREVAP', 'AMINVAP', 'ASIANVAP', 'AUD18D', 'AUD18O', 'AUD18R', 'BVAP',\n",
       "       'COUNTYFP20', 'GOV18D', 'GOV18O', 'GOV18R', 'HAL16D', 'HAL16O',\n",
       "       'HAL16R', 'HAL18D', 'HAL18O', 'HAL18R', 'HAL20D', 'HAL20O', 'HAL20R',\n",
       "       'HISP', 'HVAP', 'H_2MORE', 'H_AMIN', 'H_ASIAN', 'H_BLACK', 'H_NHPI',\n",
       "       'H_OTHER', 'H_WHITE', 'NAME20', 'NHPIVAP', 'NH_2MORE', 'NH_AMIN',\n",
       "       'NH_ASIAN', 'NH_BLACK', 'NH_NHPI', 'NH_OTHER', 'NH_WHITE', 'OTHERVAP',\n",
       "       'PRE16D', 'PRE16O', 'PRE16R', 'PRE20D', 'PRE20O', 'PRE20R', 'SOS18D',\n",
       "       'SOS18O', 'SOS18R', 'SPI18O', 'SPI18R', 'STATEFP20', 'TOTPOP', 'TRE18D',\n",
       "       'TRE18O', 'TRE18R', 'USS18D', 'USS18O', 'USS18R', 'USS20D', 'USS20O',\n",
       "       'USS20R', 'VAP', 'VTDST20', 'WVAP', 'geometry', 'SEND', 'HDIST'],\n",
       "      dtype='object')"
      ]
     },
     "execution_count": 56,
     "metadata": {},
     "output_type": "execute_result"
    }
   ],
   "source": [
    "election_df.columns"
   ]
  },
  {
   "cell_type": "code",
   "execution_count": 57,
   "metadata": {},
   "outputs": [],
   "source": [
    "# reorder the columns\n",
    "fixed_columns = [\n",
    "    'STATEFP'+year,\n",
    "    'COUNTYFP'+year,\n",
    "    'VTDST'+year,\n",
    "    'NAME'+year,\n",
    "    'SEND',\n",
    "    'HDIST',\n",
    "    'TOTPOP',\n",
    "    'NH_2MORE',\n",
    "    'NH_AMIN',\n",
    "    'NH_ASIAN',\n",
    "    'NH_BLACK',\n",
    "    'NH_NHPI',\n",
    "    'NH_OTHER',\n",
    "    'NH_WHITE',\n",
    "    'HISP',\n",
    "    'H_AMIN',\n",
    "    'H_ASIAN',\n",
    "    'H_BLACK',\n",
    "    'H_NHPI',\n",
    "    'H_OTHER',\n",
    "    'H_WHITE',\n",
    "    'H_2MORE',\n",
    "    'VAP',\n",
    "    'HVAP',\n",
    "    'WVAP',\n",
    "    'BVAP',\n",
    "    'AMINVAP',\n",
    "    'ASIANVAP',\n",
    "    'NHPIVAP',\n",
    "    'OTHERVAP',\n",
    "    '2MOREVAP']\n",
    "\n",
    "election_columns = [col for col in election_df.columns if col not in fixed_columns]\n",
    "final_col = fixed_columns + election_columns\n",
    "election_df = election_df[final_col]"
   ]
  },
  {
   "cell_type": "code",
   "execution_count": 58,
   "metadata": {},
   "outputs": [],
   "source": [
    "import os\n",
    "\n",
    "# store the result in directory \"il\"\n",
    "directory = \"./{}\".format(state_ab)\n",
    "if not os.path.exists(directory):\n",
    "    os.makedirs(directory)\n",
    "\n",
    "shapefile_path = \"./{}/{}.shp\".format(state_ab, state_ab)\n",
    "geojson_path = './{}/{}.geojson'.format(state_ab, state_ab)\n",
    "json_path = \"./{}.json\".format(state_ab, state_ab)\n",
    "\n",
    "# Check if the shapefile or geojson file already exists\n",
    "if os.path.exists(shapefile_path):\n",
    "    os.remove(shapefile_path)\n",
    "if os.path.exists(geojson_path):\n",
    "    os.remove(geojson_path)\n",
    "\n",
    "election_df.to_file(shapefile_path)\n",
    "election_df.to_file(geojson_path, driver='GeoJSON')\n",
    "\n",
    "# Only do once to build json and read from file when generating ensembles\n",
    "graph = Graph.from_file(shapefile_path, ignore_errors=True)\n",
    "graph.to_json(json_path)"
   ]
  },
  {
   "cell_type": "code",
   "execution_count": 59,
   "metadata": {},
   "outputs": [
    {
     "data": {
      "text/plain": [
       "<Axes: >"
      ]
     },
     "execution_count": 59,
     "metadata": {},
     "output_type": "execute_result"
    },
    {
     "data": {
      "image/png": "[encoded data removed]",
      "text/plain": [
       "<Figure size 640x480 with 1 Axes>"
      ]
     },
     "metadata": {},
     "output_type": "display_data"
    }
   ],
   "source": [
    "shapefile_path = \"./{}/{}.shp\".format(state_ab, state_ab)\n",
    "shape=gpd.read_file(shapefile_path)\n",
    "shape.plot()"
   ]
  },
  {
   "cell_type": "code",
   "execution_count": null,
   "metadata": {},
   "outputs": [],
   "source": []
  }
 ],
 "metadata": {
  "kernelspec": {
   "display_name": "maup",
   "language": "python",
   "name": "maup"
  },
  "language_info": {
   "codemirror_mode": {
    "name": "ipython",
    "version": 3
   },
   "file_extension": ".py",
   "mimetype": "text/x-python",
   "name": "python",
   "nbconvert_exporter": "python",
   "pygments_lexer": "ipython3",
   "version": "3.12.6"
  }
 },
 "nbformat": 4,
 "nbformat_minor": 4
}
