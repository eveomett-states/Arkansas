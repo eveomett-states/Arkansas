{
 "cells": [
  {
   "cell_type": "code",
   "execution_count": 1,
   "metadata": {},
   "outputs": [],
   "source": [
    "import pandas as pd\n",
    "import geopandas as gpd\n",
    "import maup\n",
    "import time\n",
    "from maup import smart_repair\n",
    "from gerrychain import Graph\n",
    "\n",
    "maup.progress.enabled = True"
   ]
  },
  {
   "cell_type": "code",
   "execution_count": 2,
   "metadata": {},
   "outputs": [],
   "source": [
    "import warnings\n",
    "warnings.filterwarnings(\"ignore\")"
   ]
  },
  {
   "cell_type": "code",
   "execution_count": 3,
   "metadata": {},
   "outputs": [],
   "source": [
    "# Arkansas\n",
    "state_ab = \"ar\""
   ]
  },
  {
   "cell_type": "markdown",
   "metadata": {},
   "source": [
    "## Data\n",
    "1. Download all the data in directory \"ar_data\"\n",
    "2. Extract them all"
   ]
  },
  {
   "cell_type": "code",
   "execution_count": 4,
   "metadata": {},
   "outputs": [],
   "source": [
    "data_folder = state_ab + \"_data/\"\n",
    "population1_data = \"./{}{}_pl2020_b/{}_pl2020_p1_b.shp\".format(data_folder, state_ab, state_ab)\n",
    "population2_data = \"./{}{}_pl2020_b/{}_pl2020_p2_b.shp\".format(data_folder, state_ab, state_ab)\n",
    "vap_data =  \"./{}{}_pl2020_b/{}_pl2020_p4_b.shp\".format(data_folder, state_ab, state_ab)\n",
    "vest20_data = \"./{}{}_vest_20/{}_vest_20.shp\".format(data_folder, state_ab, state_ab)\n",
    "vest18_data = \"./{}{}_vest_18/{}_vest_18.shp\".format(data_folder, state_ab, state_ab)\n",
    "vest16_data = \"./{}{}_vest_16/{}_vest_16.shp\".format(data_folder, state_ab, state_ab)\n",
    "cd_data = \"./{}{}_cong_2021/ak_cong_2021.shp\".format(data_folder, state_ab)\n",
    "send_data = \"./{}{}_sldu_adopted_2021/SENATE_DISTRICTS_ADOPTED_2021.shp\".format(data_folder, state_ab)\n",
    "hdist_data = \"./{}{}_sldl_2021/ar_sldl_2021.shp\".format(data_folder, state_ab)\n",
    "county_data = \"./{}{}_pl2020_cnty/{}_pl2020_cnty.shp\".format(data_folder, state_ab, state_ab)"
   ]
  },
  {
   "cell_type": "code",
   "execution_count": 5,
   "metadata": {},
   "outputs": [],
   "source": [
    "def do_smart_repair(df, min_rook_length = None, snap_precision = 8):\n",
    "    # change it to the UTM it needs for smart_repair\n",
    "    df = df.to_crs(df.estimate_utm_crs())\n",
    "    df = smart_repair(df, min_rook_length = min_rook_length, snap_precision = snap_precision)\n",
    "\n",
    "    if maup.doctor(df) == False:\n",
    "        raise Exception('maup.doctor failed')\n",
    "    \n",
    "    return df"
   ]
  },
  {
   "cell_type": "code",
   "execution_count": 6,
   "metadata": {},
   "outputs": [],
   "source": [
    "def add_district(dist_df, dist_name, election_df, col_name):\n",
    "    election_df = election_df.to_crs(election_df.estimate_utm_crs())\n",
    "    dist_df = dist_df.to_crs(dist_df.estimate_utm_crs())\n",
    "    # check if it needs to be smart_repair\n",
    "    if maup.doctor(dist_df) != True:\n",
    "        dist_df = do_smart_repair(dist_df)\n",
    "\n",
    "    # assign the pricincts\n",
    "    precincts_to_district_assignment = maup.assign(election_df.geometry, dist_df.geometry)\n",
    "    election_df[dist_name] = precincts_to_district_assignment\n",
    "    for precinct_index in range(len(election_df)):\n",
    "        election_df.at[precinct_index, dist_name] = dist_df.at[election_df.at[precinct_index, dist_name], col_name]\n",
    "\n",
    "    return election_df"
   ]
  },
  {
   "cell_type": "code",
   "execution_count": 7,
   "metadata": {},
   "outputs": [],
   "source": [
    "def rename(original, year):\n",
    "    party = original[6]\n",
    "    if party == 'R' or party == 'D':\n",
    "        return original[3:6] + year + original[6]\n",
    "    else:\n",
    "        return original[3:6] + year + 'O'"
   ]
  },
  {
   "cell_type": "code",
   "execution_count": 8,
   "metadata": {},
   "outputs": [],
   "source": [
    "pop_col = ['TOTPOP', 'HISP', 'NH_WHITE', 'NH_BLACK', 'NH_AMIN', 'NH_ASIAN', 'NH_NHPI', 'NH_OTHER', 'NH_2MORE', 'H_WHITE', 'H_BLACK', 'H_AMIN', 'H_ASIAN', 'H_NHPI', 'H_OTHER', 'H_2MORE', 'VAP', 'HVAP', 'WVAP', 'BVAP', 'AMINVAP', 'ASIANVAP', 'NHPIVAP', 'OTHERVAP', '2MOREVAP']"
   ]
  },
  {
   "cell_type": "code",
   "execution_count": 9,
   "metadata": {},
   "outputs": [],
   "source": [
    "def check_population(population, df):\n",
    "    pop_check = pd.DataFrame({\n",
    "        'pop_col': pop_col,\n",
    "        'population_df': population[pop_col].sum(), \n",
    "        'vest_base': df[pop_col].sum(),\n",
    "        'equal': [x == y for x, y in zip(population[pop_col].sum(), df[pop_col].sum())]\n",
    "    })\n",
    "    if pop_check['equal'].mean() < 1:\n",
    "        print(pop_check)\n",
    "        raise Exception(\"population doesn't agree\")\n",
    "\n",
    "    else:\n",
    "        print(\"population agrees\")"
   ]
  },
  {
   "cell_type": "code",
   "execution_count": 10,
   "metadata": {},
   "outputs": [],
   "source": [
    "def add_vest(vest, df, year, population, start_col, snap_precision = 10):\n",
    "    df = df.to_crs(df.estimate_utm_crs())\n",
    "    vest = vest.to_crs(vest.estimate_utm_crs())\n",
    "    population = population.to_crs(population.estimate_utm_crs())\n",
    "    df_crs = df.crs\n",
    "    vest_crs = vest.crs\n",
    "    \n",
    "     # check if it needs to be smart_repair\n",
    "    if maup.doctor(vest) != True:\n",
    "        vest = do_smart_repair(vest, snap_precision = snap_precision)\n",
    "    \n",
    "    # rename the columns\n",
    "    original_col = vest.columns[start_col:-1]\n",
    "    new_col = [rename(i, year) for i in original_col]\n",
    "    rename_dict = dict(zip(original_col, new_col))\n",
    "    vest = vest.rename(columns=rename_dict)\n",
    "    vest = vest.groupby(level=0, axis=1).sum() # combine all the other party's vote into columns with sufix \"O\"\n",
    "    col_name = list(set(new_col))\n",
    "    col_name.sort()\n",
    "    \n",
    "    # make the blocks from precincts by weight\n",
    "    vest = gpd.GeoDataFrame(vest, crs=vest_crs)\n",
    "    election_in_block = population[[\"VAP\", 'geometry']] # population_df is in block scale\n",
    "    blocks_to_precincts_assignment = maup.assign(election_in_block.geometry, vest.geometry)\n",
    "    weights = election_in_block[\"VAP\"] / blocks_to_precincts_assignment.map(election_in_block[\"VAP\"].groupby(blocks_to_precincts_assignment).sum())\n",
    "    weights = weights.fillna(0)\n",
    "    prorated = maup.prorate(blocks_to_precincts_assignment, vest[col_name], weights)\n",
    "    election_in_block[col_name] = prorated\n",
    "    \n",
    "    # assign blocks to precincts\n",
    "    election_in_block = gpd.GeoDataFrame(election_in_block, crs=vest_crs)\n",
    "    df = gpd.GeoDataFrame(df, crs=df_crs)\n",
    "    block_to_pricinct_assginment = maup.assign(election_in_block.geometry, df.geometry)\n",
    "    df[col_name] = election_in_block[col_name].groupby(block_to_pricinct_assginment).sum()\n",
    "    df = df.groupby(level=0, axis=1).sum()\n",
    "    df = gpd.GeoDataFrame(df, crs = df_crs)\n",
    "    # check if population agrees\n",
    "    check_population(population, df)\n",
    "    \n",
    "    return df"
   ]
  },
  {
   "cell_type": "code",
   "execution_count": 11,
   "metadata": {},
   "outputs": [],
   "source": [
    "def add_vest_base(vest, start_col, year, county = None, min_rook_length = None, snap_precision = 10):\n",
    "    vest = vest.to_crs(vest.estimate_utm_crs())\n",
    "    vest_crs = vest.crs\n",
    "    original_col = vest.columns[start_col:-1]\n",
    "    new_col = [rename(i, year) for i in original_col]\n",
    "    rename_dict = dict(zip(original_col, new_col))\n",
    "    vest = vest.rename(columns=rename_dict)\n",
    "    vest = vest.groupby(level=0, axis=1).sum()\n",
    "    vest = gpd.GeoDataFrame(vest, crs=vest_crs)\n",
    "\n",
    "    if county is not None:\n",
    "        county = county.to_crs(county.estimate_utm_crs())\n",
    "        vest = smart_repair(vest, nest_within_regions = county, min_rook_length = min_rook_length, snap_precision = snap_precision) # nest precincts within counties\n",
    "\n",
    "    else:\n",
    "        vest = smart_repair(vest, min_rook_length = min_rook_length, snap_precision = snap_precision) \n",
    "    \n",
    "    return vest"
   ]
  },
  {
   "cell_type": "code",
   "execution_count": 12,
   "metadata": {},
   "outputs": [],
   "source": [
    "def check_small_boundary_lengths(vest_base):\n",
    "    import copy\n",
    "    vest_base = vest_base.to_crs(vest_base.estimate_utm_crs())\n",
    "\n",
    "    boundaries = copy.deepcopy(vest_base)\n",
    "    boundaries[\"geometry\"] = boundaries.geometry.boundary  # get boundaries\n",
    "    neighbors = gpd.sjoin(boundaries, vest_base, predicate=\"intersects\") # find boundaries that intersect\n",
    "    neighbors = neighbors[neighbors.index != neighbors.index_right] # remove boundaries of a region with itself\n",
    "\n",
    "    # compute shared border length using intersection\n",
    "    borders = list(neighbors.apply(\n",
    "        lambda row: row.geometry.intersection(vest_base.loc[row.index_right, \"geometry\"]).length, axis=1\n",
    "    ))\n",
    "\n",
    "    borders.sort()\n",
    "    \n",
    "    return borders"
   ]
  },
  {
   "cell_type": "markdown",
   "metadata": {},
   "source": [
    "### Read the census data"
   ]
  },
  {
   "cell_type": "code",
   "execution_count": 13,
   "metadata": {},
   "outputs": [],
   "source": [
    "population1_df = gpd.read_file(population1_data)\n",
    "population2_df = gpd.read_file(population2_data)\n",
    "vap_df = gpd.read_file(vap_data)\n",
    "county_df = gpd.read_file(county_data)"
   ]
  },
  {
   "cell_type": "code",
   "execution_count": 14,
   "metadata": {},
   "outputs": [],
   "source": [
    "population2_df = population2_df.drop(columns=['SUMLEV', 'LOGRECNO', 'GEOID', 'COUNTY', 'geometry'])\n",
    "vap_df = vap_df.drop(columns=['SUMLEV', 'LOGRECNO', 'GEOID', 'COUNTY', 'geometry'])"
   ]
  },
  {
   "cell_type": "code",
   "execution_count": 15,
   "metadata": {},
   "outputs": [],
   "source": [
    "population_df = pd.merge(population1_df, population2_df, on='GEOID20')\n",
    "population_df = pd.merge(population_df, vap_df, on='GEOID20')\n",
    "population_df = population_df.to_crs(population_df.estimate_utm_crs())"
   ]
  },
  {
   "cell_type": "code",
   "execution_count": 16,
   "metadata": {},
   "outputs": [
    {
     "name": "stderr",
     "output_type": "stream",
     "text": [
      "100%|█████████████████████████████████| 136422/136422 [00:58<00:00, 2326.30it/s]\n"
     ]
    },
    {
     "data": {
      "text/plain": [
       "True"
      ]
     },
     "execution_count": 16,
     "metadata": {},
     "output_type": "execute_result"
    }
   ],
   "source": [
    "maup.doctor(population_df)"
   ]
  },
  {
   "cell_type": "code",
   "execution_count": 17,
   "metadata": {},
   "outputs": [],
   "source": [
    "population_df['H_WHITE'] = population_df.apply(lambda t: t['P0010003'] - t['P0020005'], 1)\n",
    "population_df['H_BLACK'] = population_df.apply(lambda t: t['P0010004'] - t['P0020006'], 1)\n",
    "population_df['H_AMIN'] = population_df.apply(lambda t: t['P0010005'] - t['P0020007'], 1)\n",
    "population_df['H_ASIAN'] = population_df.apply(lambda t: t['P0010006'] - t['P0020008'], 1)\n",
    "population_df['H_NHPI'] = population_df.apply(lambda t: t['P0010007'] - t['P0020009'], 1)\n",
    "population_df['H_OTHER'] = population_df.apply(lambda t: t['P0010008'] - t['P0020010'], 1)\n",
    "population_df['H_2MORE'] = population_df.apply(lambda t: t['P0010009'] - t['P0020011'], 1)"
   ]
  },
  {
   "cell_type": "code",
   "execution_count": 18,
   "metadata": {},
   "outputs": [],
   "source": [
    "rename_dict = {'P0020001': 'TOTPOP', 'P0020002': 'HISP', 'P0020005': 'NH_WHITE', 'P0020006': 'NH_BLACK', 'P0020007': 'NH_AMIN',\n",
    "                    'P0020008': 'NH_ASIAN', 'P0020009': 'NH_NHPI', 'P0020010': 'NH_OTHER', 'P0020011': 'NH_2MORE',\n",
    "                    'P0040001': 'VAP', 'P0040002': 'HVAP', 'P0040005': 'WVAP', 'P0040006': 'BVAP', 'P0040007': 'AMINVAP',\n",
    "                                        'P0040008': 'ASIANVAP', 'P0040009': 'NHPIVAP', 'P0040010': 'OTHERVAP', 'P0040011': '2MOREVAP'}"
   ]
  },
  {
   "cell_type": "code",
   "execution_count": 19,
   "metadata": {},
   "outputs": [],
   "source": [
    "population_df.rename(columns=rename_dict, inplace = True)"
   ]
  },
  {
   "cell_type": "markdown",
   "metadata": {},
   "source": [
    "Make sure that the County shapefile is clean:"
   ]
  },
  {
   "cell_type": "code",
   "execution_count": 20,
   "metadata": {},
   "outputs": [
    {
     "name": "stderr",
     "output_type": "stream",
     "text": [
      "100%|██████████████████████████████████████████| 75/75 [00:00<00:00, 216.49it/s]\n"
     ]
    },
    {
     "data": {
      "text/plain": [
       "True"
      ]
     },
     "execution_count": 20,
     "metadata": {},
     "output_type": "execute_result"
    }
   ],
   "source": [
    "maup.doctor(county_df)"
   ]
  },
  {
   "cell_type": "markdown",
   "metadata": {},
   "source": [
    "## Read the vest 20 data\n",
    "\n",
    "Now using it as a \"base pricinct\""
   ]
  },
  {
   "cell_type": "markdown",
   "metadata": {},
   "source": [
    "## Check if vest20 can be used as base"
   ]
  },
  {
   "cell_type": "code",
   "execution_count": 21,
   "metadata": {},
   "outputs": [],
   "source": [
    "vest20 = gpd.read_file(vest20_data)"
   ]
  },
  {
   "cell_type": "code",
   "execution_count": 22,
   "metadata": {},
   "outputs": [
    {
     "data": {
      "text/plain": [
       "Index(['STATE_FIPS', 'COUNTY_FIP', 'COUNTY_NAM', 'PRECINCT', 'G20PRERTRU',\n",
       "       'G20PREDBID', 'G20PRELJOR', 'G20PREGHAW', 'G20PRECBLA', 'G20PREACAR',\n",
       "       'G20PREOMYE', 'G20PRESLAR', 'G20PREIWES', 'G20PREICOL', 'G20PREIPIE',\n",
       "       'G20PREIGAM', 'G20PREIFUE', 'G20USSRCOT', 'G20USSDHAR', 'geometry'],\n",
       "      dtype='object')"
      ]
     },
     "execution_count": 22,
     "metadata": {},
     "output_type": "execute_result"
    }
   ],
   "source": [
    "vest20.columns"
   ]
  },
  {
   "cell_type": "code",
   "execution_count": 23,
   "metadata": {},
   "outputs": [],
   "source": [
    "start_col = 4\n",
    "vest_base_data = vest20\n",
    "year = '20'"
   ]
  },
  {
   "cell_type": "code",
   "execution_count": 24,
   "metadata": {},
   "outputs": [
    {
     "name": "stderr",
     "output_type": "stream",
     "text": [
      "100%|██████████████████████████████████████████| 75/75 [00:00<00:00, 203.03it/s]\n"
     ]
    },
    {
     "name": "stdout",
     "output_type": "stream",
     "text": [
      "Snapping all geometries to a grid with precision 10^( -5 ) to avoid GEOS errors.\n"
     ]
    },
    {
     "name": "stderr",
     "output_type": "stream",
     "text": [
      "100%|██████████████████████████████████████████| 75/75 [00:00<00:00, 642.93it/s]\n",
      "100%|███████████████████████████████████████████| 75/75 [00:01<00:00, 52.20it/s]\n"
     ]
    },
    {
     "name": "stdout",
     "output_type": "stream",
     "text": [
      "Identifying overlaps...\n"
     ]
    },
    {
     "name": "stderr",
     "output_type": "stream",
     "text": [
      "100%|███████████████████████████████████| 77385/77385 [00:58<00:00, 1330.39it/s]\n"
     ]
    },
    {
     "name": "stdout",
     "output_type": "stream",
     "text": [
      "Resolving overlaps and filling gaps...\n"
     ]
    },
    {
     "name": "stderr",
     "output_type": "stream",
     "text": [
      "100%|██████████████████████████████████████████| 75/75 [00:00<00:00, 353.74it/s]\n",
      "100%|███████████████████████████████████████████| 75/75 [00:01<00:00, 42.62it/s]\n",
      "Gaps to simplify in region 0: 100%|███████████| 428/428 [00:05<00:00, 75.73it/s]\n",
      "Gaps to fill in region 0: 100%|███████████████████| 8/8 [00:00<00:00, 27.12it/s]\n",
      "Gaps to simplify in region 1: 100%|███████████| 360/360 [00:04<00:00, 76.78it/s]\n",
      "Gaps to fill in region 1: 100%|█████████████████| 16/16 [00:00<00:00, 44.58it/s]\n",
      "Gaps to simplify in region 2: 100%|█████████| 1073/1073 [00:13<00:00, 77.45it/s]\n",
      "Gaps to fill in region 2: 100%|█████████████████| 16/16 [00:00<00:00, 34.90it/s]\n",
      "Gaps to simplify in region 3: 100%|█████████| 1144/1144 [00:14<00:00, 77.35it/s]\n",
      "Gaps to fill in region 3: 100%|███████████████████| 5/5 [00:00<00:00, 26.73it/s]\n",
      "Gaps to simplify in region 4: 100%|███████████| 864/864 [00:14<00:00, 59.18it/s]\n",
      "Gaps to fill in region 4: 100%|███████████████████| 7/7 [00:00<00:00, 42.75it/s]\n",
      "Gaps to simplify in region 5: 100%|███████████| 553/553 [00:07<00:00, 76.15it/s]\n",
      "Gaps to fill in region 5: 100%|█████████████████| 14/14 [00:00<00:00, 38.54it/s]\n",
      "Gaps to simplify in region 6: 100%|█████████| 1633/1633 [00:21<00:00, 74.46it/s]\n",
      "Gaps to fill in region 6: 100%|███████████████████| 6/6 [00:00<00:00, 27.71it/s]\n",
      "Gaps to simplify in region 7: 100%|███████████| 182/182 [00:02<00:00, 61.94it/s]\n",
      "Gaps to fill in region 7: 100%|███████████████████| 5/5 [00:00<00:00, 18.77it/s]\n",
      "Gaps to simplify in region 8: 100%|█████████| 1210/1210 [00:22<00:00, 53.56it/s]\n",
      "Gaps to fill in region 8: 100%|█████████████████| 10/10 [00:00<00:00, 26.16it/s]\n",
      "Gaps to simplify in region 9: 100%|███████████| 965/965 [00:19<00:00, 48.73it/s]\n",
      "Gaps to fill in region 9: 100%|███████████████████| 9/9 [00:00<00:00, 26.64it/s]\n",
      "Gaps to simplify in region 10: 100%|██████████| 298/298 [00:03<00:00, 96.99it/s]\n",
      "Gaps to fill in region 10: 100%|██████████████████| 6/6 [00:00<00:00, 40.79it/s]\n",
      "Gaps to simplify in region 11: 100%|██████████| 127/127 [00:01<00:00, 69.71it/s]\n",
      "Gaps to fill in region 11: 100%|██████████████████| 9/9 [00:00<00:00, 25.44it/s]\n",
      "Gaps to simplify in region 12: 100%|█████████| 206/206 [00:01<00:00, 126.23it/s]\n",
      "Gaps to fill in region 12: 100%|████████████████| 11/11 [00:00<00:00, 35.55it/s]\n",
      "Gaps to simplify in region 13: 100%|██████████| 965/965 [00:10<00:00, 91.37it/s]\n",
      "Gaps to fill in region 13: 100%|████████████████| 38/38 [00:00<00:00, 72.87it/s]\n",
      "Gaps to simplify in region 14: 100%|██████████| 978/978 [00:22<00:00, 43.70it/s]\n",
      "Gaps to fill in region 14: 100%|██████████████████| 6/6 [00:00<00:00, 20.56it/s]\n",
      "Gaps to simplify in region 15: 100%|████████| 2630/2630 [01:09<00:00, 38.05it/s]\n",
      "Gaps to fill in region 15: 100%|████████████████| 11/11 [00:00<00:00, 30.30it/s]\n",
      "Gaps to simplify in region 16: 100%|██████████| 578/578 [00:18<00:00, 32.04it/s]\n",
      "Gaps to fill in region 16: 100%|██████████████████| 2/2 [00:00<00:00, 12.48it/s]\n",
      "Gaps to simplify in region 17: 100%|██████████| 860/860 [00:13<00:00, 65.74it/s]\n",
      "Gaps to fill in region 17: 100%|████████████████| 14/14 [00:00<00:00, 23.65it/s]\n",
      "Gaps to simplify in region 18: 100%|████████| 2013/2013 [00:39<00:00, 50.91it/s]\n",
      "Gaps to fill in region 18: 100%|████████████████| 14/14 [00:00<00:00, 27.49it/s]\n",
      "Gaps to simplify in region 19: 100%|██████████| 858/858 [00:11<00:00, 76.57it/s]\n",
      "Gaps to fill in region 19: 100%|██████████████████| 8/8 [00:00<00:00, 19.29it/s]\n",
      "Gaps to simplify in region 20: 100%|██████████| 518/518 [00:08<00:00, 61.79it/s]\n",
      "Gaps to fill in region 20: 100%|████████████████| 18/18 [00:00<00:00, 29.77it/s]\n",
      "Gaps to simplify in region 21: 100%|██████████| 903/903 [00:29<00:00, 30.51it/s]\n",
      "Gaps to fill in region 21: 100%|██████████████████| 8/8 [00:00<00:00, 12.22it/s]\n",
      "Gaps to simplify in region 22: 100%|██████████| 762/762 [00:16<00:00, 46.48it/s]\n",
      "Gaps to fill in region 22: 100%|██████████████████| 9/9 [00:00<00:00, 24.39it/s]\n",
      "Gaps to simplify in region 23: 100%|██████████| 335/335 [00:03<00:00, 88.67it/s]\n",
      "Gaps to fill in region 23: 100%|██████████████████| 2/2 [00:00<00:00, 26.49it/s]\n",
      "Gaps to simplify in region 24: 100%|████████| 1977/1977 [01:30<00:00, 21.86it/s]\n",
      "Gaps to fill in region 24: 100%|██████████████████| 2/2 [00:00<00:00,  8.54it/s]\n",
      "Gaps to simplify in region 25: 100%|████████| 1276/1276 [00:46<00:00, 27.20it/s]\n",
      "Gaps to fill in region 25: 100%|██████████████████| 4/4 [00:00<00:00, 19.92it/s]\n",
      "Gaps to simplify in region 26: 100%|██████████| 463/463 [00:06<00:00, 72.01it/s]\n",
      "Gaps to fill in region 26: 100%|████████████████| 14/14 [00:00<00:00, 42.84it/s]\n",
      "Gaps to simplify in region 27: 100%|████████| 1293/1293 [00:16<00:00, 77.27it/s]\n",
      "Gaps to fill in region 27: 100%|██████████████████| 6/6 [00:00<00:00, 31.39it/s]\n",
      "Gaps to simplify in region 28: 100%|██████████| 469/469 [00:05<00:00, 87.63it/s]\n",
      "Gaps to fill in region 28: 100%|████████████████| 18/18 [00:00<00:00, 40.43it/s]\n",
      "Gaps to simplify in region 29: 100%|████████| 2552/2552 [02:15<00:00, 18.85it/s]\n",
      "Gaps to fill: 0it [00:00, ?it/s]\n",
      "Gaps to simplify in region 30: 100%|██████████| 308/308 [00:04<00:00, 73.60it/s]\n",
      "Gaps to fill in region 30: 100%|████████████████| 13/13 [00:00<00:00, 32.25it/s]\n",
      "Gaps to simplify in region 31: 100%|██████████| 578/578 [00:10<00:00, 56.32it/s]\n",
      "Gaps to fill in region 31: 100%|██████████████████| 6/6 [00:00<00:00, 24.74it/s]\n",
      "Gaps to simplify in region 32: 100%|████████| 1634/1634 [00:36<00:00, 44.65it/s]\n",
      "Gaps to fill in region 32: 100%|████████████████| 14/14 [00:00<00:00, 16.68it/s]\n",
      "Gaps to simplify in region 33: 100%|████████| 2382/2382 [00:59<00:00, 39.91it/s]\n",
      "Gaps to fill in region 33: 100%|██████████████████| 6/6 [00:00<00:00, 19.59it/s]\n",
      "Gaps to simplify in region 34: 100%|██████████| 421/421 [00:04<00:00, 96.46it/s]\n",
      "Gaps to fill in region 34: 100%|██████████████████| 5/5 [00:00<00:00, 45.49it/s]\n",
      "Gaps to simplify in region 35: 100%|████████| 1298/1298 [00:25<00:00, 49.96it/s]\n",
      "Gaps to fill in region 35: 100%|████████████████| 24/24 [00:00<00:00, 30.16it/s]\n",
      "Gaps to simplify in region 36: 100%|████████| 1869/1869 [00:30<00:00, 61.32it/s]\n",
      "Gaps to fill in region 36: 100%|██████████████████| 9/9 [00:00<00:00, 32.15it/s]\n",
      "Gaps to simplify in region 37: 100%|██████████| 306/306 [00:05<00:00, 55.14it/s]\n",
      "Gaps to fill in region 37: 100%|████████████████| 21/21 [00:01<00:00, 14.91it/s]\n",
      "Gaps to simplify in region 38: 100%|██████████| 806/806 [00:11<00:00, 72.63it/s]\n",
      "Gaps to fill in region 38: 100%|██████████████████| 9/9 [00:00<00:00, 33.36it/s]\n",
      "Gaps to simplify in region 39: 100%|██████████| 273/273 [00:03<00:00, 79.60it/s]\n",
      "Gaps to fill in region 39: 100%|██████████████████| 7/7 [00:00<00:00, 27.41it/s]\n",
      "Gaps to simplify in region 40: 100%|████████| 1146/1146 [00:26<00:00, 43.67it/s]\n",
      "Gaps to fill in region 40: 100%|██████████████████| 6/6 [00:00<00:00, 22.98it/s]\n",
      "Gaps to simplify in region 41: 100%|██████████| 393/393 [00:04<00:00, 94.36it/s]\n",
      "Gaps to fill in region 41: 100%|██████████████████| 4/4 [00:00<00:00, 17.95it/s]\n",
      "Gaps to simplify in region 42: 100%|██████████| 167/167 [00:02<00:00, 79.45it/s]\n",
      "Gaps to fill in region 42: 100%|██████████████████| 7/7 [00:00<00:00, 32.88it/s]\n",
      "Gaps to simplify in region 43: 100%|██████████| 912/912 [00:17<00:00, 52.25it/s]\n",
      "Gaps to fill in region 43: 100%|██████████████████| 9/9 [00:00<00:00, 26.82it/s]\n",
      "Gaps to simplify in region 44: 1726it [00:33, 50.78it/s]                        \n",
      "Gaps to fill in region 44: 100%|██████████████████| 6/6 [00:00<00:00, 13.02it/s]\n",
      "Gaps to simplify in region 45: 100%|████████| 1973/1973 [01:01<00:00, 32.12it/s]\n",
      "Gaps to fill in region 45: 100%|██████████████████| 7/7 [00:00<00:00, 13.99it/s]\n",
      "Gaps to simplify in region 46: 100%|█████████| 186/186 [00:01<00:00, 131.83it/s]\n",
      "Gaps to fill in region 46: 100%|██████████████████| 4/4 [00:00<00:00, 52.15it/s]\n",
      "Gaps to simplify in region 47: 100%|██████████| 289/289 [00:03<00:00, 83.19it/s]\n",
      "Gaps to fill in region 47: 100%|████████████████| 17/17 [00:00<00:00, 49.71it/s]\n",
      "Gaps to simplify in region 48: 100%|██████████| 830/830 [00:14<00:00, 56.20it/s]\n",
      "Gaps to fill in region 48: 100%|████████████████| 17/17 [00:00<00:00, 25.92it/s]\n",
      "Gaps to simplify in region 49: 100%|████████| 1504/1504 [00:26<00:00, 57.07it/s]\n",
      "Gaps to fill in region 49: 100%|██████████████████| 9/9 [00:00<00:00, 28.91it/s]\n",
      "Gaps to simplify in region 50: 100%|██████████| 827/827 [00:16<00:00, 48.83it/s]\n",
      "Gaps to fill in region 50: 100%|██████████████████| 5/5 [00:00<00:00, 24.46it/s]\n",
      "Gaps to simplify in region 51: 100%|█████████| 221/221 [00:01<00:00, 129.97it/s]\n",
      "Gaps to fill in region 51: 100%|██████████████████| 7/7 [00:00<00:00, 55.70it/s]\n",
      "Gaps to simplify in region 52: 100%|██████████| 271/271 [00:05<00:00, 50.89it/s]\n",
      "Gaps to fill in region 52: 100%|████████████████| 14/14 [00:00<00:00, 24.29it/s]\n",
      "Gaps to simplify in region 53: 100%|█████████| 189/189 [00:01<00:00, 100.44it/s]\n",
      "Gaps to fill in region 53: 100%|██████████████████| 5/5 [00:00<00:00, 36.07it/s]\n",
      "Gaps to simplify in region 54: 100%|██████████| 151/151 [00:05<00:00, 28.51it/s]\n",
      "Gaps to fill in region 54: 100%|████████████████| 10/10 [00:01<00:00,  7.65it/s]\n",
      "Gaps to simplify in region 55: 100%|████████| 2471/2471 [01:04<00:00, 38.40it/s]\n",
      "Gaps to fill in region 55: 100%|██████████████████| 6/6 [00:00<00:00, 28.92it/s]\n",
      "Gaps to simplify in region 56: 100%|██████████| 879/879 [00:16<00:00, 52.29it/s]\n",
      "Gaps to fill in region 56: 100%|████████████████| 13/13 [00:00<00:00, 44.40it/s]\n",
      "Gaps to simplify in region 57: 100%|██████████| 353/353 [00:03<00:00, 90.21it/s]\n",
      "Gaps to fill in region 57: 100%|██████████████████| 7/7 [00:00<00:00, 37.19it/s]\n",
      "Gaps to simplify in region 58: 100%|██████████| 757/757 [00:08<00:00, 92.29it/s]\n",
      "Gaps to fill in region 58: 100%|██████████████████| 6/6 [00:00<00:00, 39.42it/s]\n",
      "Gaps to simplify in region 59: 100%|█████████| 375/375 [00:03<00:00, 112.68it/s]\n",
      "Gaps to fill in region 59: 100%|████████████████| 15/15 [00:00<00:00, 28.39it/s]\n",
      "Gaps to simplify in region 60: 100%|█████████| 255/255 [00:01<00:00, 143.68it/s]\n",
      "Gaps to fill in region 60: 100%|██████████████████| 8/8 [00:00<00:00, 54.70it/s]\n",
      "Gaps to simplify in region 61: 100%|██████████| 319/319 [00:04<00:00, 74.09it/s]\n",
      "Gaps to fill in region 61: 100%|██████████████████| 6/6 [00:00<00:00, 54.76it/s]\n",
      "Gaps to simplify in region 62: 100%|██████████| 292/292 [00:03<00:00, 94.29it/s]\n",
      "Gaps to fill in region 62: 100%|██████████████████| 9/9 [00:00<00:00, 36.63it/s]\n",
      "Gaps to simplify in region 63: 100%|█████████| 211/211 [00:01<00:00, 108.48it/s]\n",
      "Gaps to fill in region 63: 100%|██████████████████| 8/8 [00:00<00:00, 43.79it/s]\n",
      "Gaps to simplify in region 64: 100%|█████████| 439/439 [00:04<00:00, 101.32it/s]\n",
      "Gaps to fill in region 64: 100%|██████████████████| 2/2 [00:00<00:00, 36.34it/s]\n",
      "Gaps to simplify in region 65: 100%|████████| 1451/1451 [00:33<00:00, 43.03it/s]\n",
      "Gaps to fill in region 65: 100%|██████████████████| 2/2 [00:00<00:00, 19.31it/s]\n",
      "Gaps to simplify in region 66: 100%|████████| 3112/3112 [02:49<00:00, 18.40it/s]\n",
      "Gaps to fill in region 66: 100%|██████████████████| 1/1 [00:00<00:00, 13.39it/s]\n",
      "Gaps to simplify in region 67: 100%|██████████| 476/476 [00:06<00:00, 69.16it/s]\n",
      "Gaps to fill in region 67: 100%|████████████████| 13/13 [00:00<00:00, 53.58it/s]\n",
      "Gaps to simplify in region 68: 100%|██████████| 633/633 [00:12<00:00, 51.00it/s]\n",
      "Gaps to fill in region 68: 100%|██████████████████| 2/2 [00:00<00:00, 18.71it/s]\n",
      "Gaps to simplify in region 69: 100%|██████████| 649/649 [00:14<00:00, 43.70it/s]\n",
      "Gaps to fill in region 69: 100%|████████████████| 13/13 [00:00<00:00, 15.29it/s]\n",
      "Gaps to simplify in region 70: 100%|██████████| 273/273 [00:03<00:00, 90.76it/s]\n",
      "Gaps to fill in region 70: 100%|████████████████| 15/15 [00:00<00:00, 30.20it/s]\n",
      "Gaps to simplify in region 71: 100%|█████████| 174/174 [00:01<00:00, 128.74it/s]\n",
      "Gaps to fill in region 71: 100%|██████████████████| 6/6 [00:00<00:00, 75.34it/s]\n",
      "Gaps to simplify in region 72: 100%|████████| 3423/3423 [01:43<00:00, 32.97it/s]\n",
      "Gaps to fill in region 72: 100%|██████████████████| 3/3 [00:00<00:00,  6.09it/s]\n",
      "Gaps to simplify in region 73: 100%|█████████| 224/224 [00:01<00:00, 130.10it/s]\n",
      "Gaps to fill in region 73: 100%|██████████████████| 7/7 [00:00<00:00, 63.37it/s]\n",
      "Gaps to simplify in region 74: 100%|██████████| 766/766 [00:10<00:00, 70.25it/s]\n",
      "Gaps to fill in region 74: 100%|██████████████████| 7/7 [00:00<00:00, 28.53it/s]\n"
     ]
    }
   ],
   "source": [
    "vest_base = add_vest_base(vest_base_data, start_col, year, county=county_df)"
   ]
  },
  {
   "cell_type": "code",
   "execution_count": 25,
   "metadata": {
    "scrolled": true
   },
   "outputs": [
    {
     "name": "stdout",
     "output_type": "stream",
     "text": [
      "[0.0, 0.0, 0.0, 0.0, 0.0, 0.0, 0.0, 0.0, 0.0, 0.0, 0.0, 0.0, 0.0, 0.0, 0.0, 0.0, 0.0, 0.0, 0.0, 0.0, 0.0, 0.0, 0.0, 0.0, 0.0, 0.0, 0.0, 0.0, 0.0, 0.0, 0.0, 0.0, 0.0, 0.0, 0.0, 0.0, 0.0, 0.0, 0.0, 0.0, 0.0, 0.0, 0.0, 0.0, 0.0, 0.0, 0.0, 0.0, 0.0, 0.0, 0.0, 0.0, 0.0, 0.0, 0.0, 0.0, 0.0, 0.0, 0.0, 0.0, 0.0, 0.0, 0.0, 0.0, 0.0, 0.0, 0.0, 0.0, 0.0, 0.0, 0.0, 0.0, 0.0, 0.0, 0.0, 0.0, 0.0, 0.0, 0.0, 0.0, 0.0, 0.0, 0.0, 0.0, 0.0, 0.0, 0.0, 0.0, 0.0, 0.0, 0.0, 0.0, 0.0, 0.0, 0.0, 0.0, 0.0, 0.0, 0.0, 0.0, 0.0, 0.0, 0.0, 0.0, 0.0, 0.0, 0.0, 0.0, 0.0, 0.0, 0.0, 0.0, 0.0, 0.0, 0.0, 0.0, 0.0, 0.0, 0.0, 0.0, 0.0, 0.0, 0.0, 0.0, 0.0, 0.0, 0.0, 0.0, 0.0, 0.0, 0.0, 0.0, 0.0, 0.0, 0.0, 0.0, 0.0, 0.0, 0.0, 0.0, 0.0, 0.0, 0.0, 0.0, 0.0, 0.0, 0.0, 0.0, 0.0, 0.0, 0.0, 0.0, 0.0, 0.0, 0.0, 0.0, 0.0, 0.0, 0.0, 0.0, 0.0, 0.0, 0.0, 0.0, 0.0, 0.0, 0.0, 0.0, 0.0, 0.0, 0.0, 0.0, 0.0, 0.0, 0.0, 0.0, 0.0, 0.0, 0.0, 0.0, 0.0, 0.0, 0.0, 0.0, 0.0, 0.0, 0.0, 0.0, 0.0, 0.0, 0.0, 0.0, 0.0, 0.0, 0.0, 0.0, 0.0, 0.0, 0.0, 0.0, 0.0, 0.0, 0.0, 0.0, 0.0, 0.0, 0.0, 0.0, 0.0, 0.0, 0.0, 0.0, 0.0, 0.0, 0.0, 0.0, 0.0, 0.0, 0.0, 0.0, 0.0, 0.0, 0.0, 0.0, 0.0, 0.0, 0.0, 0.0, 0.0, 0.0, 0.0, 0.0, 0.0, 0.0, 0.0, 0.0, 0.0, 0.0, 0.0, 0.0, 0.0, 0.0, 0.0, 0.0, 0.0, 0.0, 0.0, 0.0, 0.0, 0.0, 0.0, 0.0, 0.0, 0.0, 0.0, 0.0, 0.0, 0.0, 0.0, 0.0, 0.0, 0.0, 0.0, 0.0, 0.0, 0.0, 0.0, 0.0, 0.0, 0.0, 0.0, 0.0, 0.0, 0.0, 0.0, 0.0, 0.0, 0.0, 0.0, 0.0, 0.0, 0.0, 0.0, 0.0, 0.0, 0.0, 0.0, 0.0, 0.0, 0.0, 0.0, 0.0, 0.0, 0.0, 0.0, 0.0, 0.0, 0.0, 0.0, 0.0, 0.0, 0.0, 0.0, 0.0, 0.0, 0.0, 0.0, 0.0, 0.0, 0.0, 0.0, 0.0, 0.0, 0.0, 0.0, 0.0, 0.0, 0.0, 0.0, 0.0, 0.0, 0.0, 0.0, 0.0, 0.0, 0.0, 0.0, 0.0, 0.0, 0.0, 0.0, 0.0, 0.0, 0.0, 0.0, 0.0, 0.0, 0.0, 0.0, 0.0, 0.0, 0.0, 0.0, 0.0, 0.0, 0.0, 0.0, 0.0, 0.0, 0.0, 0.0, 0.0, 0.0, 0.0, 0.0, 0.0, 0.0, 0.0, 0.0, 0.0, 0.0, 0.0, 0.0, 0.0, 0.0, 0.0, 0.0, 0.0, 0.0, 0.0, 0.0, 0.0, 0.0, 0.0, 0.0, 0.0, 0.0, 0.0, 0.0, 0.0, 0.0, 0.0, 0.0, 0.0, 0.0, 0.0, 0.0, 0.0, 0.0, 0.0, 0.0, 0.0, 0.0, 0.0, 0.0, 0.0, 0.0, 0.0, 0.0, 0.0, 0.0, 0.0, 0.0, 0.0, 0.0, 0.0, 0.0, 0.0, 0.0, 0.0, 0.0, 0.0, 0.0, 0.0, 0.0, 0.0, 0.0, 0.0, 0.0, 0.0, 0.0, 0.0, 0.0, 0.0, 0.0, 0.0, 0.0, 0.0, 0.0, 0.0, 0.0, 0.0, 0.0, 0.0, 0.0, 0.0, 0.0, 0.0, 0.0, 0.0, 0.0, 0.0, 0.0, 0.0, 0.0, 0.0, 0.0, 0.0, 0.0, 0.0, 0.0, 0.0, 0.0, 0.0, 0.0, 0.0, 0.0, 0.0, 0.0, 0.0, 0.0, 0.0, 0.0, 0.0, 0.0, 0.0, 0.0, 0.0, 0.0, 0.0, 0.0, 0.0, 0.0, 0.0, 0.0, 0.0, 0.0, 0.0, 0.0, 0.0, 0.0, 0.0, 0.0, 0.0, 0.0, 0.0, 0.0, 0.0, 0.0, 0.0, 0.0, 0.0, 0.0, 0.0, 0.0, 0.0, 0.0, 0.0, 0.0, 0.0, 0.0, 0.0, 0.0, 0.0, 0.0, 0.0, 0.0, 0.0, 0.0, 0.0, 0.0, 0.0, 0.0, 0.0, 0.0, 0.0, 0.0, 0.0, 0.0, 0.0, 0.0, 0.0, 0.0, 0.0, 0.0, 0.0, 0.0, 0.0, 0.0, 0.0, 0.0, 0.0, 0.0, 0.0, 0.0, 0.0, 0.0, 0.0, 0.0, 0.0, 0.0, 0.0, 0.0, 0.0, 0.0, 0.0, 0.0, 0.0, 0.0, 0.0, 0.0, 0.0, 0.0, 0.0, 0.0, 0.0, 0.0, 0.0, 0.0, 0.0, 0.0, 0.0, 0.0, 0.0, 0.0, 0.0, 0.0, 0.0, 0.0, 0.0, 0.0, 0.0, 0.0, 0.0, 0.0, 0.0, 0.0, 0.0, 0.0, 0.0, 0.0, 0.0, 0.0, 0.0, 0.0, 0.0, 0.0, 0.0, 0.0, 0.0, 0.0, 0.0, 0.0, 0.0, 0.0, 0.0, 0.0, 0.0, 0.0, 0.0, 0.0, 0.0, 0.0, 0.0, 0.0, 0.0, 0.0, 0.0, 0.0, 0.0, 0.0, 0.0, 0.0, 0.0, 0.0, 0.0, 0.0, 0.0, 0.0, 0.0, 0.0, 0.0, 0.0, 0.0, 0.0, 0.0, 0.0, 0.0, 0.0, 0.0, 0.0, 0.0, 0.0, 0.0, 0.0, 0.0, 0.0, 0.0, 0.0, 0.0, 0.0, 0.0, 0.0, 0.0, 0.0, 0.0, 0.0, 0.0, 0.0, 0.0, 0.0, 0.0, 0.0, 0.0, 0.0, 0.0, 0.0, 0.0, 0.0, 0.0, 0.0, 0.0, 0.0, 0.0, 0.0, 0.0, 0.0, 0.0, 0.0, 0.0, 0.0, 0.0, 0.0, 0.0, 0.0, 0.0, 0.0, 0.0, 0.0, 0.0, 0.0, 0.0, 0.0, 0.0, 0.0, 0.0, 0.0, 0.0, 0.0, 0.0, 0.0, 0.0, 0.0, 0.0, 0.0, 0.0, 0.0, 0.0, 0.0, 0.0, 0.0, 0.0, 0.0, 0.0, 0.0, 0.0, 0.0, 0.0, 0.0, 0.0, 0.0, 0.0, 0.0, 0.0, 0.0, 0.0, 0.0, 0.0, 0.0, 0.0, 0.0, 0.0, 7.319117478604088e-08, 7.319117478604088e-08, 1.0000095498454011e-05, 1.0000095498454011e-05, 2.0013424036425645e-05, 2.0013424036425645e-05, 2.067345730393932e-05, 2.067345730393932e-05, 0.005484486239560334, 0.005484486239560334, 0.007561297525095476, 0.007561297525095476, 0.007784211326012565, 0.007784211326012565, 0.02871663769829631, 0.02871663769829631, 0.11875765236960387, 0.11875765236960387, 0.20832131430845333, 0.20832131430845333, 0.26189766684473714, 0.26189766684473714, 0.30245558349143165, 0.30245558349143165, 0.30527555586174754, 0.30527555586174754, 0.47764549618357377, 0.47764549618357377, 0.6309322705785713, 0.6309322705785713, 0.6496473408908855, 0.6496473408908855, 0.7655958157979602, 0.7655958157979602, 0.8372061154700363, 0.8372061154700363, 1.0511662332678344, 1.0511662332678344, 1.2515970519222328, 1.2515970519222328, 1.2735991640531485, 1.2735991640531485, 1.356137179674048, 1.356137179674048, 1.5117766535046255, 1.5117766535046255, 1.6287813358123846, 1.6287813358123846, 1.6960337556117764, 1.6960337556117764, 1.78663304087607, 1.78663304087607, 1.9801398031974107, 1.9801398031974107, 2.338412324709196, 2.338412324709196, 2.394759383065102, 2.394759383065102, 2.5093452326691414, 2.5093452326691414, 2.7642111424424516, 2.7642111424424516, 2.9315957476594936, 2.9315957476594936, 3.126037646589226, 3.126037646589226, 3.145314160118597, 3.145314160118597, 3.2110410304641976, 3.2110410304641976, 3.3611669464636833, 3.3611669464636833, 4.240140085053807, 4.240140085053807, 4.394255642299434, 4.394255642299434, 4.661890583139096, 4.661890583139096, 4.673033862551178, 4.673033862551178, 4.803862775973787, 4.803862775973787, 4.993586576791516, 4.993586576791516, 5.06461599868772, 5.06461599868772, 5.133867552893203, 5.133867552893203, 5.48926788658958, 5.48926788658958, 5.629897303677325, 5.629897303677325, 5.639332054416206, 5.639332054416206, 5.985985827606359, 5.985985827606359, 6.0864612806894725, 6.0864612806894725, 6.087787330392002, 6.087787330392002, 6.088511247413165, 6.088511247413165, 6.575747209351413, 6.575747209351413, 6.598798331940285, 6.598798331940285, 6.79943864506045, 6.79943864506045, 6.962109502845734, 6.962109502845734, 7.001467404040437, 7.001467404040437, 7.061158732398467, 7.061158732398467, 7.066130386550867, 7.066130386550867, 7.309137387298476, 7.309137387298476, 7.7668931127178436, 7.7668931127178436, 7.778639110987594, 7.778639110987594, 7.792043024341762, 7.792043024341762, 8.122977603942967, 8.122977603942967, 8.125661867685984, 8.125661867685984, 8.268766998813206, 8.268766998813206, 8.342292844015157, 8.342292844015157, 8.37184871589574, 8.37184871589574, 8.949491162721582, 8.949491162721582, 8.983956247185374, 8.983956247185374, 9.438135233687401, 9.438135233687401, 9.607564076876178, 9.607564076876178, 9.664821457223299, 9.664821457223299, 9.75022543558229, 9.75022543558229, 10.049690512504846, 10.049690512504846, 10.405387474913493, 10.405387474913493, 11.025394638157723, 11.025394638157723, 11.90706047561411, 11.90706047561411, 12.581677461284478, 12.581677461284478, 12.90619236701852, 12.90619236701852, 12.976465375532355, 12.976465375532355, 13.812281573347066, 13.812281573347066, 14.058617076634317, 14.058617076634317, 14.536265254993857, 14.536265254993857, 14.84558532252475, 14.84558532252475, 15.414325573823568, 15.414325573823568, 15.734849270301048, 15.734849270301048, 15.943424022449856, 15.943424022449856, 16.497353816866763, 16.497353816866763, 16.951079522690023, 16.951079522690023, 17.310006697958368, 17.310006697958368, 17.339144347512878, 17.339144347512878, 17.91181383248124, 17.91181383248124, 18.281582065647882, 18.281582065647882, 18.696467640543545, 18.696467640543545, 18.758652411561155, 18.758652411561155, 18.887386597917683, 18.887386597917683, 19.11834423758934, 19.11834423758934, 19.437466473224017, 19.437466473224017, 19.681683930336085, 19.681683930336085, 20.97395759117761, 20.97395759117761, 21.123025004183503, 21.123025004183503, 21.77130144594971, 21.77130144594971, 21.956207720461403, 21.956207720461403, 22.649447257540597, 22.649447257540597, 23.489420936685143, 23.489420936685143, 23.51305038030478, 23.51305038030478, 23.755820622294912, 23.755820622294912, 24.346749958175838, 24.346749958175838, 24.401395782614095, 24.401395782614095, 24.856514635973387, 24.856514635973387, 24.95983682780574, 24.95983682780574, 25.09389093884288, 25.09389093884288, 25.42531207215097, 25.42531207215097, 25.562834696544968, 25.562834696544968, 25.73703977540632, 25.73703977540632, 26.113933330870434, 26.113933330870434, 26.41411914212715, 26.41411914212715, 26.956480269178915, 26.956480269178915, 27.411718895981704, 27.411718895981704, 27.518218040757922, 27.518218040757922, 27.794058254707302, 27.794058254707302, 29.310205442701918, 29.310205442701918, 30.563896615745236, 30.563896615745236, 32.60677878262869, 32.60677878262869, 33.80802991068867, 33.80802991068867, 33.8146560368675, 33.8146560368675, 34.49513909655213, 34.49513909655213, 35.89108299921554, 35.89108299921554, 36.419835473375784, 36.419835473375784, 36.6797360186343, 36.6797360186343, 38.74884275388252, 38.74884275388252, 39.26527396572172, 39.26527396572172, 43.4242633649524, 43.4242633649524, 44.89447282252268, 44.89447282252268, 45.077646188241644, 45.077646188241644, 46.384428092656314, 46.384428092656314, 46.62087125060686, 46.62087125060686, 50.02156694961134, 50.02156694961134, 50.989885513869766, 50.989885513869766, 51.81360376199273, 51.81360376199273, 55.4100295614485, 55.4100295614485, 57.01328594413221, 57.01328594413221, 57.843433312017716, 57.843433312017716, 58.82811020075992, 58.82811020075993, 59.146828769133755, 59.146828769133755, 60.1770044726919, 60.1770044726919, 61.11469535169719, 61.11469535169719, 61.516163550936795, 61.516163550936795, 64.32851837547547, 64.32851837547547, 64.58348794320764, 64.58348794320764, 66.10385360496379, 66.1038536049638, 66.54438327723544, 66.54438327723544, 66.79316682596861, 66.79316682596861, 66.83081890059384, 66.83081890059384, 68.91564940272588, 68.91564940272588, 70.49856981075351, 70.49856981075351, 70.49993092339146, 70.49993092339146, 70.68545508794733, 70.68545508794735, 71.21321607979414, 71.21321607979414, 71.52569188752855, 71.52569188752855, 71.7933756016149, 71.7933756016149, 72.63636170191988, 72.63636170191988, 77.70489483194983, 77.70489483194984, 78.99317487356576, 78.99317487356576, 81.69719426170745, 81.69719426170745, 83.70799314078766, 83.70799314078768, 83.97716952617081, 83.97716952617081, 86.15286576407698, 86.15286576407698, 87.26388361202005, 87.26388361202005, 89.44571036566806, 89.44571036566806, 91.14241204154727, 91.14241204154727, 91.9053177068177, 91.9053177068177, 92.63184810093767, 92.63184810093767, 92.71272568902162, 92.71272568902162, 95.16002012563902, 95.16002012563902, 97.1498571511996, 97.1498571511996, 97.96303949005679, 97.9630394900568, 99.89956302644308, 99.89956302644308, 100.56155867139539, 100.56155867139539, 101.03033759343957, 101.03033759343957, 101.49188720404891, 101.49188720404891, 102.23654027905225, 102.23654027905225, 102.51541252054683, 102.51541252054685, 103.60464224247076, 103.60464224247076, 105.28929399768663, 105.28929399768663, 106.528254162106, 106.528254162106, 106.66398577312677, 106.66398577312677, 106.8014822786827, 106.80148227868271, 106.86322679867845, 106.86322679867845, 107.10234267633362, 107.10234267633362, 107.65193985881949, 107.6519398588195, 107.8142978776576, 107.8142978776576, 107.92482804819439, 107.9248280481944, 109.18479282591353, 109.18479282591353, 110.58277714496529, 110.58277714496529, 110.92438928172146, 110.92438928172147, 111.19229700811249, 111.19229700811249, 111.21313843967883, 111.21313843967883, 113.2797132392016, 113.2797132392016, 113.3098804220795, 113.30988042207953, 113.67174288902359, 113.6717428890236, 113.86929906204388, 113.86929906204388, 113.9621367781856, 113.96213677818561, 115.80168675755745, 115.80168675755746, 116.81481830827059, 116.81481830827059, 116.99639697015718, 116.99639697015718, 117.64138035306156, 117.64138035306156, 117.86342111746558, 117.86342111746558, 118.6122992701145, 118.6122992701145, 119.59219486477248, 119.59219486477248, 120.53508886685346, 120.5350888668535, 122.10736860483529, 122.10736860483529, 124.29824169536833, 124.29824169536835, 124.47419512918982, 124.47419512918982, 126.738266450885, 126.738266450885, 127.4198939926017, 127.4198939926017, 127.61580331133968, 127.61580331133969, 128.90144123407683, 128.90144123407686, 130.41555994001757, 130.4155599400176, 131.54718431177935, 131.54718431177935, 132.15092556095462, 132.15092556095465, 133.43060438518614, 133.43060438518614, 134.7668183992844, 134.7668183992844, 135.12552734034847, 135.12552734034847, 136.24419715778586, 136.2441971577859, 139.85332624934009, 139.85332624934009, 143.43340445630074, 143.43340445630076, 144.8955552335639, 144.8955552335639, 145.21652017939942, 145.21652017939942, 145.77469810106606, 145.77469810106606, 146.00791532871995, 146.00791532871995, 146.08027302809347, 146.08027302809347, 149.7039209608954, 149.7039209608954, 153.63396990136536, 153.6339699013654, 154.10917882676077, 154.10917882676077, 155.8901050381537, 155.8901050381537, 156.7850463038712, 156.7850463038712, 156.85655849516343, 156.85655849516343, 161.55683990476015, 161.55683990476015, 161.60742795863703, 161.60742795863706, 164.435102833911, 164.435102833911, 165.57030561892128, 165.5703056189213, 166.5030449135552, 166.5030449135552, 168.2529093902176, 168.2529093902176, 172.70788556173986, 172.70788556173986, 173.6669914183152, 173.6669914183152, 174.84947402217665, 174.84947402217665, 177.18152756727474, 177.18152756727474, 180.3798333408807, 180.3798333408807, 180.6915614480473, 180.69156144804734, 180.70095646050765, 180.70095646050765, 180.8628437850165, 180.8628437850165, 181.73739861953212, 181.73739861953212, 182.347643834409, 182.347643834409, 182.59418838234154, 182.59418838234154, 183.17875805830616, 183.1787580583062, 183.50801549683834, 183.50801549683837, 183.81218738558252, 183.81218738558255, 184.11388746866876, 184.11388746866876, 187.11262241843053, 187.11262241843053, 187.2746940266193, 187.2746940266193, 190.51405006459564, 190.51405006459564, 192.56716575512064, 192.56716575512067, 193.14424485987269, 193.14424485987269, 193.79052976647571, 193.79052976647571, 194.32252419769978, 194.32252419769978, 195.93459547533516, 195.9345954753352, 196.1899184394589, 196.1899184394589, 196.94075377324958, 196.94075377324958, 197.95785410811067, 197.95785410811067, 198.580097314753, 198.580097314753, 198.7723799834609, 198.77237998346095, 199.6469183476193, 199.6469183476193, 200.18777285868543, 200.18777285868543, 200.48247902494205, 200.48247902494205, 200.6623812551157, 200.66238125511572, 201.02736545411472, 201.02736545411472, 201.07046564564882, 201.07046564564882, 201.08205104344444, 201.08205104344447, 201.70366734615192, 201.70366734615192, 201.77271667112637, 201.77271667112637, 202.72721729573487, 202.72721729573487, 202.8492278640357, 202.8492278640357, 203.08543529578208, 203.08543529578208, 203.66726804335326, 203.6672680433533, 207.0416035499437, 207.0416035499437, 207.61351642763682, 207.61351642763682, 208.53631668481282, 208.53631668481282, 209.3361713254317, 209.3361713254317, 210.35878731858446, 210.35878731858446, 210.45065941629838, 210.45065941629838, 210.87649512073315, 210.87649512073315, 214.04439074472774, 214.04439074472774, 215.2594934644666, 215.2594934644666, 215.61137773852283, 215.6113777385229, 217.1819593470067, 217.1819593470067, 217.53303347353506, 217.53303347353506, 218.09336175816102, 218.09336175816102, 218.51341196062856, 218.51341196062856, 219.81687420739385, 219.81687420739388, 220.0421873385088, 220.04218733850882, 223.3696269762921, 223.36962697629212, 225.39452734447318, 225.39452734447318, 225.41609236733714, 225.41609236733714, 227.0100596830174, 227.0100596830174, 227.16848223987216, 227.16848223987216, 229.2008037910808, 229.2008037910808, 230.72721232808073, 230.72721232808073, 231.4994561973365, 231.4994561973365, 231.83507900167731, 231.83507900167731, 232.50619317921803, 232.50619317921806, 232.740143201636, 232.740143201636, 234.3207783344643, 234.3207783344643, 234.83580962653713, 234.83580962653716, 235.45021484698117, 235.4502148469812, 236.65724149372468, 236.6572414937247, 238.1096464613648, 238.1096464613648, 239.63178033063593, 239.63178033063596, 240.5465904932808, 240.5465904932808, 243.44791705750762, 243.44791705750762, 243.7479548241362, 243.7479548241362, 243.75060562431847, 243.75060562431847, 246.0893451265248, 246.08934512652482, 246.35988758824925, 246.35988758824925, 246.53412595371466, 246.5341259537147, 246.736297243779, 246.736297243779, 246.98590204415711, 246.98590204415711, 247.4864491653272, 247.4864491653272, 247.57513581847167, 247.57513581847167, 251.74567580336884, 251.7456758033689, 252.99089485784538, 252.99089485784538, 253.7547269951453, 253.7547269951453, 258.63599691938884, 258.63599691938884, 260.04858357205336, 260.04858357205336, 260.55259563223643, 260.55259563223643, 261.43308848444, 261.43308848444, 261.79735438955476, 261.79735438955476, 263.7049944786806, 263.7049944786806, 265.96733816074095, 265.96733816074095, 266.09976801935466, 266.09976801935466, 266.3274747939811, 266.3274747939811, 267.8800824825032, 267.8800824825032, 267.935466639436, 267.935466639436, 268.1244830901464, 268.12448309014644, 268.2623464051203, 268.2623464051203, 269.15575194897093, 269.15575194897093, 269.1603595961484, 269.1603595961484, 269.6379010361608, 269.6379010361608, 270.3817843296359, 270.3817843296359, 270.51048441971267, 270.51048441971267, 271.51702536027966, 271.51702536027966, 272.5981440817224, 272.5981440817224, 272.8354179192179, 272.8354179192179, 273.30850859978295, 273.30850859978295, 273.4270277801063, 273.42702778010636, 274.6455200463744, 274.64552004637443, 276.3349125036788, 276.3349125036789, 278.2950113659307, 278.2950113659307, 279.5389918355937, 279.5389918355937, 279.78209967784153, 279.7820996778416, 281.4553018610248, 281.4553018610248, 281.62192537157887, 281.62192537157887, 283.11078206036234, 283.11078206036234, 285.6114662967874, 285.6114662967874, 286.01764659998634, 286.0176465999864, 286.3289738962019, 286.3289738962019, 286.4484351836727, 286.4484351836727, 288.15036330636525, 288.15036330636525, 289.18403168416677, 289.1840316841668, 289.2802428982822, 289.2802428982822, 289.76015563259347, 289.76015563259347, 292.69364877981116, 292.69364877981116, 295.27688138075075, 295.27688138075075, 295.7071782069403, 295.7071782069403, 296.4246299052218, 296.4246299052218, 298.07189358912825, 298.07189358912825, 298.1800844241624, 298.18008442416243, 298.69886656099413, 298.69886656099413, 301.608559109176, 301.608559109176, 302.56792588145765, 302.56792588145765, 307.9208113967093, 307.9208113967093, 309.4584846649966, 309.45848466499666, 312.8587773991964, 312.85877739919647, 313.2798562561175, 313.27985625611757, 313.3971504160943, 313.3971504160943, 316.41245007570615, 316.41245007570615, 316.5404550614905, 316.5404550614905, 317.6808192451403, 317.68081924514036, 317.74023188886997, 317.74023188886997, 318.64777253225463, 318.6477725322547, 319.95146750378865, 319.95146750378865, 320.1573907499659, 320.15739074996594, 320.27640869716754, 320.27640869716754, 320.9774857754975, 320.9774857754975, 321.6059076804579, 321.6059076804579, 323.0884312161153, 323.0884312161153, 324.4450576134767, 324.4450576134767, 325.0996077262321, 325.0996077262321, 325.72052766465674, 325.72052766465674, 326.8248681541856, 326.8248681541856, 327.8964401948724, 327.89644019487247, 329.26726201820503, 329.2672620182051, 331.22742058683394, 331.22742058683394, 331.80000320216635, 331.8000032021664, 335.7001465541192, 335.7001465541192, 336.696904197133, 336.696904197133, 336.96542300720347, 336.9654230072035, 337.39245477066584, 337.39245477066584, 338.0813960266724, 338.0813960266724, 338.1199673996964, 338.11996739969646, 338.24656885655594, 338.24656885655594, 339.3447490631288, 339.3447490631288, 339.5730757358567, 339.5730757358567, 341.3505060114977, 341.3505060114977, 341.5783554630946, 341.5783554630946, 344.3148809595131, 344.3148809595131, 345.2039000941308, 345.2039000941308, 348.02846804924036, 348.02846804924036, 351.9401246742322, 351.9401246742322, 352.2025296911555, 352.2025296911556, 352.9542513383047, 352.95425133830474, 354.97791012574373, 354.97791012574373, 356.12949324077664, 356.12949324077664, 356.3048733961979, 356.3048733961979, 356.57045137712157, 356.57045137712157, 357.67718137116196, 357.6771813711621, 359.4688758842508, 359.4688758842508, 360.7270279451595, 360.7270279451595, 361.7677067890275, 361.76770678902756, 362.64039336860543, 362.64039336860543, 363.96972450514124, 363.96972450514124, 365.3504217271159, 365.3504217271159, 366.3814520007193, 366.3814520007194, 367.30824782909565, 367.3082478290957, 368.13911110588265, 368.13911110588265, 369.30577572048514, 369.3057757204852, 369.5819265411916, 369.5819265411916, 372.45786855835325, 372.4578685583534, 372.6966297929762, 372.6966297929762, 373.7231143909442, 373.72311439094426, 374.00267203410624, 374.00267203410624, 374.69033778464143, 374.69033778464143, 376.5254888124884, 376.5254888124884, 377.93465260883374, 377.9346526088338, 378.90038140075194, 378.90038140075194, 380.1978494446109, 380.1978494446109, 380.827061259194, 380.82706125919407, 381.4554517791759, 381.4554517791759, 382.5807928503489, 382.5807928503489, 384.72513459005654, 384.7251345900566, 386.06726874047905, 386.06726874047905, 386.4720213777835, 386.47202137778356, 387.25546790696103, 387.25546790696103, 387.3741529945698, 387.37415299456984, 387.4045976962211, 387.4045976962212, 387.42304970268077, 387.4230497026808, 388.4702296315054, 388.4702296315054, 390.30712322828026, 390.3071232282803, 391.0715718290494, 391.0715718290494, 391.2495460629565, 391.2495460629565, 391.8309805852558, 391.83098058525593, 394.42695514167553, 394.42695514167553, 396.0034074243016, 396.0034074243016, 396.3149655062144, 396.3149655062144, 396.5585934185187, 396.5585934185187, 396.6893248828691, 396.6893248828691, 396.9353539233804, 396.9353539233804, 398.5776835748587, 398.5776835748588, 398.88002611729377, 398.88002611729377, 398.8898618952811, 398.8898618952811, 399.2925409250613, 399.29254092506136, 399.39093494589844, 399.39093494589844, 399.47195308495645, 399.47195308495645, 399.51498310627824, 399.51498310627824, 399.5736299345056, 399.5736299345056, 399.64954767543907, 399.6495476754391, 399.9440912268153, 399.9440912268153, 400.0134076478292, 400.0134076478292, 400.0999313251151, 400.09993132511516, 400.16446108490106, 400.16446108490106, 400.75630807182125, 400.7563080718213, 401.0008955887418, 401.0008955887418, 401.4797972002515, 401.4797972002515, 401.9759737174546, 401.9759737174547, 402.04142026725003, 402.04142026725003, 402.1112835682294, 402.11128356822945, 402.4619836018756, 402.46198360187566, 402.5799127349976, 402.5799127349977, 402.8433900569913, 402.84339005699144]\n"
     ]
    }
   ],
   "source": [
    "borders = check_small_boundary_lengths(vest_base)\n",
    "print(borders[:1700])"
   ]
  },
  {
   "cell_type": "code",
   "execution_count": 26,
   "metadata": {},
   "outputs": [
    {
     "name": "stdout",
     "output_type": "stream",
     "text": [
      "Snapping all geometries to a grid with precision 10^( -3 ) to avoid GEOS errors.\n",
      "Identifying overlaps...\n"
     ]
    },
    {
     "name": "stderr",
     "output_type": "stream",
     "text": [
      "100%|█████████████████████████████████████| 2910/2910 [00:00<00:00, 3339.59it/s]\n"
     ]
    },
    {
     "name": "stdout",
     "output_type": "stream",
     "text": [
      "Resolving overlaps...\n",
      "Assigning order 2 pieces...\n",
      "Assigning order 3 pieces...\n",
      "Filling gaps...\n"
     ]
    },
    {
     "name": "stderr",
     "output_type": "stream",
     "text": [
      "Gaps to simplify: 0it [00:00, ?it/s]\n",
      "Gaps to fill: 0it [00:00, ?it/s]\n"
     ]
    },
    {
     "name": "stdout",
     "output_type": "stream",
     "text": [
      "WARNING: A component of the geometry at index 2560 may have been disconnected!\n",
      "WARNING: A component of the geometry at index 2583 may have been disconnected!\n",
      "Converting small rook adjacencies to queen...\n"
     ]
    },
    {
     "name": "stderr",
     "output_type": "stream",
     "text": [
      "100%|██████████████████████████████████████| 2591/2591 [00:03<00:00, 858.17it/s]\n",
      "100%|███████████████████████████████████████████| 4/4 [00:00<00:00, 2515.70it/s]\n",
      "100%|███████████████████████████████████████████| 4/4 [00:00<00:00, 2192.24it/s]\n",
      "100%|███████████████████████████████████████████| 5/5 [00:00<00:00, 2526.69it/s]\n",
      "100%|███████████████████████████████████████████| 5/5 [00:00<00:00, 2599.99it/s]\n",
      "100%|███████████████████████████████████████████| 5/5 [00:00<00:00, 2229.35it/s]\n",
      "100%|███████████████████████████████████████████| 5/5 [00:00<00:00, 2681.09it/s]\n",
      "100%|███████████████████████████████████████████| 4/4 [00:00<00:00, 2023.30it/s]\n",
      "100%|███████████████████████████████████████████| 4/4 [00:00<00:00, 2558.67it/s]\n",
      "100%|███████████████████████████████████████████| 4/4 [00:00<00:00, 2704.69it/s]\n",
      "100%|███████████████████████████████████████████| 4/4 [00:00<00:00, 2484.41it/s]\n",
      "100%|███████████████████████████████████████████| 4/4 [00:00<00:00, 2651.27it/s]\n",
      "100%|███████████████████████████████████████████| 4/4 [00:00<00:00, 1565.48it/s]\n",
      "100%|███████████████████████████████████████████| 6/6 [00:00<00:00, 2752.17it/s]\n",
      "100%|███████████████████████████████████████████| 4/4 [00:00<00:00, 2578.73it/s]\n",
      "100%|███████████████████████████████████████████| 4/4 [00:00<00:00, 2533.17it/s]\n",
      "100%|███████████████████████████████████████████| 4/4 [00:00<00:00, 2697.30it/s]\n",
      "100%|███████████████████████████████████████████| 4/4 [00:00<00:00, 2736.01it/s]\n",
      "100%|███████████████████████████████████████████| 4/4 [00:00<00:00, 2495.12it/s]\n",
      "100%|███████████████████████████████████████████| 5/5 [00:00<00:00, 2659.67it/s]\n",
      "100%|███████████████████████████████████████████| 5/5 [00:00<00:00, 2860.27it/s]\n",
      "100%|███████████████████████████████████████████| 4/4 [00:00<00:00, 1804.39it/s]\n",
      "100%|███████████████████████████████████████████| 4/4 [00:00<00:00, 2739.14it/s]\n",
      "100%|███████████████████████████████████████████| 4/4 [00:00<00:00, 2659.25it/s]\n",
      "100%|███████████████████████████████████████████| 4/4 [00:00<00:00, 2704.69it/s]\n",
      "100%|███████████████████████████████████████████| 4/4 [00:00<00:00, 2640.42it/s]\n",
      "100%|███████████████████████████████████████████| 4/4 [00:00<00:00, 2789.69it/s]\n",
      "100%|███████████████████████████████████████████| 4/4 [00:00<00:00, 2863.01it/s]\n",
      "100%|███████████████████████████████████████████| 4/4 [00:00<00:00, 2050.00it/s]\n",
      "100%|███████████████████████████████████████████| 4/4 [00:00<00:00, 2095.32it/s]\n",
      "100%|███████████████████████████████████████████| 4/4 [00:00<00:00, 2395.38it/s]\n",
      "100%|███████████████████████████████████████████| 4/4 [00:00<00:00, 2865.45it/s]\n",
      "100%|███████████████████████████████████████████| 4/4 [00:00<00:00, 2607.59it/s]\n",
      "100%|███████████████████████████████████████████| 4/4 [00:00<00:00, 1896.59it/s]\n",
      "100%|███████████████████████████████████████████| 4/4 [00:00<00:00, 2358.34it/s]\n",
      "100%|███████████████████████████████████████████| 4/4 [00:00<00:00, 2028.44it/s]\n",
      "100%|███████████████████████████████████████████| 4/4 [00:00<00:00, 2592.28it/s]\n",
      "100%|███████████████████████████████████████████| 5/5 [00:00<00:00, 2351.07it/s]\n",
      "100%|███████████████████████████████████████████| 4/4 [00:00<00:00, 2495.12it/s]\n",
      "100%|███████████████████████████████████████████| 5/5 [00:00<00:00, 2834.76it/s]\n",
      "100%|███████████████████████████████████████████| 4/4 [00:00<00:00, 2270.26it/s]\n",
      "100%|███████████████████████████████████████████| 4/4 [00:00<00:00, 2917.78it/s]\n",
      "100%|███████████████████████████████████████████| 4/4 [00:00<00:00, 2813.08it/s]\n",
      "100%|███████████████████████████████████████████| 4/4 [00:00<00:00, 2296.05it/s]\n",
      "100%|███████████████████████████████████████████| 4/4 [00:00<00:00, 2235.47it/s]\n",
      "100%|███████████████████████████████████████████| 5/5 [00:00<00:00, 2602.57it/s]\n",
      "100%|███████████████████████████████████████████| 4/4 [00:00<00:00, 2271.49it/s]\n",
      "100%|███████████████████████████████████████████| 6/6 [00:00<00:00, 3025.83it/s]\n",
      "100%|███████████████████████████████████████████| 6/6 [00:00<00:00, 2919.81it/s]\n",
      "100%|███████████████████████████████████████████| 6/6 [00:00<00:00, 2924.22it/s]\n",
      "100%|███████████████████████████████████████████| 6/6 [00:00<00:00, 1391.45it/s]\n",
      "100%|███████████████████████████████████████████| 5/5 [00:00<00:00, 2101.57it/s]\n",
      "100%|███████████████████████████████████████████| 4/4 [00:00<00:00, 1930.41it/s]\n",
      "100%|███████████████████████████████████████████| 4/4 [00:00<00:00, 1839.81it/s]\n",
      "100%|███████████████████████████████████████████| 5/5 [00:00<00:00, 1683.38it/s]\n",
      "100%|███████████████████████████████████████████| 4/4 [00:00<00:00, 2811.20it/s]\n",
      "100%|███████████████████████████████████████████| 4/4 [00:00<00:00, 2184.53it/s]\n",
      "100%|███████████████████████████████████████████| 4/4 [00:00<00:00, 2602.33it/s]\n",
      "100%|███████████████████████████████████████████| 5/5 [00:00<00:00, 2250.40it/s]\n",
      "100%|███████████████████████████████████████████| 4/4 [00:00<00:00, 2453.89it/s]\n",
      "100%|███████████████████████████████████████████| 4/4 [00:00<00:00, 2867.41it/s]\n",
      "100%|███████████████████████████████████████████| 4/4 [00:00<00:00, 2304.25it/s]\n",
      "100%|███████████████████████████████████████████| 4/4 [00:00<00:00, 2476.71it/s]\n",
      "100%|███████████████████████████████████████████| 4/4 [00:00<00:00, 2369.33it/s]\n",
      "100%|███████████████████████████████████████████| 5/5 [00:00<00:00, 2702.52it/s]\n",
      "100%|███████████████████████████████████████████| 4/4 [00:00<00:00, 2621.44it/s]\n",
      "100%|███████████████████████████████████████████| 5/5 [00:00<00:00, 2332.24it/s]\n",
      "100%|███████████████████████████████████████████| 4/4 [00:00<00:00, 2737.80it/s]\n",
      "100%|███████████████████████████████████████████| 4/4 [00:00<00:00, 2737.80it/s]\n",
      "100%|███████████████████████████████████████████| 4/4 [00:00<00:00, 2678.78it/s]\n",
      "100%|███████████████████████████████████████████| 4/4 [00:00<00:00, 2654.62it/s]\n",
      "100%|███████████████████████████████████████████| 4/4 [00:00<00:00, 2674.09it/s]\n",
      "100%|███████████████████████████████████████████| 5/5 [00:00<00:00, 2148.50it/s]\n",
      "100%|███████████████████████████████████████████| 4/4 [00:00<00:00, 2116.73it/s]\n",
      "100%|███████████████████████████████████████████| 4/4 [00:00<00:00, 2436.42it/s]\n",
      "100%|███████████████████████████████████████████| 4/4 [00:00<00:00, 2452.45it/s]\n",
      "100%|███████████████████████████████████████████| 5/5 [00:00<00:00, 2838.21it/s]\n",
      "100%|███████████████████████████████████████████| 5/5 [00:00<00:00, 2771.81it/s]\n",
      "100%|███████████████████████████████████████████| 4/4 [00:00<00:00, 2543.16it/s]\n",
      "100%|███████████████████████████████████████████| 4/4 [00:00<00:00, 2619.39it/s]\n",
      "100%|███████████████████████████████████████████| 4/4 [00:00<00:00, 2800.87it/s]\n",
      "100%|███████████████████████████████████████████| 4/4 [00:00<00:00, 2545.09it/s]\n",
      "100%|███████████████████████████████████████████| 5/5 [00:00<00:00, 2732.09it/s]\n",
      "100%|███████████████████████████████████████████| 4/4 [00:00<00:00, 2087.50it/s]\n",
      "100%|███████████████████████████████████████████| 4/4 [00:00<00:00, 2541.23it/s]\n",
      "100%|███████████████████████████████████████████| 4/4 [00:00<00:00, 2723.13it/s]\n",
      "100%|███████████████████████████████████████████| 4/4 [00:00<00:00, 1693.47it/s]\n",
      "100%|███████████████████████████████████████████| 4/4 [00:00<00:00, 1752.01it/s]\n",
      "100%|███████████████████████████████████████████| 4/4 [00:00<00:00, 2270.26it/s]\n",
      "100%|███████████████████████████████████████████| 4/4 [00:00<00:00, 2512.31it/s]\n",
      "100%|███████████████████████████████████████████| 4/4 [00:00<00:00, 2109.81it/s]\n",
      "100%|███████████████████████████████████████████| 4/4 [00:00<00:00, 2783.21it/s]\n",
      "100%|███████████████████████████████████████████| 4/4 [00:00<00:00, 2195.40it/s]\n",
      "100%|███████████████████████████████████████████| 4/4 [00:00<00:00, 2358.34it/s]\n",
      "100%|███████████████████████████████████████████| 4/4 [00:00<00:00, 2211.31it/s]\n",
      "100%|███████████████████████████████████████████| 4/4 [00:00<00:00, 2560.63it/s]\n",
      "100%|███████████████████████████████████████████| 4/4 [00:00<00:00, 2413.99it/s]\n",
      "100%|███████████████████████████████████████████| 5/5 [00:00<00:00, 2407.20it/s]\n",
      "100%|███████████████████████████████████████████| 5/5 [00:00<00:00, 2805.93it/s]\n",
      "100%|███████████████████████████████████████████| 4/4 [00:00<00:00, 2642.08it/s]\n",
      "100%|███████████████████████████████████████████| 5/5 [00:00<00:00, 2483.89it/s]\n",
      "100%|███████████████████████████████████████████| 5/5 [00:00<00:00, 2905.45it/s]\n",
      "100%|███████████████████████████████████████████| 4/4 [00:00<00:00, 2411.21it/s]\n",
      "100%|███████████████████████████████████████████| 4/4 [00:00<00:00, 2343.19it/s]\n",
      "100%|███████████████████████████████████████████| 4/4 [00:00<00:00, 2597.09it/s]\n",
      "100%|████████████████████████████████████████████| 4/4 [00:00<00:00, 682.58it/s]\n",
      "100%|███████████████████████████████████████████| 4/4 [00:00<00:00, 1866.62it/s]\n",
      "100%|███████████████████████████████████████████| 4/4 [00:00<00:00, 2466.15it/s]\n",
      "100%|███████████████████████████████████████████| 4/4 [00:00<00:00, 2536.62it/s]\n",
      "100%|███████████████████████████████████████████| 5/5 [00:00<00:00, 2746.76it/s]\n",
      "100%|███████████████████████████████████████████| 6/6 [00:00<00:00, 3174.70it/s]\n",
      "100%|███████████████████████████████████████████| 4/4 [00:00<00:00, 2375.37it/s]\n",
      "100%|███████████████████████████████████████████| 4/4 [00:00<00:00, 2254.70it/s]\n",
      "100%|███████████████████████████████████████████| 4/4 [00:00<00:00, 2493.64it/s]\n",
      "100%|███████████████████████████████████████████| 4/4 [00:00<00:00, 2318.90it/s]\n",
      "100%|███████████████████████████████████████████| 4/4 [00:00<00:00, 2628.01it/s]\n",
      "100%|███████████████████████████████████████████| 4/4 [00:00<00:00, 2741.82it/s]\n",
      "100%|██████████████████████████████████████| 2591/2591 [00:02<00:00, 870.52it/s]\n"
     ]
    }
   ],
   "source": [
    "vest_base = do_smart_repair(vest_base, min_rook_length = 30.5)"
   ]
  },
  {
   "cell_type": "code",
   "execution_count": 27,
   "metadata": {},
   "outputs": [
    {
     "name": "stderr",
     "output_type": "stream",
     "text": [
      "100%|██████████████████████████████████████| 2591/2591 [00:02<00:00, 907.42it/s]\n"
     ]
    },
    {
     "data": {
      "text/plain": [
       "True"
      ]
     },
     "execution_count": 27,
     "metadata": {},
     "output_type": "execute_result"
    }
   ],
   "source": [
    "maup.doctor(vest_base)"
   ]
  },
  {
   "cell_type": "markdown",
   "metadata": {},
   "source": [
    "## If it is true for maup doctor, we will use it as the base vest data."
   ]
  },
  {
   "cell_type": "code",
   "execution_count": 28,
   "metadata": {},
   "outputs": [
    {
     "name": "stderr",
     "output_type": "stream",
     "text": [
      "100%|██████████████████████████████████████| 2591/2591 [00:03<00:00, 800.35it/s]\n",
      "100%|██████████████████████████████████████| 2591/2591 [00:15<00:00, 169.58it/s]\n"
     ]
    }
   ],
   "source": [
    "# vap and population have the same GEOID20\n",
    "blocks_to_precincts_assignment = maup.assign(population_df.geometry, vest_base.geometry)"
   ]
  },
  {
   "cell_type": "code",
   "execution_count": 29,
   "metadata": {},
   "outputs": [],
   "source": [
    "vest_base[pop_col] = population_df[pop_col].groupby(blocks_to_precincts_assignment).sum()"
   ]
  },
  {
   "cell_type": "code",
   "execution_count": 30,
   "metadata": {},
   "outputs": [],
   "source": [
    "election_df = gpd.GeoDataFrame(vest_base)"
   ]
  },
  {
   "cell_type": "code",
   "execution_count": 31,
   "metadata": {},
   "outputs": [
    {
     "data": {
      "text/plain": [
       "Index(['COUNTY_FIP', 'COUNTY_NAM', 'PRE20D', 'PRE20O', 'PRE20R', 'PRECINCT',\n",
       "       'STATE_FIPS', 'USS20D', 'USS20R', 'geometry', 'TOTPOP', 'HISP',\n",
       "       'NH_WHITE', 'NH_BLACK', 'NH_AMIN', 'NH_ASIAN', 'NH_NHPI', 'NH_OTHER',\n",
       "       'NH_2MORE', 'H_WHITE', 'H_BLACK', 'H_AMIN', 'H_ASIAN', 'H_NHPI',\n",
       "       'H_OTHER', 'H_2MORE', 'VAP', 'HVAP', 'WVAP', 'BVAP', 'AMINVAP',\n",
       "       'ASIANVAP', 'NHPIVAP', 'OTHERVAP', '2MOREVAP'],\n",
       "      dtype='object')"
      ]
     },
     "execution_count": 31,
     "metadata": {},
     "output_type": "execute_result"
    }
   ],
   "source": [
    "election_df.columns"
   ]
  },
  {
   "cell_type": "markdown",
   "metadata": {},
   "source": [
    "## Check if population agrees"
   ]
  },
  {
   "cell_type": "code",
   "execution_count": 32,
   "metadata": {},
   "outputs": [
    {
     "name": "stdout",
     "output_type": "stream",
     "text": [
      "population agrees\n"
     ]
    }
   ],
   "source": [
    "check_population(population_df, vest_base)"
   ]
  },
  {
   "cell_type": "markdown",
   "metadata": {},
   "source": [
    "## Add more vest data"
   ]
  },
  {
   "cell_type": "code",
   "execution_count": 33,
   "metadata": {},
   "outputs": [],
   "source": [
    "vest18 = gpd.read_file(vest18_data)\n",
    "vest16 = gpd.read_file(vest16_data)"
   ]
  },
  {
   "cell_type": "code",
   "execution_count": 34,
   "metadata": {},
   "outputs": [
    {
     "data": {
      "text/plain": [
       "Index(['COUNTY_FIP', 'COUNTY_NAM', 'PRECINCT', 'G18GOVRHUT', 'G18GOVDHEN',\n",
       "       'G18GOVLWES', 'G18LTGRGRI', 'G18LTGDBLA', 'G18LTGLGIL', 'G18ATGRRUT',\n",
       "       'G18ATGDLEE', 'G18ATGLHIC', 'G18SOSRTHU', 'G18SOSDINM', 'G18SOSLOLS',\n",
       "       'G18TRERMIL', 'G18TRELEWA', 'G18AUDRLEA', 'G18AUDLDIN', 'G18LNDRLAN',\n",
       "       'G18LNDDWIL', 'G18LNDLCAM', 'geometry'],\n",
       "      dtype='object')"
      ]
     },
     "execution_count": 34,
     "metadata": {},
     "output_type": "execute_result"
    }
   ],
   "source": [
    "vest18.columns"
   ]
  },
  {
   "cell_type": "code",
   "execution_count": 35,
   "metadata": {},
   "outputs": [
    {
     "data": {
      "text/plain": [
       "Index(['COUNTY_FIP', 'COUNTY_NAM', 'PRECINCT', 'G16PRERTRU', 'G16PREDCLI',\n",
       "       'G16PRELJOH', 'G16PREOMCM', 'G16PREGSTE', 'G16PREIHED', 'G16PRECCAS',\n",
       "       'G16PREIKAH', 'G16USSRBOO', 'G16USSDELD', 'G16USSLGIL', 'G16USSOWRI',\n",
       "       'geometry'],\n",
       "      dtype='object')"
      ]
     },
     "execution_count": 35,
     "metadata": {},
     "output_type": "execute_result"
    }
   ],
   "source": [
    "vest16.columns"
   ]
  },
  {
   "cell_type": "code",
   "execution_count": 36,
   "metadata": {},
   "outputs": [
    {
     "name": "stderr",
     "output_type": "stream",
     "text": [
      "100%|██████████████████████████████████████| 2617/2617 [00:03<00:00, 854.52it/s]\n"
     ]
    },
    {
     "name": "stdout",
     "output_type": "stream",
     "text": [
      "There are 121 overlaps.\n",
      "There are 626 holes.\n",
      "There are some invalid geometries.\n",
      "Snapping all geometries to a grid with precision 10^( -3 ) to avoid GEOS errors.\n",
      "Identifying overlaps...\n"
     ]
    },
    {
     "name": "stderr",
     "output_type": "stream",
     "text": [
      "100%|█████████████████████████████████████| 3769/3769 [00:01<00:00, 2361.42it/s]\n"
     ]
    },
    {
     "name": "stdout",
     "output_type": "stream",
     "text": [
      "Resolving overlaps...\n",
      "Assigning order 2 pieces...\n",
      "Filling gaps...\n"
     ]
    },
    {
     "name": "stderr",
     "output_type": "stream",
     "text": [
      "Gaps to simplify: 100%|███████████████████████| 478/478 [01:41<00:00,  4.71it/s]\n",
      "Gaps to fill: 100%|█████████████████████████████| 22/22 [00:06<00:00,  3.36it/s]\n",
      "100%|█████████████████████████████████████| 2617/2617 [00:02<00:00, 1036.56it/s]\n",
      "100%|██████████████████████████████████████| 2617/2617 [00:03<00:00, 705.98it/s]\n",
      "100%|██████████████████████████████████████| 2617/2617 [00:13<00:00, 189.81it/s]\n",
      "100%|██████████████████████████████████████| 2591/2591 [00:03<00:00, 742.47it/s]\n",
      "100%|██████████████████████████████████████| 2591/2591 [00:14<00:00, 176.83it/s]\n"
     ]
    },
    {
     "name": "stdout",
     "output_type": "stream",
     "text": [
      "population agrees\n"
     ]
    }
   ],
   "source": [
    "# check the result here\n",
    "start_col = 3\n",
    "election_df = add_vest(vest18, election_df, '18', population_df, start_col, snap_precision=8)"
   ]
  },
  {
   "cell_type": "code",
   "execution_count": 37,
   "metadata": {},
   "outputs": [
    {
     "name": "stderr",
     "output_type": "stream",
     "text": [
      "100%|██████████████████████████████████████| 2525/2525 [00:02<00:00, 925.50it/s]\n"
     ]
    },
    {
     "name": "stdout",
     "output_type": "stream",
     "text": [
      "There are 147 overlaps.\n",
      "There are 815 holes.\n",
      "There are some invalid geometries.\n",
      "Snapping all geometries to a grid with precision 10^( -3 ) to avoid GEOS errors.\n",
      "Identifying overlaps...\n"
     ]
    },
    {
     "name": "stderr",
     "output_type": "stream",
     "text": [
      "100%|█████████████████████████████████████| 3864/3864 [00:00<00:00, 4029.60it/s]\n"
     ]
    },
    {
     "name": "stdout",
     "output_type": "stream",
     "text": [
      "Resolving overlaps...\n",
      "Assigning order 2 pieces...\n",
      "Filling gaps...\n"
     ]
    },
    {
     "name": "stderr",
     "output_type": "stream",
     "text": [
      "Gaps to simplify: 100%|███████████████████████| 568/568 [01:45<00:00,  5.40it/s]\n",
      "Gaps to fill: 100%|█████████████████████████████| 28/28 [00:06<00:00,  4.37it/s]\n",
      "100%|█████████████████████████████████████| 2525/2525 [00:02<00:00, 1034.88it/s]\n",
      "100%|██████████████████████████████████████| 2525/2525 [00:03<00:00, 776.10it/s]\n",
      "100%|██████████████████████████████████████| 2525/2525 [00:12<00:00, 194.78it/s]\n",
      "100%|██████████████████████████████████████| 2591/2591 [00:03<00:00, 834.29it/s]\n",
      "100%|██████████████████████████████████████| 2591/2591 [00:14<00:00, 184.56it/s]\n"
     ]
    },
    {
     "name": "stdout",
     "output_type": "stream",
     "text": [
      "population agrees\n"
     ]
    }
   ],
   "source": [
    "start_col = 3\n",
    "election_df = add_vest(vest16, election_df, '16', population_df, start_col, snap_precision=8)"
   ]
  },
  {
   "cell_type": "markdown",
   "metadata": {},
   "source": [
    "##  Add the district data"
   ]
  },
  {
   "cell_type": "code",
   "execution_count": 38,
   "metadata": {},
   "outputs": [],
   "source": [
    "cd = gpd.read_file(cd_data)\n",
    "cd = cd.to_crs(cd.estimate_utm_crs())\n",
    "send = gpd.read_file(send_data)\n",
    "send = send.to_crs(send.estimate_utm_crs())\n",
    "hdist = gpd.read_file(hdist_data)\n",
    "hdist = hdist.to_crs(hdist.estimate_utm_crs())"
   ]
  },
  {
   "cell_type": "code",
   "execution_count": 39,
   "metadata": {},
   "outputs": [
    {
     "data": {
      "text/html": [
       "<div>\n",
       "<style scoped>\n",
       "    .dataframe tbody tr th:only-of-type {\n",
       "        vertical-align: middle;\n",
       "    }\n",
       "\n",
       "    .dataframe tbody tr th {\n",
       "        vertical-align: top;\n",
       "    }\n",
       "\n",
       "    .dataframe thead th {\n",
       "        text-align: right;\n",
       "    }\n",
       "</style>\n",
       "<table border=\"1\" class=\"dataframe\">\n",
       "  <thead>\n",
       "    <tr style=\"text-align: right;\">\n",
       "      <th></th>\n",
       "      <th>ID</th>\n",
       "      <th>DISTRICT</th>\n",
       "      <th>DISTRICTN</th>\n",
       "      <th>geometry</th>\n",
       "    </tr>\n",
       "  </thead>\n",
       "  <tbody>\n",
       "    <tr>\n",
       "      <th>0</th>\n",
       "      <td>1</td>\n",
       "      <td>1</td>\n",
       "      <td>1</td>\n",
       "      <td>POLYGON ((606123.904 3773088.021, 606459.009 3...</td>\n",
       "    </tr>\n",
       "    <tr>\n",
       "      <th>1</th>\n",
       "      <td>2</td>\n",
       "      <td>2</td>\n",
       "      <td>2</td>\n",
       "      <td>POLYGON ((517571.181 3826170.575, 517572.197 3...</td>\n",
       "    </tr>\n",
       "    <tr>\n",
       "      <th>2</th>\n",
       "      <td>3</td>\n",
       "      <td>3</td>\n",
       "      <td>3</td>\n",
       "      <td>POLYGON ((396163.763 3887937.789, 396016.742 3...</td>\n",
       "    </tr>\n",
       "    <tr>\n",
       "      <th>3</th>\n",
       "      <td>4</td>\n",
       "      <td>4</td>\n",
       "      <td>4</td>\n",
       "      <td>POLYGON ((368873.493 3892128.791, 368876.673 3...</td>\n",
       "    </tr>\n",
       "  </tbody>\n",
       "</table>\n",
       "</div>"
      ],
      "text/plain": [
       "   ID DISTRICT  DISTRICTN                                           geometry\n",
       "0   1        1          1  POLYGON ((606123.904 3773088.021, 606459.009 3...\n",
       "1   2        2          2  POLYGON ((517571.181 3826170.575, 517572.197 3...\n",
       "2   3        3          3  POLYGON ((396163.763 3887937.789, 396016.742 3...\n",
       "3   4        4          4  POLYGON ((368873.493 3892128.791, 368876.673 3..."
      ]
     },
     "execution_count": 39,
     "metadata": {},
     "output_type": "execute_result"
    }
   ],
   "source": [
    "cd.head()"
   ]
  },
  {
   "cell_type": "code",
   "execution_count": 40,
   "metadata": {},
   "outputs": [
    {
     "name": "stderr",
     "output_type": "stream",
     "text": [
      "100%|█████████████████████████████████████████████| 4/4 [00:00<00:00, 53.80it/s]\n",
      "100%|█████████████████████████████████████████████| 4/4 [00:00<00:00, 41.19it/s]\n",
      "100%|█████████████████████████████████████████████| 4/4 [00:00<00:00,  5.33it/s]\n"
     ]
    }
   ],
   "source": [
    "election_df = add_district(cd, \"CD\", election_df, \"DISTRICT\")"
   ]
  },
  {
   "cell_type": "code",
   "execution_count": 41,
   "metadata": {},
   "outputs": [
    {
     "data": {
      "text/html": [
       "<div>\n",
       "<style scoped>\n",
       "    .dataframe tbody tr th:only-of-type {\n",
       "        vertical-align: middle;\n",
       "    }\n",
       "\n",
       "    .dataframe tbody tr th {\n",
       "        vertical-align: top;\n",
       "    }\n",
       "\n",
       "    .dataframe thead th {\n",
       "        text-align: right;\n",
       "    }\n",
       "</style>\n",
       "<table border=\"1\" class=\"dataframe\">\n",
       "  <thead>\n",
       "    <tr style=\"text-align: right;\">\n",
       "      <th></th>\n",
       "      <th>objectid</th>\n",
       "      <th>id</th>\n",
       "      <th>district</th>\n",
       "      <th>districtn</th>\n",
       "      <th>st_area(sh</th>\n",
       "      <th>st_length(</th>\n",
       "      <th>geometry</th>\n",
       "    </tr>\n",
       "  </thead>\n",
       "  <tbody>\n",
       "    <tr>\n",
       "      <th>0</th>\n",
       "      <td>36</td>\n",
       "      <td>1</td>\n",
       "      <td>1</td>\n",
       "      <td>1.0</td>\n",
       "      <td>1.098196e+10</td>\n",
       "      <td>781762.354242</td>\n",
       "      <td>POLYGON ((671266.595 3653254.481, 671147.816 3...</td>\n",
       "    </tr>\n",
       "    <tr>\n",
       "      <th>1</th>\n",
       "      <td>37</td>\n",
       "      <td>2</td>\n",
       "      <td>2</td>\n",
       "      <td>2.0</td>\n",
       "      <td>8.782117e+09</td>\n",
       "      <td>673477.622005</td>\n",
       "      <td>POLYGON ((501657.882 3678621.624, 501658.439 3...</td>\n",
       "    </tr>\n",
       "    <tr>\n",
       "      <th>2</th>\n",
       "      <td>38</td>\n",
       "      <td>3</td>\n",
       "      <td>3</td>\n",
       "      <td>3.0</td>\n",
       "      <td>9.699264e+09</td>\n",
       "      <td>678299.140530</td>\n",
       "      <td>POLYGON ((498390.386 3653206.732, 498355.736 3...</td>\n",
       "    </tr>\n",
       "    <tr>\n",
       "      <th>3</th>\n",
       "      <td>39</td>\n",
       "      <td>4</td>\n",
       "      <td>4</td>\n",
       "      <td>4.0</td>\n",
       "      <td>6.782729e+09</td>\n",
       "      <td>580337.546669</td>\n",
       "      <td>POLYGON ((402931.937 3689887.422, 402942.053 3...</td>\n",
       "    </tr>\n",
       "    <tr>\n",
       "      <th>4</th>\n",
       "      <td>40</td>\n",
       "      <td>5</td>\n",
       "      <td>5</td>\n",
       "      <td>5.0</td>\n",
       "      <td>1.250595e+10</td>\n",
       "      <td>733191.551857</td>\n",
       "      <td>POLYGON ((458710.203 3781632.405, 458685.972 3...</td>\n",
       "    </tr>\n",
       "  </tbody>\n",
       "</table>\n",
       "</div>"
      ],
      "text/plain": [
       "   objectid  id district  districtn    st_area(sh     st_length(  \\\n",
       "0        36   1        1        1.0  1.098196e+10  781762.354242   \n",
       "1        37   2        2        2.0  8.782117e+09  673477.622005   \n",
       "2        38   3        3        3.0  9.699264e+09  678299.140530   \n",
       "3        39   4        4        4.0  6.782729e+09  580337.546669   \n",
       "4        40   5        5        5.0  1.250595e+10  733191.551857   \n",
       "\n",
       "                                            geometry  \n",
       "0  POLYGON ((671266.595 3653254.481, 671147.816 3...  \n",
       "1  POLYGON ((501657.882 3678621.624, 501658.439 3...  \n",
       "2  POLYGON ((498390.386 3653206.732, 498355.736 3...  \n",
       "3  POLYGON ((402931.937 3689887.422, 402942.053 3...  \n",
       "4  POLYGON ((458710.203 3781632.405, 458685.972 3...  "
      ]
     },
     "execution_count": 41,
     "metadata": {},
     "output_type": "execute_result"
    }
   ],
   "source": [
    "send.head()"
   ]
  },
  {
   "cell_type": "code",
   "execution_count": 43,
   "metadata": {},
   "outputs": [
    {
     "name": "stderr",
     "output_type": "stream",
     "text": [
      "100%|██████████████████████████████████████████| 35/35 [00:00<00:00, 120.84it/s]\n",
      "100%|██████████████████████████████████████████| 35/35 [00:00<00:00, 253.62it/s]\n",
      "100%|███████████████████████████████████████████| 35/35 [00:01<00:00, 20.61it/s]\n"
     ]
    }
   ],
   "source": [
    "election_df = add_district(send, \"SEND\", election_df, \"district\")"
   ]
  },
  {
   "cell_type": "code",
   "execution_count": 44,
   "metadata": {},
   "outputs": [
    {
     "data": {
      "text/html": [
       "<div>\n",
       "<style scoped>\n",
       "    .dataframe tbody tr th:only-of-type {\n",
       "        vertical-align: middle;\n",
       "    }\n",
       "\n",
       "    .dataframe tbody tr th {\n",
       "        vertical-align: top;\n",
       "    }\n",
       "\n",
       "    .dataframe thead th {\n",
       "        text-align: right;\n",
       "    }\n",
       "</style>\n",
       "<table border=\"1\" class=\"dataframe\">\n",
       "  <thead>\n",
       "    <tr style=\"text-align: right;\">\n",
       "      <th></th>\n",
       "      <th>ID</th>\n",
       "      <th>DISTRICT</th>\n",
       "      <th>DISTRICTN</th>\n",
       "      <th>geometry</th>\n",
       "    </tr>\n",
       "  </thead>\n",
       "  <tbody>\n",
       "    <tr>\n",
       "      <th>0</th>\n",
       "      <td>1</td>\n",
       "      <td>1</td>\n",
       "      <td>1</td>\n",
       "      <td>POLYGON ((717643.782 3989881.400, 717602.679 3...</td>\n",
       "    </tr>\n",
       "    <tr>\n",
       "      <th>1</th>\n",
       "      <td>2</td>\n",
       "      <td>2</td>\n",
       "      <td>2</td>\n",
       "      <td>POLYGON ((673390.938 3998407.649, 673389.407 3...</td>\n",
       "    </tr>\n",
       "    <tr>\n",
       "      <th>2</th>\n",
       "      <td>3</td>\n",
       "      <td>3</td>\n",
       "      <td>3</td>\n",
       "      <td>POLYGON ((542169.916 4039347.650, 542553.294 4...</td>\n",
       "    </tr>\n",
       "    <tr>\n",
       "      <th>3</th>\n",
       "      <td>4</td>\n",
       "      <td>4</td>\n",
       "      <td>4</td>\n",
       "      <td>POLYGON ((509834.473 3996625.542, 509838.835 3...</td>\n",
       "    </tr>\n",
       "    <tr>\n",
       "      <th>4</th>\n",
       "      <td>5</td>\n",
       "      <td>5</td>\n",
       "      <td>5</td>\n",
       "      <td>POLYGON ((509834.473 3996625.542, 508821.258 3...</td>\n",
       "    </tr>\n",
       "  </tbody>\n",
       "</table>\n",
       "</div>"
      ],
      "text/plain": [
       "   ID DISTRICT  DISTRICTN                                           geometry\n",
       "0   1        1          1  POLYGON ((717643.782 3989881.400, 717602.679 3...\n",
       "1   2        2          2  POLYGON ((673390.938 3998407.649, 673389.407 3...\n",
       "2   3        3          3  POLYGON ((542169.916 4039347.650, 542553.294 4...\n",
       "3   4        4          4  POLYGON ((509834.473 3996625.542, 509838.835 3...\n",
       "4   5        5          5  POLYGON ((509834.473 3996625.542, 508821.258 3..."
      ]
     },
     "execution_count": 44,
     "metadata": {},
     "output_type": "execute_result"
    }
   ],
   "source": [
    "hdist.head()"
   ]
  },
  {
   "cell_type": "code",
   "execution_count": 45,
   "metadata": {},
   "outputs": [
    {
     "name": "stderr",
     "output_type": "stream",
     "text": [
      "100%|████████████████████████████████████████| 100/100 [00:00<00:00, 205.84it/s]\n",
      "100%|████████████████████████████████████████| 100/100 [00:00<00:00, 590.93it/s]\n",
      "100%|█████████████████████████████████████████| 100/100 [00:02<00:00, 46.55it/s]\n"
     ]
    }
   ],
   "source": [
    "election_df = add_district(hdist, \"HDIST\", election_df, \"DISTRICT\")"
   ]
  },
  {
   "cell_type": "code",
   "execution_count": 46,
   "metadata": {},
   "outputs": [
    {
     "name": "stderr",
     "output_type": "stream",
     "text": [
      "100%|██████████████████████████████████████| 2591/2591 [00:03<00:00, 854.62it/s]\n"
     ]
    },
    {
     "data": {
      "text/plain": [
       "True"
      ]
     },
     "execution_count": 46,
     "metadata": {},
     "output_type": "execute_result"
    }
   ],
   "source": [
    "maup.doctor(election_df)"
   ]
  },
  {
   "cell_type": "markdown",
   "metadata": {},
   "source": [
    "### Put the base precinct year after the precinct information column"
   ]
  },
  {
   "cell_type": "code",
   "execution_count": 47,
   "metadata": {},
   "outputs": [],
   "source": [
    "base_columns = {}\n",
    "if 'COUNTY_FIP' + year not in election_df.columns:\n",
    "    base_columns = {\n",
    "        'COUNTY_FIP':'COUNTY_FIP'+year,\n",
    "        'COUNTY_NAM':'COUNTY_NAM'+year,\n",
    "        'PRECINCT':'PRECINCT'+year,\n",
    "        'STATE_FIPS':'STATE_FIPS'+year,\n",
    "    }\n",
    "election_df.rename(columns=base_columns, inplace = True)"
   ]
  },
  {
   "cell_type": "code",
   "execution_count": 48,
   "metadata": {},
   "outputs": [],
   "source": [
    "# reorder the columns\n",
    "fixed_columns = [\n",
    "    'COUNTY_FIP'+year,\n",
    "    'COUNTY_NAM'+year,\n",
    "    'PRECINCT'+year,\n",
    "    'STATE_FIPS'+year,\n",
    "    'CD',\n",
    "    'SEND',\n",
    "    'HDIST',\n",
    "    'TOTPOP',\n",
    "    'NH_2MORE',\n",
    "    'NH_AMIN',\n",
    "    'NH_ASIAN',\n",
    "    'NH_BLACK',\n",
    "    'NH_NHPI',\n",
    "    'NH_OTHER',\n",
    "    'NH_WHITE',\n",
    "    'HISP',\n",
    "    'H_AMIN',\n",
    "    'H_ASIAN',\n",
    "    'H_BLACK',\n",
    "    'H_NHPI',\n",
    "    'H_OTHER',\n",
    "    'H_WHITE',\n",
    "    'H_2MORE',\n",
    "    'VAP',\n",
    "    'HVAP',\n",
    "    'WVAP',\n",
    "    'BVAP',\n",
    "    'AMINVAP',\n",
    "    'ASIANVAP',\n",
    "    'NHPIVAP',\n",
    "    'OTHERVAP',\n",
    "    '2MOREVAP']\n",
    "\n",
    "election_columns = [col for col in election_df.columns if col not in fixed_columns]\n",
    "final_col = fixed_columns + election_columns\n",
    "election_df = election_df[final_col]"
   ]
  },
  {
   "cell_type": "code",
   "execution_count": 49,
   "metadata": {},
   "outputs": [],
   "source": [
    "import os\n",
    "\n",
    "# store the result in directory \"il\"\n",
    "directory = \"./{}\".format(state_ab)\n",
    "if not os.path.exists(directory):\n",
    "    os.makedirs(directory)\n",
    "\n",
    "shapefile_path = \"./{}/{}.shp\".format(state_ab, state_ab)\n",
    "geojson_path = './{}/{}.geojson'.format(state_ab, state_ab)\n",
    "json_path = \"./{}.json\".format(state_ab, state_ab)\n",
    "\n",
    "# Check if the shapefile or geojson file already exists\n",
    "if os.path.exists(shapefile_path):\n",
    "    os.remove(shapefile_path)\n",
    "if os.path.exists(geojson_path):\n",
    "    os.remove(geojson_path)\n",
    "\n",
    "election_df.to_file(shapefile_path)\n",
    "election_df.to_file(geojson_path, driver='GeoJSON')\n",
    "\n",
    "# Only do once to build json and read from file when generating ensembles\n",
    "graph = Graph.from_file(shapefile_path, ignore_errors=True)\n",
    "graph.to_json(json_path)"
   ]
  },
  {
   "cell_type": "code",
   "execution_count": 50,
   "metadata": {},
   "outputs": [
    {
     "data": {
      "text/plain": [
       "<Axes: >"
      ]
     },
     "execution_count": 50,
     "metadata": {},
     "output_type": "execute_result"
    },
    {
     "data": {
      "image/png": "[encoded data removed]",
      "text/plain": [
       "<Figure size 640x480 with 1 Axes>"
      ]
     },
     "metadata": {},
     "output_type": "display_data"
    }
   ],
   "source": [
    "shapefile_path = \"./{}/{}.shp\".format(state_ab, state_ab)\n",
    "shape=gpd.read_file(shapefile_path)\n",
    "shape.plot()"
   ]
  },
  {
   "cell_type": "code",
   "execution_count": null,
   "metadata": {},
   "outputs": [],
   "source": []
  }
 ],
 "metadata": {
  "kernelspec": {
   "display_name": "maup",
   "language": "python",
   "name": "maup"
  },
  "language_info": {
   "codemirror_mode": {
    "name": "ipython",
    "version": 3
   },
   "file_extension": ".py",
   "mimetype": "text/x-python",
   "name": "python",
   "nbconvert_exporter": "python",
   "pygments_lexer": "ipython3",
   "version": "3.12.6"
  }
 },
 "nbformat": 4,
 "nbformat_minor": 4
}
